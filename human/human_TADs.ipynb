{
 "cells": [
  {
   "cell_type": "code",
   "execution_count": 1,
   "metadata": {},
   "outputs": [],
   "source": [
    "import pandas as pd\n",
    "import numpy as np\n",
    "import seaborn as sns\n",
    "import matplotlib as mpl\n",
    "import matplotlib.pyplot as plt"
   ]
  },
  {
   "cell_type": "code",
   "execution_count": 75,
   "metadata": {},
   "outputs": [],
   "source": [
    "# set initial properties for data location\n",
    "data_location = \"matrices/\"\n",
    "armatus_location = \"./armatus\"\n",
    "out_location = \"yielded/\"\n",
    "lines = [\"A549_NA_NA_\", \"HEK293_siRNA-CTCF_NA_\", \"HEK293_siRNA-Control_NA_\", \"HepG2_NA_NA_\", \"RAD21cv-HEK293_HRV-treated_NA_\", \"RAD21cv-HEK293_TEV-treated_NA_\"]\n",
    "chroms = [\"15\", \"16\", \"17\", \"18\", \"19\", \"20\", \"21\", \"22\", \"Y\"]\n",
    "repls = [1, 2]\n",
    "res = 20000\n",
    "NaN = np.nan\n",
    "compare_stats = [\"JI TADs\", \"JI boundaries\", \"OC TADs\", \"OC boundaries\"]\n",
    "images = \"images/\""
   ]
  },
  {
   "cell_type": "code",
   "execution_count": 149,
   "metadata": {},
   "outputs": [],
   "source": [
    "# set ranges for algorithms\n",
    "armatus_gamma = [i / 2 for i in range(-10, 11)]\n",
    "modularity_gamma = list(range(41))\n",
    "corner_gamma = list(range(11))\n",
    "ii_cutoff_values = list(range(21))\n",
    "ii_window_values = [res * i for i in list(np.arange(0.5, 5, 0.5))]\n",
    "di_cutoff_values = [i for i in range(5, 16)]\n",
    "di_window_values = [res * i for i in range(1, 5)]\n",
    "ii_enh_cutoff_values = [i / 10 for i in range(0, 11)]\n",
    "ii_enh_window_values = [res * i for i in range(1, 5)]"
   ]
  },
  {
   "cell_type": "code",
   "execution_count": 28,
   "metadata": {},
   "outputs": [],
   "source": [
    "# custom functions\n",
    "vector_str = np.vectorize(str)\n",
    "\n",
    "def TAD_bins(arr1, arr2):\n",
    "    vector_str = np.vectorize(str)\n",
    "    return npchar.add(vector_str(arr1), npchar.add(\",\", vector_str(arr2)))\n",
    "\n",
    "def TAD_boundaries(arr1, arr2):\n",
    "    return np.unique(np.append(arr1, arr2))\n",
    "\n",
    "def jaccard_index(arr1, arr2):\n",
    "    intersection = np.isin(arr1, arr2)\n",
    "    return sum(intersection) / (arr1.shape[0] + arr2.shape[0] - sum(intersection))\n",
    "\n",
    "def overlap_coef(arr1, arr2):\n",
    "    intersection = np.isin(arr1, arr2)\n",
    "    return sum(intersection) / min(arr1.shape[0], arr2.shape[0])\n",
    "\n",
    "def size_amount(arr1, arr2):\n",
    "    return {1: {\"size\":np.mean(arr1[:, 1] - arr1[:, 0]),\n",
    "                \"amount\": arr1.shape[0]\n",
    "               },\n",
    "            2: {\"size\":np.mean(arr2[:, 1] - arr2[:, 0]),\n",
    "                \"amount\": arr2.shape[0]\n",
    "               }\n",
    "           }"
   ]
  },
  {
   "cell_type": "code",
   "execution_count": 5,
   "metadata": {},
   "outputs": [],
   "source": [
    "# define other custom functions and dictionary for handling them\n",
    "def JI_TADs(arr1_1, arr1_2, arr2_1, arr2_2):\n",
    "    return jaccard_index(TAD_bins(arr1_1, arr1_2), TAD_bins(arr2_1, arr2_2))\n",
    "\n",
    "def JI_boundaries(arr1_1, arr1_2, arr2_1, arr2_2):\n",
    "    return jaccard_index(TAD_boundaries(arr1_1, arr1_2), TAD_boundaries(arr2_1, arr2_2))\n",
    "\n",
    "def OC_TADs(arr1_1, arr1_2, arr2_1, arr2_2):\n",
    "    return overlap_coef(TAD_bins(arr1_1, arr1_2), TAD_bins(arr2_1, arr2_2))\n",
    "\n",
    "def OC_boundaries(arr1_1, arr1_2, arr2_1, arr2_2):\n",
    "    return overlap_coef(TAD_boundaries(arr1_1, arr1_2), TAD_boundaries(arr2_1, arr2_2))\n",
    "\n",
    "coefs = {\"JI TADs\": JI_TADs, \"JI boundaries\": JI_boundaries, \"OC TADs\": OC_TADs, \"OC boundaries\": OC_boundaries}"
   ]
  },
  {
   "cell_type": "code",
   "execution_count": 63,
   "metadata": {},
   "outputs": [
    {
     "name": "stdout",
     "output_type": "stream",
     "text": [
      "Finished.                                            mma=5.0       \n"
     ]
    }
   ],
   "source": [
    "# convert armatus tad coordinates for further handling\n",
    "for line in lines:\n",
    "    for repl in repls:\n",
    "        for chrom in chroms:\n",
    "            for gamma in armatus_gamma:\n",
    "                print(f\"\\rline={line} chrom={chrom} repl={repl} gamma={gamma}     \", end=\"\")\n",
    "                try:\n",
    "                    tads = pd.read_csv(f\"{out_location}armatus_{line}{repl}.20000.chr{chrom}.{gamma}.consensus.txt\", comment = \"#\", sep = \"\\t\", header=None)\n",
    "                except pd.io.common.EmptyDataError:\n",
    "                    with open(f\"{out_location}armatus_{line}{repl}.20000.chr{chrom}.gamma{gamma}.txt\", \"w\"):\n",
    "                        continue\n",
    "                del tads[0]\n",
    "                tads[2] = tads[2] + 1\n",
    "                tads.to_csv(f\"{out_location}armatus_{line}{repl}.20000.chr{chrom}.gamma{gamma}.txt\", sep=\"\\t\", header=None, index=False)\n",
    "print(\"\\rFinished.                                            \")    "
   ]
  },
  {
   "cell_type": "code",
   "execution_count": 6,
   "metadata": {},
   "outputs": [
    {
     "name": "stdout",
     "output_type": "stream",
     "text": [
      "RAD21cv-HEK293_TEV-treated_NA_2.2000.chrY           "
     ]
    }
   ],
   "source": [
    "# make region bed files for tadtool\n",
    "for line in lines:\n",
    "    for repl in repls:\n",
    "        for chrom in chroms:\n",
    "            print(f\"\\r{line}{repl}.20000.chr{chrom}\" + \" \" * 10, end=\"\")\n",
    "            matrix = np.loadtxt(f\"{data_location}{line}{repl}.20000.chr{chrom}.txt.gz\")\n",
    "            ndim = matrix.shape[0]\n",
    "            regions = np.empty(shape=(ndim, 3), dtype=\"object\")\n",
    "            regions[:, 0] = chrom\n",
    "            starts = np.array([i * res for i in range(ndim)], dtype=\"int\")\n",
    "            regions[:, 1] = starts\n",
    "            regions[:, 2] = starts + res\n",
    "            np.savetxt(f\"{data_location}{line}{repl}.20000.chr{chrom}.bed\", regions, delimiter=\"\\t\", fmt=\"%s\")"
   ]
  },
  {
   "cell_type": "code",
   "execution_count": 66,
   "metadata": {},
   "outputs": [
    {
     "name": "stdout",
     "output_type": "stream",
     "text": [
      "lavaburst armatus RAD21cv-HEK293_TEV-treated_NA_ Y       "
     ]
    },
    {
     "data": {
      "image/png": "[encoded data removed]",
      "text/plain": [
       "<matplotlib.figure.Figure at 0x1d8ee4fac88>"
      ]
     },
     "metadata": {},
     "output_type": "display_data"
    }
   ],
   "source": [
    "# Inspect initial results for lavaburst armatus\n",
    "lava_armatus_stats = pd.DataFrame(index=range(len(chroms) * len(armatus_gamma) * len(repls) * len(compare_stats)), columns=[\"repl\", \"chrom\", \"gamma\", \"value\", \"stat\", \"tad_size\", \"amount\"])\n",
    "index = 0\n",
    "for line in lines:\n",
    "    for chrom in chroms:\n",
    "        for gamma in armatus_gamma:\n",
    "            print(f\"\\rlavaburst armatus {line} {chrom}      \", end=\"\")\n",
    "            empty_1, empty_2 = False, False\n",
    "            repl_1 = np.loadtxt(f\"{out_location}lava_armatus_{line}{1}.20000.chr{chrom}.gamma{gamma}.txt\", ndmin=2)\n",
    "            repl_2 = np.loadtxt(f\"{out_location}lava_armatus_{line}{2}.20000.chr{chrom}.gamma{gamma}.txt\", ndmin=2)\n",
    "            \n",
    "            if repl_1.shape[0] == 0:\n",
    "                for stat in compare_stats:\n",
    "                    lava_armatus_stats.loc[index, :] = [1, chrom, gamma, 0, stat, 0, 0]\n",
    "                    index += 1\n",
    "                empty_1 = True\n",
    "                \n",
    "            if repl_2.shape[0] == 0:\n",
    "                for stat in compare_stats:\n",
    "                    lava_armatus_stats.loc[index, :] = [2, chrom, gamma, 0, stat, 0, 0]\n",
    "                    index += 1\n",
    "                empty_2 = True\n",
    "                \n",
    "            if empty_1 * empty_2:\n",
    "                continue\n",
    "                \n",
    "            elif empty_1:\n",
    "                size_2 = np.median(repl_2[:, 1] - repl_2[:, 0])\n",
    "                for stat in compare_stats:\n",
    "                    lava_armatus_stats.loc[index, :] = [2, chrom, gamma, 0, stat, size_2, repl_2.shape[0]]\n",
    "                    index += 1\n",
    "                continue\n",
    "                \n",
    "            elif empty_2:\n",
    "                size_1 = np.median(repl_1[:, 1] - repl_1[:, 0])\n",
    "                for stat in compare_stats:\n",
    "                    lava_armatus_stats.loc[index, :] = [1, chrom, gamma, 0, stat, size_1, repl_1.shape[0]]\n",
    "                    index += 1\n",
    "                continue\n",
    "                \n",
    "            coordinates = (repl_1[:, 0], repl_1[:, 1], repl_2[:, 0], repl_2[:, 1])\n",
    "            size_amo = size_amount(repl_1, repl_2)\n",
    "            for repl in repls:\n",
    "                for stat in compare_stats:\n",
    "                    lava_armatus_stats.loc[index, :] = [repl, chrom, gamma, coefs[stat](*coordinates), stat, size_amo[repl][\"size\"], size_amo[repl][\"amount\"]]\n",
    "                    index += 1\n",
    "                    \n",
    "    mpl.rcParams['figure.figsize'] = [10, 18]        \n",
    "    sns.set_palette(sns.color_palette(\"deep\"))\n",
    "    plt.subplot(311)\n",
    "    sns.pointplot(data=lava_armatus_stats, x=\"gamma\", y=\"value\", hue=\"stat\")\n",
    "    plt.legend(bbox_to_anchor=(1.04,0), loc=\"lower left\")\n",
    "    plt.title(f\"Armatus lavaburst: stats for {line} line.\")\n",
    "    plt.subplot(312)\n",
    "    sns.pointplot(data=lava_armatus_stats, x=\"gamma\", y=\"tad_size\", hue=\"repl\")\n",
    "    plt.legend(bbox_to_anchor=(1.04,0), loc=\"lower left\")\n",
    "    plt.title(f\"Armatus lavaburst: mean TAD sizes for {line} line in two replica.\")\n",
    "    plt.ylim(0, 1000000)\n",
    "    plt.subplot(313)\n",
    "    sns.pointplot(data=lava_armatus_stats, x=\"gamma\", y=\"amount\", hue=\"repl\")\n",
    "    plt.legend(bbox_to_anchor=(1.04,0), loc=\"lower left\")\n",
    "    plt.title(f\"Armatus lavaburst: amount of TADs for {line} line in two replica.\")\n",
    "    plt.savefig(f\"{images}lava_armatus_{line}initial.png\", bbox_inches='tight')\n",
    "    plt.clf()\n",
    "    plt.cla()"
   ]
  },
  {
   "cell_type": "code",
   "execution_count": 168,
   "metadata": {},
   "outputs": [
    {
     "name": "stdout",
     "output_type": "stream",
     "text": [
      "armatus RAD21cv-HEK293_TEV-treated_NA_ Y       "
     ]
    },
    {
     "data": {
      "text/plain": [
       "'    mpl.rcParams[\\'figure.figsize\\'] = [10, 18]        \\n    sns.set_palette(sns.color_palette(\"deep\"))\\n    plt.subplot(311)\\n    sns.pointplot(data=armatus_stats, x=\"gamma\", y=\"value\", hue=\"stat\")\\n    plt.legend(bbox_to_anchor=(1.04,0), loc=\"lower left\")\\n    plt.title(f\"Armatus standalone: stats for {line} line.\")\\n    plt.subplot(312)\\n    sns.pointplot(data=armatus_stats, x=\"gamma\", y=\"tad_size\", hue=\"repl\")\\n    plt.legend(bbox_to_anchor=(1.04,0), loc=\"lower left\")\\n    plt.title(f\"Armatus standalone: mean TAD sizes for {line} line in two replica.\")\\n    plt.ylim(0, 1000000)\\n    plt.subplot(313)\\n    sns.pointplot(data=armatus_stats, x=\"gamma\", y=\"amount\", hue=\"repl\")\\n    plt.legend(bbox_to_anchor=(1.04,0), loc=\"lower left\")\\n    plt.title(f\"Armatus standalone: amount of TADs for {line} line in two replica.\")\\n    plt.savefig(f\"{images}armatus_{line}initial.png\", bbox_inches=\\'tight\\')\\n    plt.clf()\\n    plt.cla()'"
      ]
     },
     "execution_count": 168,
     "metadata": {},
     "output_type": "execute_result"
    }
   ],
   "source": [
    "# Inspect initial results for armatus standalone\n",
    "armatus_stats = pd.DataFrame(index=range(len(chroms) * len(armatus_gamma) * len(repls) * len(compare_stats)), columns=[\"repl\", \"chrom\", \"gamma\", \"value\", \"stat\", \"tad_size\", \"amount\"])\n",
    "index = 0\n",
    "for line in lines:\n",
    "    for chrom in chroms:\n",
    "        for gamma in armatus_gamma:\n",
    "            print(f\"\\rarmatus {line} {chrom}      \", end=\"\")\n",
    "            empty_1, empty_2 = False, False\n",
    "            repl_1 = np.loadtxt(f\"{out_location}armatus_{line}{1}.20000.chr{chrom}.gamma{gamma}.txt\", ndmin=2)\n",
    "            repl_2 = np.loadtxt(f\"{out_location}armatus_{line}{2}.20000.chr{chrom}.gamma{gamma}.txt\", ndmin=2)\n",
    "            \n",
    "            if repl_1.shape[0] == 0:\n",
    "                for stat in compare_stats:\n",
    "                    armatus_stats.loc[index, :] = [1, chrom, gamma, 0, stat, 0, 0]\n",
    "                    index += 1\n",
    "                empty_1 = True\n",
    "                \n",
    "            if repl_2.shape[0] == 0:\n",
    "                for stat in compare_stats:\n",
    "                    armatus_stats.loc[index, :] = [2, chrom, gamma, 0, stat, 0, 0]\n",
    "                    index += 1\n",
    "                empty_2 = True\n",
    "                \n",
    "            if empty_1 * empty_2:\n",
    "                continue\n",
    "                \n",
    "            elif empty_1:\n",
    "                size_2 = np.median(repl_2[:, 1] - repl_2[:, 0])\n",
    "                for stat in compare_stats:\n",
    "                    armatus_stats.loc[index, :] = [2, chrom, gamma, 0, stat, size_2, repl_2.shape[0]]\n",
    "                    index += 1\n",
    "                continue\n",
    "                \n",
    "            elif empty_2:\n",
    "                size_1 = np.median(repl_1[:, 1] - repl_1[:, 0])\n",
    "                for stat in compare_stats:\n",
    "                    armatus_stats.loc[index, :] = [1, chrom, gamma, 0, stat, size_1, repl_1.shape[0]]\n",
    "                    index += 1\n",
    "                continue\n",
    "                \n",
    "            coordinates = (repl_1[:, 0], repl_1[:, 1], repl_2[:, 0], repl_2[:, 1])\n",
    "            size_amo = size_amount(repl_1, repl_2)\n",
    "            for repl in repls:\n",
    "                for stat in compare_stats:\n",
    "                    armatus_stats.loc[index, :] = [repl, chrom, gamma, coefs[stat](*coordinates), stat, size_amo[repl][\"size\"], size_amo[repl][\"amount\"]]\n",
    "                    index += 1\n",
    "                    \n",
    "mpl.rcParams['figure.figsize'] = [10, 18]        \n",
    "    sns.set_palette(sns.color_palette(\"deep\"))\n",
    "    plt.subplot(311)\n",
    "    sns.pointplot(data=armatus_stats, x=\"gamma\", y=\"value\", hue=\"stat\")\n",
    "    plt.legend(bbox_to_anchor=(1.04,0), loc=\"lower left\")\n",
    "    plt.title(f\"Armatus standalone: stats for {line} line.\")\n",
    "    plt.subplot(312)\n",
    "    sns.pointplot(data=armatus_stats, x=\"gamma\", y=\"tad_size\", hue=\"repl\")\n",
    "    plt.legend(bbox_to_anchor=(1.04,0), loc=\"lower left\")\n",
    "    plt.title(f\"Armatus standalone: mean TAD sizes for {line} line in two replica.\")\n",
    "    plt.ylim(0, 1000000)\n",
    "    plt.subplot(313)\n",
    "    sns.pointplot(data=armatus_stats, x=\"gamma\", y=\"amount\", hue=\"repl\")\n",
    "    plt.legend(bbox_to_anchor=(1.04,0), loc=\"lower left\")\n",
    "    plt.title(f\"Armatus standalone: amount of TADs for {line} line in two replica.\")\n",
    "    plt.savefig(f\"{images}armatus_{line}initial.png\", bbox_inches='tight')\n",
    "    plt.clf()\n",
    "    plt.cla()"
   ]
  },
  {
   "cell_type": "code",
   "execution_count": 71,
   "metadata": {},
   "outputs": [
    {
     "name": "stdout",
     "output_type": "stream",
     "text": [
      "modularity RAD21cv-HEK293_TEV-treated_NA_ Y       "
     ]
    },
    {
     "data": {
      "image/png": "[encoded data removed]",
      "text/plain": [
       "<matplotlib.figure.Figure at 0x1d8f237bf28>"
      ]
     },
     "metadata": {},
     "output_type": "display_data"
    }
   ],
   "source": [
    "# Inspect initial results for modularity lavaburst\n",
    "modularity_stats = pd.DataFrame(index=range(len(chroms) * len(modularity_gamma) * len(repls) * len(compare_stats)), columns=[\"repl\", \"chrom\", \"gamma\", \"value\", \"stat\", \"tad_size\", \"amount\"])\n",
    "index = 0\n",
    "for line in lines:\n",
    "    for chrom in chroms:\n",
    "        for gamma in modularity_gamma:\n",
    "            print(f\"\\rmodularity {line} {chrom}      \", end=\"\")\n",
    "            empty_1, empty_2 = False, False\n",
    "            repl_1 = np.loadtxt(f\"{out_location}lava_modularity_{line}{1}.20000.chr{chrom}.gamma{gamma}.txt\", ndmin=2)\n",
    "            repl_2 = np.loadtxt(f\"{out_location}lava_modularity_{line}{2}.20000.chr{chrom}.gamma{gamma}.txt\", ndmin=2)\n",
    "            \n",
    "            if repl_1.shape[0] == 0:\n",
    "                for stat in compare_stats:\n",
    "                    modularity_stats.loc[index, :] = [1, chrom, gamma, 0, stat, 0, 0]\n",
    "                    index += 1\n",
    "                empty_1 = True\n",
    "                \n",
    "            if repl_2.shape[0] == 0:\n",
    "                for stat in compare_stats:\n",
    "                    modularity_stats.loc[index, :] = [2, chrom, gamma, 0, stat, 0, 0]\n",
    "                    index += 1\n",
    "                empty_2 = True\n",
    "                \n",
    "            if empty_1 * empty_2:\n",
    "                continue\n",
    "                \n",
    "            elif empty_1:\n",
    "                size_2 = np.median(repl_2[:, 1] - repl_2[:, 0])\n",
    "                for stat in compare_stats:\n",
    "                    modularity_stats.loc[index, :] = [2, chrom, gamma, 0, stat, size_2, repl_2.shape[0]]\n",
    "                    index += 1\n",
    "                continue\n",
    "                \n",
    "            elif empty_2:\n",
    "                size_1 = np.median(repl_1[:, 1] - repl_1[:, 0])\n",
    "                for stat in compare_stats:\n",
    "                    modularity_stats.loc[index, :] = [1, chrom, gamma, 0, stat, size_1, repl_1.shape[0]]\n",
    "                    index += 1\n",
    "                continue\n",
    "                \n",
    "            coordinates = (repl_1[:, 0], repl_1[:, 1], repl_2[:, 0], repl_2[:, 1])\n",
    "            size_amo = size_amount(repl_1, repl_2)\n",
    "            for repl in repls:\n",
    "                for stat in compare_stats:\n",
    "                    modularity_stats.loc[index, :] = [repl, chrom, gamma, coefs[stat](*coordinates), stat, size_amo[repl][\"size\"], size_amo[repl][\"amount\"]]\n",
    "                    index += 1\n",
    "                    \n",
    "    mpl.rcParams['figure.figsize'] = [10, 18]        \n",
    "    sns.set_palette(sns.color_palette(\"deep\"))\n",
    "    plt.subplot(311)\n",
    "    sns.pointplot(data=modularity_stats, x=\"gamma\", y=\"value\", hue=\"stat\")\n",
    "    plt.legend(bbox_to_anchor=(1.04,0), loc=\"lower left\")\n",
    "    plt.title(f\"Modularity: stats for {line} line.\")\n",
    "    plt.subplot(312)\n",
    "    sns.pointplot(data=modularity_stats, x=\"gamma\", y=\"tad_size\", hue=\"repl\")\n",
    "    plt.legend(bbox_to_anchor=(1.04,0), loc=\"lower left\")\n",
    "    plt.title(f\"Modularity: mean TAD sizes for {line} line in two replica.\")\n",
    "    plt.ylim(0, 1000000)\n",
    "    plt.subplot(313)\n",
    "    sns.pointplot(data=modularity_stats, x=\"gamma\", y=\"amount\", hue=\"repl\")\n",
    "    plt.legend(bbox_to_anchor=(1.04,0), loc=\"lower left\")\n",
    "    plt.title(f\"Modularity: amount of TADs for {line} line in two replica.\")\n",
    "    plt.savefig(f\"{images}lava_modularity_{line}initial.png\", bbox_inches='tight')\n",
    "    plt.clf()\n",
    "    plt.cla()"
   ]
  },
  {
   "cell_type": "code",
   "execution_count": 72,
   "metadata": {},
   "outputs": [
    {
     "name": "stdout",
     "output_type": "stream",
     "text": [
      "modularity RAD21cv-HEK293_TEV-treated_NA_ Y       "
     ]
    },
    {
     "data": {
      "image/png": "[encoded data removed]",
      "text/plain": [
       "<matplotlib.figure.Figure at 0x1d8f151e898>"
      ]
     },
     "metadata": {},
     "output_type": "display_data"
    }
   ],
   "source": [
    "# Inspect initial results for corner lavaburst\n",
    "corner_stats = pd.DataFrame(index=range(len(chroms) * len(corner_gamma) * len(repls) * len(compare_stats)), columns=[\"repl\", \"chrom\", \"gamma\", \"value\", \"stat\", \"tad_size\", \"amount\"])\n",
    "index = 0\n",
    "for line in lines:\n",
    "    for chrom in chroms:\n",
    "        for gamma in corner_gamma:\n",
    "            print(f\"\\rcorner {line} {chrom}      \", end=\"\")\n",
    "            empty_1, empty_2 = False, False\n",
    "            repl_1 = np.loadtxt(f\"{out_location}lava_corner_{line}{1}.20000.chr{chrom}.gamma{gamma}.txt\", ndmin=2)\n",
    "            repl_2 = np.loadtxt(f\"{out_location}lava_corner_{line}{2}.20000.chr{chrom}.gamma{gamma}.txt\", ndmin=2)\n",
    "            \n",
    "            if repl_1.shape[0] == 0:\n",
    "                for stat in compare_stats:\n",
    "                    corner_stats.loc[index, :] = [1, chrom, gamma, 0, stat, 0, 0]\n",
    "                    index += 1\n",
    "                empty_1 = True\n",
    "                \n",
    "            if repl_2.shape[0] == 0:\n",
    "                for stat in compare_stats:\n",
    "                    corner_stats.loc[index, :] = [2, chrom, gamma, 0, stat, 0, 0]\n",
    "                    index += 1\n",
    "                empty_2 = True\n",
    "                \n",
    "            if empty_1 * empty_2:\n",
    "                continue\n",
    "                \n",
    "            elif empty_1:\n",
    "                size_2 = np.median(repl_2[:, 1] - repl_2[:, 0])\n",
    "                for stat in compare_stats:\n",
    "                    corner_stats.loc[index, :] = [2, chrom, gamma, 0, stat, size_2, repl_2.shape[0]]\n",
    "                    index += 1\n",
    "                continue\n",
    "                \n",
    "            elif empty_2:\n",
    "                size_1 = np.median(repl_1[:, 1] - repl_1[:, 0])\n",
    "                for stat in compare_stats:\n",
    "                    corner_stats.loc[index, :] = [1, chrom, gamma, 0, stat, size_1, repl_1.shape[0]]\n",
    "                    index += 1\n",
    "                continue\n",
    "                \n",
    "            coordinates = (repl_1[:, 0], repl_1[:, 1], repl_2[:, 0], repl_2[:, 1])\n",
    "            size_amo = size_amount(repl_1, repl_2)\n",
    "            for repl in repls:\n",
    "                for stat in compare_stats:\n",
    "                    corner_stats.loc[index, :] = [repl, chrom, gamma, coefs[stat](*coordinates), stat, size_amo[repl][\"size\"], size_amo[repl][\"amount\"]]\n",
    "                    index += 1\n",
    "                    \n",
    "    mpl.rcParams['figure.figsize'] = [10, 18]        \n",
    "    sns.set_palette(sns.color_palette(\"deep\"))\n",
    "    plt.subplot(311)\n",
    "    sns.pointplot(data=corner_stats, x=\"gamma\", y=\"value\", hue=\"stat\")\n",
    "    plt.legend(bbox_to_anchor=(1.04,0), loc=\"lower left\")\n",
    "    plt.title(f\"Corner: stats for {line} line.\")\n",
    "    plt.subplot(312)\n",
    "    sns.pointplot(data=corner_stats, x=\"gamma\", y=\"tad_size\", hue=\"repl\")\n",
    "    plt.legend(bbox_to_anchor=(1.04,0), loc=\"lower left\")\n",
    "    plt.title(f\"Corner: mean TAD sizes for {line} line in two replica.\")\n",
    "    plt.ylim(0, 1000000)\n",
    "    plt.subplot(313)\n",
    "    sns.pointplot(data=corner_stats, x=\"gamma\", y=\"amount\", hue=\"repl\")\n",
    "    plt.legend(bbox_to_anchor=(1.04,0), loc=\"lower left\")\n",
    "    plt.title(f\"Corner: amount of TADs for {line} line in two replica.\")\n",
    "    plt.savefig(f\"{images}lava_corner_{line}initial.png\", bbox_inches='tight')\n",
    "    plt.clf()\n",
    "    plt.cla()"
   ]
  },
  {
   "cell_type": "code",
   "execution_count": 139,
   "metadata": {
    "scrolled": true
   },
   "outputs": [
    {
     "name": "stdout",
     "output_type": "stream",
     "text": [
      "ii_enh HEK293_siRNA-CTCF_NA_ Y       "
     ]
    },
    {
     "name": "stderr",
     "output_type": "stream",
     "text": [
      "C:\\Users\\Dmitry\\Anaconda3\\lib\\site-packages\\ipykernel_launcher.py:11: UserWarning: loadtxt: Empty input file: \"yielded/ii_enh_HEK293_siRNA-CTCF_NA_2.20000.chrY_window80000_cutoff0.4.txt\"\n",
      "  # This is added back by InteractiveShellApp.init_path()\n",
      "C:\\Users\\Dmitry\\Anaconda3\\lib\\site-packages\\ipykernel_launcher.py:11: UserWarning: loadtxt: Empty input file: \"yielded/ii_enh_HEK293_siRNA-CTCF_NA_2.20000.chrY_window60000_cutoff0.5.txt\"\n",
      "  # This is added back by InteractiveShellApp.init_path()\n"
     ]
    },
    {
     "name": "stdout",
     "output_type": "stream",
     "text": [
      "\r",
      "ii_enh HEK293_siRNA-CTCF_NA_ Y      \r",
      "ii_enh HEK293_siRNA-CTCF_NA_ Y      \r",
      "ii_enh HEK293_siRNA-CTCF_NA_ Y      \r",
      "ii_enh HEK293_siRNA-CTCF_NA_ Y      "
     ]
    },
    {
     "name": "stderr",
     "output_type": "stream",
     "text": [
      "C:\\Users\\Dmitry\\Anaconda3\\lib\\site-packages\\ipykernel_launcher.py:11: UserWarning: loadtxt: Empty input file: \"yielded/ii_enh_HEK293_siRNA-CTCF_NA_2.20000.chrY_window80000_cutoff0.5.txt\"\n",
      "  # This is added back by InteractiveShellApp.init_path()\n",
      "C:\\Users\\Dmitry\\Anaconda3\\lib\\site-packages\\ipykernel_launcher.py:10: UserWarning: loadtxt: Empty input file: \"yielded/ii_enh_HEK293_siRNA-CTCF_NA_1.20000.chrY_window60000_cutoff0.6.txt\"\n",
      "  # Remove the CWD from sys.path while we load stuff.\n",
      "C:\\Users\\Dmitry\\Anaconda3\\lib\\site-packages\\ipykernel_launcher.py:11: UserWarning: loadtxt: Empty input file: \"yielded/ii_enh_HEK293_siRNA-CTCF_NA_2.20000.chrY_window60000_cutoff0.6.txt\"\n",
      "  # This is added back by InteractiveShellApp.init_path()\n"
     ]
    },
    {
     "name": "stdout",
     "output_type": "stream",
     "text": [
      "\r",
      "ii_enh HEK293_siRNA-CTCF_NA_ Y      \r",
      "ii_enh HEK293_siRNA-CTCF_NA_ Y      \r",
      "ii_enh HEK293_siRNA-CTCF_NA_ Y      \r",
      "ii_enh HEK293_siRNA-CTCF_NA_ Y      "
     ]
    },
    {
     "name": "stderr",
     "output_type": "stream",
     "text": [
      "C:\\Users\\Dmitry\\Anaconda3\\lib\\site-packages\\ipykernel_launcher.py:10: UserWarning: loadtxt: Empty input file: \"yielded/ii_enh_HEK293_siRNA-CTCF_NA_1.20000.chrY_window80000_cutoff0.6.txt\"\n",
      "  # Remove the CWD from sys.path while we load stuff.\n",
      "C:\\Users\\Dmitry\\Anaconda3\\lib\\site-packages\\ipykernel_launcher.py:11: UserWarning: loadtxt: Empty input file: \"yielded/ii_enh_HEK293_siRNA-CTCF_NA_2.20000.chrY_window80000_cutoff0.6.txt\"\n",
      "  # This is added back by InteractiveShellApp.init_path()\n",
      "C:\\Users\\Dmitry\\Anaconda3\\lib\\site-packages\\ipykernel_launcher.py:10: UserWarning: loadtxt: Empty input file: \"yielded/ii_enh_HEK293_siRNA-CTCF_NA_1.20000.chrY_window60000_cutoff0.7.txt\"\n",
      "  # Remove the CWD from sys.path while we load stuff.\n",
      "C:\\Users\\Dmitry\\Anaconda3\\lib\\site-packages\\ipykernel_launcher.py:11: UserWarning: loadtxt: Empty input file: \"yielded/ii_enh_HEK293_siRNA-CTCF_NA_2.20000.chrY_window60000_cutoff0.7.txt\"\n",
      "  # This is added back by InteractiveShellApp.init_path()\n"
     ]
    },
    {
     "name": "stdout",
     "output_type": "stream",
     "text": [
      "\r",
      "ii_enh HEK293_siRNA-CTCF_NA_ Y      \r",
      "ii_enh HEK293_siRNA-CTCF_NA_ Y      \r",
      "ii_enh HEK293_siRNA-CTCF_NA_ Y      \r",
      "ii_enh HEK293_siRNA-CTCF_NA_ Y      "
     ]
    },
    {
     "name": "stderr",
     "output_type": "stream",
     "text": [
      "C:\\Users\\Dmitry\\Anaconda3\\lib\\site-packages\\ipykernel_launcher.py:10: UserWarning: loadtxt: Empty input file: \"yielded/ii_enh_HEK293_siRNA-CTCF_NA_1.20000.chrY_window80000_cutoff0.7.txt\"\n",
      "  # Remove the CWD from sys.path while we load stuff.\n",
      "C:\\Users\\Dmitry\\Anaconda3\\lib\\site-packages\\ipykernel_launcher.py:11: UserWarning: loadtxt: Empty input file: \"yielded/ii_enh_HEK293_siRNA-CTCF_NA_2.20000.chrY_window80000_cutoff0.7.txt\"\n",
      "  # This is added back by InteractiveShellApp.init_path()\n",
      "C:\\Users\\Dmitry\\Anaconda3\\lib\\site-packages\\ipykernel_launcher.py:11: UserWarning: loadtxt: Empty input file: \"yielded/ii_enh_HEK293_siRNA-CTCF_NA_2.20000.chrY_window40000_cutoff0.8.txt\"\n",
      "  # This is added back by InteractiveShellApp.init_path()\n",
      "C:\\Users\\Dmitry\\Anaconda3\\lib\\site-packages\\ipykernel_launcher.py:10: UserWarning: loadtxt: Empty input file: \"yielded/ii_enh_HEK293_siRNA-CTCF_NA_1.20000.chrY_window60000_cutoff0.8.txt\"\n",
      "  # Remove the CWD from sys.path while we load stuff.\n",
      "C:\\Users\\Dmitry\\Anaconda3\\lib\\site-packages\\ipykernel_launcher.py:11: UserWarning: loadtxt: Empty input file: \"yielded/ii_enh_HEK293_siRNA-CTCF_NA_2.20000.chrY_window60000_cutoff0.8.txt\"\n",
      "  # This is added back by InteractiveShellApp.init_path()\n"
     ]
    },
    {
     "name": "stdout",
     "output_type": "stream",
     "text": [
      "\r",
      "ii_enh HEK293_siRNA-CTCF_NA_ Y      \r",
      "ii_enh HEK293_siRNA-CTCF_NA_ Y      \r",
      "ii_enh HEK293_siRNA-CTCF_NA_ Y      \r",
      "ii_enh HEK293_siRNA-CTCF_NA_ Y      "
     ]
    },
    {
     "name": "stderr",
     "output_type": "stream",
     "text": [
      "C:\\Users\\Dmitry\\Anaconda3\\lib\\site-packages\\ipykernel_launcher.py:10: UserWarning: loadtxt: Empty input file: \"yielded/ii_enh_HEK293_siRNA-CTCF_NA_1.20000.chrY_window80000_cutoff0.8.txt\"\n",
      "  # Remove the CWD from sys.path while we load stuff.\n",
      "C:\\Users\\Dmitry\\Anaconda3\\lib\\site-packages\\ipykernel_launcher.py:11: UserWarning: loadtxt: Empty input file: \"yielded/ii_enh_HEK293_siRNA-CTCF_NA_2.20000.chrY_window80000_cutoff0.8.txt\"\n",
      "  # This is added back by InteractiveShellApp.init_path()\n",
      "C:\\Users\\Dmitry\\Anaconda3\\lib\\site-packages\\ipykernel_launcher.py:11: UserWarning: loadtxt: Empty input file: \"yielded/ii_enh_HEK293_siRNA-CTCF_NA_2.20000.chrY_window40000_cutoff0.9.txt\"\n",
      "  # This is added back by InteractiveShellApp.init_path()\n",
      "C:\\Users\\Dmitry\\Anaconda3\\lib\\site-packages\\ipykernel_launcher.py:10: UserWarning: loadtxt: Empty input file: \"yielded/ii_enh_HEK293_siRNA-CTCF_NA_1.20000.chrY_window60000_cutoff0.9.txt\"\n",
      "  # Remove the CWD from sys.path while we load stuff.\n",
      "C:\\Users\\Dmitry\\Anaconda3\\lib\\site-packages\\ipykernel_launcher.py:11: UserWarning: loadtxt: Empty input file: \"yielded/ii_enh_HEK293_siRNA-CTCF_NA_2.20000.chrY_window60000_cutoff0.9.txt\"\n",
      "  # This is added back by InteractiveShellApp.init_path()\n"
     ]
    },
    {
     "name": "stdout",
     "output_type": "stream",
     "text": [
      "\r",
      "ii_enh HEK293_siRNA-CTCF_NA_ Y      \r",
      "ii_enh HEK293_siRNA-CTCF_NA_ Y      \r",
      "ii_enh HEK293_siRNA-CTCF_NA_ Y      \r",
      "ii_enh HEK293_siRNA-CTCF_NA_ Y      "
     ]
    },
    {
     "name": "stderr",
     "output_type": "stream",
     "text": [
      "C:\\Users\\Dmitry\\Anaconda3\\lib\\site-packages\\ipykernel_launcher.py:10: UserWarning: loadtxt: Empty input file: \"yielded/ii_enh_HEK293_siRNA-CTCF_NA_1.20000.chrY_window80000_cutoff0.9.txt\"\n",
      "  # Remove the CWD from sys.path while we load stuff.\n",
      "C:\\Users\\Dmitry\\Anaconda3\\lib\\site-packages\\ipykernel_launcher.py:11: UserWarning: loadtxt: Empty input file: \"yielded/ii_enh_HEK293_siRNA-CTCF_NA_2.20000.chrY_window80000_cutoff0.9.txt\"\n",
      "  # This is added back by InteractiveShellApp.init_path()\n",
      "C:\\Users\\Dmitry\\Anaconda3\\lib\\site-packages\\ipykernel_launcher.py:11: UserWarning: loadtxt: Empty input file: \"yielded/ii_enh_HEK293_siRNA-CTCF_NA_2.20000.chrY_window40000_cutoff1.0.txt\"\n",
      "  # This is added back by InteractiveShellApp.init_path()\n",
      "C:\\Users\\Dmitry\\Anaconda3\\lib\\site-packages\\ipykernel_launcher.py:10: UserWarning: loadtxt: Empty input file: \"yielded/ii_enh_HEK293_siRNA-CTCF_NA_1.20000.chrY_window60000_cutoff1.0.txt\"\n",
      "  # Remove the CWD from sys.path while we load stuff.\n",
      "C:\\Users\\Dmitry\\Anaconda3\\lib\\site-packages\\ipykernel_launcher.py:11: UserWarning: loadtxt: Empty input file: \"yielded/ii_enh_HEK293_siRNA-CTCF_NA_2.20000.chrY_window60000_cutoff1.0.txt\"\n",
      "  # This is added back by InteractiveShellApp.init_path()\n"
     ]
    },
    {
     "name": "stdout",
     "output_type": "stream",
     "text": [
      "\r",
      "ii_enh HEK293_siRNA-CTCF_NA_ Y      "
     ]
    },
    {
     "name": "stderr",
     "output_type": "stream",
     "text": [
      "C:\\Users\\Dmitry\\Anaconda3\\lib\\site-packages\\ipykernel_launcher.py:10: UserWarning: loadtxt: Empty input file: \"yielded/ii_enh_HEK293_siRNA-CTCF_NA_1.20000.chrY_window80000_cutoff1.0.txt\"\n",
      "  # Remove the CWD from sys.path while we load stuff.\n",
      "C:\\Users\\Dmitry\\Anaconda3\\lib\\site-packages\\ipykernel_launcher.py:11: UserWarning: loadtxt: Empty input file: \"yielded/ii_enh_HEK293_siRNA-CTCF_NA_2.20000.chrY_window80000_cutoff1.0.txt\"\n",
      "  # This is added back by InteractiveShellApp.init_path()\n"
     ]
    },
    {
     "name": "stdout",
     "output_type": "stream",
     "text": [
      "ii_enh HEK293_siRNA-Control_NA_ Y       "
     ]
    },
    {
     "name": "stderr",
     "output_type": "stream",
     "text": [
      "C:\\Users\\Dmitry\\Anaconda3\\lib\\site-packages\\ipykernel_launcher.py:10: UserWarning: loadtxt: Empty input file: \"yielded/ii_enh_HEK293_siRNA-Control_NA_1.20000.chrY_window80000_cutoff0.2.txt\"\n",
      "  # Remove the CWD from sys.path while we load stuff.\n"
     ]
    },
    {
     "name": "stdout",
     "output_type": "stream",
     "text": [
      "ii_enh HEK293_siRNA-Control_NA_ Y      "
     ]
    },
    {
     "name": "stderr",
     "output_type": "stream",
     "text": [
      "C:\\Users\\Dmitry\\Anaconda3\\lib\\site-packages\\ipykernel_launcher.py:10: UserWarning: loadtxt: Empty input file: \"yielded/ii_enh_HEK293_siRNA-Control_NA_1.20000.chrY_window80000_cutoff0.3.txt\"\n",
      "  # Remove the CWD from sys.path while we load stuff.\n"
     ]
    },
    {
     "name": "stdout",
     "output_type": "stream",
     "text": [
      "\r",
      "ii_enh HEK293_siRNA-Control_NA_ Y      \r",
      "ii_enh HEK293_siRNA-Control_NA_ Y      \r",
      "ii_enh HEK293_siRNA-Control_NA_ Y      "
     ]
    },
    {
     "name": "stderr",
     "output_type": "stream",
     "text": [
      "C:\\Users\\Dmitry\\Anaconda3\\lib\\site-packages\\ipykernel_launcher.py:10: UserWarning: loadtxt: Empty input file: \"yielded/ii_enh_HEK293_siRNA-Control_NA_1.20000.chrY_window60000_cutoff0.4.txt\"\n",
      "  # Remove the CWD from sys.path while we load stuff.\n",
      "C:\\Users\\Dmitry\\Anaconda3\\lib\\site-packages\\ipykernel_launcher.py:10: UserWarning: loadtxt: Empty input file: \"yielded/ii_enh_HEK293_siRNA-Control_NA_1.20000.chrY_window80000_cutoff0.4.txt\"\n",
      "  # Remove the CWD from sys.path while we load stuff.\n"
     ]
    },
    {
     "name": "stdout",
     "output_type": "stream",
     "text": [
      "\r",
      "ii_enh HEK293_siRNA-Control_NA_ Y      \r",
      "ii_enh HEK293_siRNA-Control_NA_ Y      \r",
      "ii_enh HEK293_siRNA-Control_NA_ Y      "
     ]
    },
    {
     "name": "stderr",
     "output_type": "stream",
     "text": [
      "C:\\Users\\Dmitry\\Anaconda3\\lib\\site-packages\\ipykernel_launcher.py:10: UserWarning: loadtxt: Empty input file: \"yielded/ii_enh_HEK293_siRNA-Control_NA_1.20000.chrY_window60000_cutoff0.5.txt\"\n",
      "  # Remove the CWD from sys.path while we load stuff.\n",
      "C:\\Users\\Dmitry\\Anaconda3\\lib\\site-packages\\ipykernel_launcher.py:10: UserWarning: loadtxt: Empty input file: \"yielded/ii_enh_HEK293_siRNA-Control_NA_1.20000.chrY_window80000_cutoff0.5.txt\"\n",
      "  # Remove the CWD from sys.path while we load stuff.\n"
     ]
    },
    {
     "name": "stdout",
     "output_type": "stream",
     "text": [
      "\r",
      "ii_enh HEK293_siRNA-Control_NA_ Y      \r",
      "ii_enh HEK293_siRNA-Control_NA_ Y      \r",
      "ii_enh HEK293_siRNA-Control_NA_ Y      "
     ]
    },
    {
     "name": "stderr",
     "output_type": "stream",
     "text": [
      "C:\\Users\\Dmitry\\Anaconda3\\lib\\site-packages\\ipykernel_launcher.py:10: UserWarning: loadtxt: Empty input file: \"yielded/ii_enh_HEK293_siRNA-Control_NA_1.20000.chrY_window40000_cutoff0.6.txt\"\n",
      "  # Remove the CWD from sys.path while we load stuff.\n",
      "C:\\Users\\Dmitry\\Anaconda3\\lib\\site-packages\\ipykernel_launcher.py:10: UserWarning: loadtxt: Empty input file: \"yielded/ii_enh_HEK293_siRNA-Control_NA_1.20000.chrY_window60000_cutoff0.6.txt\"\n",
      "  # Remove the CWD from sys.path while we load stuff.\n",
      "C:\\Users\\Dmitry\\Anaconda3\\lib\\site-packages\\ipykernel_launcher.py:10: UserWarning: loadtxt: Empty input file: \"yielded/ii_enh_HEK293_siRNA-Control_NA_1.20000.chrY_window80000_cutoff0.6.txt\"\n",
      "  # Remove the CWD from sys.path while we load stuff.\n"
     ]
    },
    {
     "name": "stdout",
     "output_type": "stream",
     "text": [
      "\r",
      "ii_enh HEK293_siRNA-Control_NA_ Y      \r",
      "ii_enh HEK293_siRNA-Control_NA_ Y      \r",
      "ii_enh HEK293_siRNA-Control_NA_ Y      \r",
      "ii_enh HEK293_siRNA-Control_NA_ Y      "
     ]
    },
    {
     "name": "stderr",
     "output_type": "stream",
     "text": [
      "C:\\Users\\Dmitry\\Anaconda3\\lib\\site-packages\\ipykernel_launcher.py:10: UserWarning: loadtxt: Empty input file: \"yielded/ii_enh_HEK293_siRNA-Control_NA_1.20000.chrY_window40000_cutoff0.7.txt\"\n",
      "  # Remove the CWD from sys.path while we load stuff.\n",
      "C:\\Users\\Dmitry\\Anaconda3\\lib\\site-packages\\ipykernel_launcher.py:10: UserWarning: loadtxt: Empty input file: \"yielded/ii_enh_HEK293_siRNA-Control_NA_1.20000.chrY_window60000_cutoff0.7.txt\"\n",
      "  # Remove the CWD from sys.path while we load stuff.\n",
      "C:\\Users\\Dmitry\\Anaconda3\\lib\\site-packages\\ipykernel_launcher.py:10: UserWarning: loadtxt: Empty input file: \"yielded/ii_enh_HEK293_siRNA-Control_NA_1.20000.chrY_window80000_cutoff0.7.txt\"\n",
      "  # Remove the CWD from sys.path while we load stuff.\n",
      "C:\\Users\\Dmitry\\Anaconda3\\lib\\site-packages\\ipykernel_launcher.py:11: UserWarning: loadtxt: Empty input file: \"yielded/ii_enh_HEK293_siRNA-Control_NA_2.20000.chrY_window80000_cutoff0.7.txt\"\n",
      "  # This is added back by InteractiveShellApp.init_path()\n"
     ]
    },
    {
     "name": "stdout",
     "output_type": "stream",
     "text": [
      "\r",
      "ii_enh HEK293_siRNA-Control_NA_ Y      \r",
      "ii_enh HEK293_siRNA-Control_NA_ Y      \r",
      "ii_enh HEK293_siRNA-Control_NA_ Y      "
     ]
    },
    {
     "name": "stderr",
     "output_type": "stream",
     "text": [
      "C:\\Users\\Dmitry\\Anaconda3\\lib\\site-packages\\ipykernel_launcher.py:10: UserWarning: loadtxt: Empty input file: \"yielded/ii_enh_HEK293_siRNA-Control_NA_1.20000.chrY_window40000_cutoff0.8.txt\"\n",
      "  # Remove the CWD from sys.path while we load stuff.\n",
      "C:\\Users\\Dmitry\\Anaconda3\\lib\\site-packages\\ipykernel_launcher.py:10: UserWarning: loadtxt: Empty input file: \"yielded/ii_enh_HEK293_siRNA-Control_NA_1.20000.chrY_window60000_cutoff0.8.txt\"\n",
      "  # Remove the CWD from sys.path while we load stuff.\n",
      "C:\\Users\\Dmitry\\Anaconda3\\lib\\site-packages\\ipykernel_launcher.py:10: UserWarning: loadtxt: Empty input file: \"yielded/ii_enh_HEK293_siRNA-Control_NA_1.20000.chrY_window80000_cutoff0.8.txt\"\n",
      "  # Remove the CWD from sys.path while we load stuff.\n",
      "C:\\Users\\Dmitry\\Anaconda3\\lib\\site-packages\\ipykernel_launcher.py:11: UserWarning: loadtxt: Empty input file: \"yielded/ii_enh_HEK293_siRNA-Control_NA_2.20000.chrY_window80000_cutoff0.8.txt\"\n",
      "  # This is added back by InteractiveShellApp.init_path()\n"
     ]
    },
    {
     "name": "stdout",
     "output_type": "stream",
     "text": [
      "ii_enh HEK293_siRNA-Control_NA_ Y      "
     ]
    },
    {
     "name": "stderr",
     "output_type": "stream",
     "text": [
      "C:\\Users\\Dmitry\\Anaconda3\\lib\\site-packages\\ipykernel_launcher.py:10: UserWarning: loadtxt: Empty input file: \"yielded/ii_enh_HEK293_siRNA-Control_NA_1.20000.chrY_window40000_cutoff0.9.txt\"\n",
      "  # Remove the CWD from sys.path while we load stuff.\n",
      "C:\\Users\\Dmitry\\Anaconda3\\lib\\site-packages\\ipykernel_launcher.py:10: UserWarning: loadtxt: Empty input file: \"yielded/ii_enh_HEK293_siRNA-Control_NA_1.20000.chrY_window60000_cutoff0.9.txt\"\n",
      "  # Remove the CWD from sys.path while we load stuff.\n",
      "C:\\Users\\Dmitry\\Anaconda3\\lib\\site-packages\\ipykernel_launcher.py:10: UserWarning: loadtxt: Empty input file: \"yielded/ii_enh_HEK293_siRNA-Control_NA_1.20000.chrY_window80000_cutoff0.9.txt\"\n",
      "  # Remove the CWD from sys.path while we load stuff.\n",
      "C:\\Users\\Dmitry\\Anaconda3\\lib\\site-packages\\ipykernel_launcher.py:11: UserWarning: loadtxt: Empty input file: \"yielded/ii_enh_HEK293_siRNA-Control_NA_2.20000.chrY_window80000_cutoff0.9.txt\"\n",
      "  # This is added back by InteractiveShellApp.init_path()\n"
     ]
    },
    {
     "name": "stdout",
     "output_type": "stream",
     "text": [
      "\r",
      "ii_enh HEK293_siRNA-Control_NA_ Y      \r",
      "ii_enh HEK293_siRNA-Control_NA_ Y      "
     ]
    },
    {
     "name": "stderr",
     "output_type": "stream",
     "text": [
      "C:\\Users\\Dmitry\\Anaconda3\\lib\\site-packages\\ipykernel_launcher.py:10: UserWarning: loadtxt: Empty input file: \"yielded/ii_enh_HEK293_siRNA-Control_NA_1.20000.chrY_window40000_cutoff1.0.txt\"\n",
      "  # Remove the CWD from sys.path while we load stuff.\n",
      "C:\\Users\\Dmitry\\Anaconda3\\lib\\site-packages\\ipykernel_launcher.py:10: UserWarning: loadtxt: Empty input file: \"yielded/ii_enh_HEK293_siRNA-Control_NA_1.20000.chrY_window60000_cutoff1.0.txt\"\n",
      "  # Remove the CWD from sys.path while we load stuff.\n"
     ]
    },
    {
     "name": "stdout",
     "output_type": "stream",
     "text": [
      "ii_enh HEK293_siRNA-Control_NA_ Y      "
     ]
    },
    {
     "name": "stderr",
     "output_type": "stream",
     "text": [
      "C:\\Users\\Dmitry\\Anaconda3\\lib\\site-packages\\ipykernel_launcher.py:10: UserWarning: loadtxt: Empty input file: \"yielded/ii_enh_HEK293_siRNA-Control_NA_1.20000.chrY_window80000_cutoff1.0.txt\"\n",
      "  # Remove the CWD from sys.path while we load stuff.\n",
      "C:\\Users\\Dmitry\\Anaconda3\\lib\\site-packages\\ipykernel_launcher.py:11: UserWarning: loadtxt: Empty input file: \"yielded/ii_enh_HEK293_siRNA-Control_NA_2.20000.chrY_window80000_cutoff1.0.txt\"\n",
      "  # This is added back by InteractiveShellApp.init_path()\n"
     ]
    },
    {
     "name": "stdout",
     "output_type": "stream",
     "text": [
      "ii_enh HepG2_NA_NA_ 19      "
     ]
    },
    {
     "name": "stderr",
     "output_type": "stream",
     "text": [
      "C:\\Users\\Dmitry\\Anaconda3\\lib\\site-packages\\ipykernel_launcher.py:10: UserWarning: loadtxt: Empty input file: \"yielded/ii_enh_HepG2_NA_NA_1.20000.chr19_window80000_cutoff0.1.txt\"\n",
      "  # Remove the CWD from sys.path while we load stuff.\n",
      "C:\\Users\\Dmitry\\Anaconda3\\lib\\site-packages\\ipykernel_launcher.py:11: UserWarning: loadtxt: Empty input file: \"yielded/ii_enh_HepG2_NA_NA_2.20000.chr19_window80000_cutoff0.1.txt\"\n",
      "  # This is added back by InteractiveShellApp.init_path()\n"
     ]
    },
    {
     "name": "stdout",
     "output_type": "stream",
     "text": [
      "\r",
      "ii_enh HepG2_NA_NA_ 19      \r",
      "ii_enh HepG2_NA_NA_ 19      \r",
      "ii_enh HepG2_NA_NA_ 19      "
     ]
    },
    {
     "name": "stderr",
     "output_type": "stream",
     "text": [
      "C:\\Users\\Dmitry\\Anaconda3\\lib\\site-packages\\ipykernel_launcher.py:10: UserWarning: loadtxt: Empty input file: \"yielded/ii_enh_HepG2_NA_NA_1.20000.chr19_window80000_cutoff0.2.txt\"\n",
      "  # Remove the CWD from sys.path while we load stuff.\n"
     ]
    },
    {
     "name": "stdout",
     "output_type": "stream",
     "text": [
      "\r",
      "ii_enh HepG2_NA_NA_ 19      \r",
      "ii_enh HepG2_NA_NA_ 19      \r",
      "ii_enh HepG2_NA_NA_ 19      "
     ]
    },
    {
     "name": "stderr",
     "output_type": "stream",
     "text": [
      "C:\\Users\\Dmitry\\Anaconda3\\lib\\site-packages\\ipykernel_launcher.py:10: UserWarning: loadtxt: Empty input file: \"yielded/ii_enh_HepG2_NA_NA_1.20000.chr19_window80000_cutoff0.3.txt\"\n",
      "  # Remove the CWD from sys.path while we load stuff.\n"
     ]
    },
    {
     "name": "stdout",
     "output_type": "stream",
     "text": [
      "ii_enh HepG2_NA_NA_ 19      "
     ]
    },
    {
     "name": "stderr",
     "output_type": "stream",
     "text": [
      "C:\\Users\\Dmitry\\Anaconda3\\lib\\site-packages\\ipykernel_launcher.py:10: UserWarning: loadtxt: Empty input file: \"yielded/ii_enh_HepG2_NA_NA_1.20000.chr19_window80000_cutoff0.4.txt\"\n",
      "  # Remove the CWD from sys.path while we load stuff.\n"
     ]
    },
    {
     "name": "stdout",
     "output_type": "stream",
     "text": [
      "\r",
      "ii_enh HepG2_NA_NA_ 19      \r",
      "ii_enh HepG2_NA_NA_ 19      \r",
      "ii_enh HepG2_NA_NA_ 19      \r",
      "ii_enh HepG2_NA_NA_ 19      "
     ]
    },
    {
     "name": "stderr",
     "output_type": "stream",
     "text": [
      "C:\\Users\\Dmitry\\Anaconda3\\lib\\site-packages\\ipykernel_launcher.py:10: UserWarning: loadtxt: Empty input file: \"yielded/ii_enh_HepG2_NA_NA_1.20000.chr19_window80000_cutoff0.5.txt\"\n",
      "  # Remove the CWD from sys.path while we load stuff.\n"
     ]
    },
    {
     "name": "stdout",
     "output_type": "stream",
     "text": [
      "\r",
      "ii_enh HepG2_NA_NA_ 19      \r",
      "ii_enh HepG2_NA_NA_ 19      \r",
      "ii_enh HepG2_NA_NA_ 19      "
     ]
    },
    {
     "name": "stderr",
     "output_type": "stream",
     "text": [
      "C:\\Users\\Dmitry\\Anaconda3\\lib\\site-packages\\ipykernel_launcher.py:10: UserWarning: loadtxt: Empty input file: \"yielded/ii_enh_HepG2_NA_NA_1.20000.chr19_window80000_cutoff0.6.txt\"\n",
      "  # Remove the CWD from sys.path while we load stuff.\n"
     ]
    },
    {
     "name": "stdout",
     "output_type": "stream",
     "text": [
      "\r",
      "ii_enh HepG2_NA_NA_ 19      \r",
      "ii_enh HepG2_NA_NA_ 19      \r",
      "ii_enh HepG2_NA_NA_ 19      "
     ]
    },
    {
     "name": "stderr",
     "output_type": "stream",
     "text": [
      "C:\\Users\\Dmitry\\Anaconda3\\lib\\site-packages\\ipykernel_launcher.py:10: UserWarning: loadtxt: Empty input file: \"yielded/ii_enh_HepG2_NA_NA_1.20000.chr19_window80000_cutoff0.7.txt\"\n",
      "  # Remove the CWD from sys.path while we load stuff.\n"
     ]
    },
    {
     "name": "stdout",
     "output_type": "stream",
     "text": [
      "ii_enh HepG2_NA_NA_ 19      "
     ]
    },
    {
     "name": "stderr",
     "output_type": "stream",
     "text": [
      "C:\\Users\\Dmitry\\Anaconda3\\lib\\site-packages\\ipykernel_launcher.py:10: UserWarning: loadtxt: Empty input file: \"yielded/ii_enh_HepG2_NA_NA_1.20000.chr19_window80000_cutoff0.8.txt\"\n",
      "  # Remove the CWD from sys.path while we load stuff.\n"
     ]
    },
    {
     "name": "stdout",
     "output_type": "stream",
     "text": [
      "ii_enh RAD21cv-HEK293_HRV-treated_NA_ Y       "
     ]
    },
    {
     "name": "stderr",
     "output_type": "stream",
     "text": [
      "C:\\Users\\Dmitry\\Anaconda3\\lib\\site-packages\\ipykernel_launcher.py:10: UserWarning: loadtxt: Empty input file: \"yielded/ii_enh_RAD21cv-HEK293_HRV-treated_NA_1.20000.chrY_window60000_cutoff0.4.txt\"\n",
      "  # Remove the CWD from sys.path while we load stuff.\n",
      "C:\\Users\\Dmitry\\Anaconda3\\lib\\site-packages\\ipykernel_launcher.py:11: UserWarning: loadtxt: Empty input file: \"yielded/ii_enh_RAD21cv-HEK293_HRV-treated_NA_2.20000.chrY_window60000_cutoff0.4.txt\"\n",
      "  # This is added back by InteractiveShellApp.init_path()\n",
      "C:\\Users\\Dmitry\\Anaconda3\\lib\\site-packages\\ipykernel_launcher.py:10: UserWarning: loadtxt: Empty input file: \"yielded/ii_enh_RAD21cv-HEK293_HRV-treated_NA_1.20000.chrY_window80000_cutoff0.4.txt\"\n",
      "  # Remove the CWD from sys.path while we load stuff.\n",
      "C:\\Users\\Dmitry\\Anaconda3\\lib\\site-packages\\ipykernel_launcher.py:11: UserWarning: loadtxt: Empty input file: \"yielded/ii_enh_RAD21cv-HEK293_HRV-treated_NA_2.20000.chrY_window80000_cutoff0.4.txt\"\n",
      "  # This is added back by InteractiveShellApp.init_path()\n"
     ]
    },
    {
     "name": "stdout",
     "output_type": "stream",
     "text": [
      "ii_enh RAD21cv-HEK293_HRV-treated_NA_ Y      "
     ]
    },
    {
     "name": "stderr",
     "output_type": "stream",
     "text": [
      "C:\\Users\\Dmitry\\Anaconda3\\lib\\site-packages\\ipykernel_launcher.py:10: UserWarning: loadtxt: Empty input file: \"yielded/ii_enh_RAD21cv-HEK293_HRV-treated_NA_1.20000.chrY_window60000_cutoff0.5.txt\"\n",
      "  # Remove the CWD from sys.path while we load stuff.\n",
      "C:\\Users\\Dmitry\\Anaconda3\\lib\\site-packages\\ipykernel_launcher.py:11: UserWarning: loadtxt: Empty input file: \"yielded/ii_enh_RAD21cv-HEK293_HRV-treated_NA_2.20000.chrY_window60000_cutoff0.5.txt\"\n",
      "  # This is added back by InteractiveShellApp.init_path()\n",
      "C:\\Users\\Dmitry\\Anaconda3\\lib\\site-packages\\ipykernel_launcher.py:10: UserWarning: loadtxt: Empty input file: \"yielded/ii_enh_RAD21cv-HEK293_HRV-treated_NA_1.20000.chrY_window80000_cutoff0.5.txt\"\n",
      "  # Remove the CWD from sys.path while we load stuff.\n",
      "C:\\Users\\Dmitry\\Anaconda3\\lib\\site-packages\\ipykernel_launcher.py:11: UserWarning: loadtxt: Empty input file: \"yielded/ii_enh_RAD21cv-HEK293_HRV-treated_NA_2.20000.chrY_window80000_cutoff0.5.txt\"\n",
      "  # This is added back by InteractiveShellApp.init_path()\n"
     ]
    },
    {
     "name": "stdout",
     "output_type": "stream",
     "text": [
      "\r",
      "ii_enh RAD21cv-HEK293_HRV-treated_NA_ Y      \r",
      "ii_enh RAD21cv-HEK293_HRV-treated_NA_ Y      \r",
      "ii_enh RAD21cv-HEK293_HRV-treated_NA_ Y      "
     ]
    },
    {
     "name": "stderr",
     "output_type": "stream",
     "text": [
      "C:\\Users\\Dmitry\\Anaconda3\\lib\\site-packages\\ipykernel_launcher.py:11: UserWarning: loadtxt: Empty input file: \"yielded/ii_enh_RAD21cv-HEK293_HRV-treated_NA_2.20000.chrY_window40000_cutoff0.6.txt\"\n",
      "  # This is added back by InteractiveShellApp.init_path()\n",
      "C:\\Users\\Dmitry\\Anaconda3\\lib\\site-packages\\ipykernel_launcher.py:10: UserWarning: loadtxt: Empty input file: \"yielded/ii_enh_RAD21cv-HEK293_HRV-treated_NA_1.20000.chrY_window60000_cutoff0.6.txt\"\n",
      "  # Remove the CWD from sys.path while we load stuff.\n",
      "C:\\Users\\Dmitry\\Anaconda3\\lib\\site-packages\\ipykernel_launcher.py:11: UserWarning: loadtxt: Empty input file: \"yielded/ii_enh_RAD21cv-HEK293_HRV-treated_NA_2.20000.chrY_window60000_cutoff0.6.txt\"\n",
      "  # This is added back by InteractiveShellApp.init_path()\n",
      "C:\\Users\\Dmitry\\Anaconda3\\lib\\site-packages\\ipykernel_launcher.py:10: UserWarning: loadtxt: Empty input file: \"yielded/ii_enh_RAD21cv-HEK293_HRV-treated_NA_1.20000.chrY_window80000_cutoff0.6.txt\"\n",
      "  # Remove the CWD from sys.path while we load stuff.\n",
      "C:\\Users\\Dmitry\\Anaconda3\\lib\\site-packages\\ipykernel_launcher.py:11: UserWarning: loadtxt: Empty input file: \"yielded/ii_enh_RAD21cv-HEK293_HRV-treated_NA_2.20000.chrY_window80000_cutoff0.6.txt\"\n",
      "  # This is added back by InteractiveShellApp.init_path()\n"
     ]
    },
    {
     "name": "stdout",
     "output_type": "stream",
     "text": [
      "\r",
      "ii_enh RAD21cv-HEK293_HRV-treated_NA_ Y      \r",
      "ii_enh RAD21cv-HEK293_HRV-treated_NA_ Y      \r",
      "ii_enh RAD21cv-HEK293_HRV-treated_NA_ Y      "
     ]
    },
    {
     "name": "stderr",
     "output_type": "stream",
     "text": [
      "C:\\Users\\Dmitry\\Anaconda3\\lib\\site-packages\\ipykernel_launcher.py:11: UserWarning: loadtxt: Empty input file: \"yielded/ii_enh_RAD21cv-HEK293_HRV-treated_NA_2.20000.chrY_window40000_cutoff0.7.txt\"\n",
      "  # This is added back by InteractiveShellApp.init_path()\n",
      "C:\\Users\\Dmitry\\Anaconda3\\lib\\site-packages\\ipykernel_launcher.py:10: UserWarning: loadtxt: Empty input file: \"yielded/ii_enh_RAD21cv-HEK293_HRV-treated_NA_1.20000.chrY_window60000_cutoff0.7.txt\"\n",
      "  # Remove the CWD from sys.path while we load stuff.\n",
      "C:\\Users\\Dmitry\\Anaconda3\\lib\\site-packages\\ipykernel_launcher.py:11: UserWarning: loadtxt: Empty input file: \"yielded/ii_enh_RAD21cv-HEK293_HRV-treated_NA_2.20000.chrY_window60000_cutoff0.7.txt\"\n",
      "  # This is added back by InteractiveShellApp.init_path()\n",
      "C:\\Users\\Dmitry\\Anaconda3\\lib\\site-packages\\ipykernel_launcher.py:10: UserWarning: loadtxt: Empty input file: \"yielded/ii_enh_RAD21cv-HEK293_HRV-treated_NA_1.20000.chrY_window80000_cutoff0.7.txt\"\n",
      "  # Remove the CWD from sys.path while we load stuff.\n",
      "C:\\Users\\Dmitry\\Anaconda3\\lib\\site-packages\\ipykernel_launcher.py:11: UserWarning: loadtxt: Empty input file: \"yielded/ii_enh_RAD21cv-HEK293_HRV-treated_NA_2.20000.chrY_window80000_cutoff0.7.txt\"\n",
      "  # This is added back by InteractiveShellApp.init_path()\n"
     ]
    },
    {
     "name": "stdout",
     "output_type": "stream",
     "text": [
      "ii_enh RAD21cv-HEK293_HRV-treated_NA_ Y      "
     ]
    },
    {
     "name": "stderr",
     "output_type": "stream",
     "text": [
      "C:\\Users\\Dmitry\\Anaconda3\\lib\\site-packages\\ipykernel_launcher.py:10: UserWarning: loadtxt: Empty input file: \"yielded/ii_enh_RAD21cv-HEK293_HRV-treated_NA_1.20000.chrY_window40000_cutoff0.8.txt\"\n",
      "  # Remove the CWD from sys.path while we load stuff.\n",
      "C:\\Users\\Dmitry\\Anaconda3\\lib\\site-packages\\ipykernel_launcher.py:11: UserWarning: loadtxt: Empty input file: \"yielded/ii_enh_RAD21cv-HEK293_HRV-treated_NA_2.20000.chrY_window40000_cutoff0.8.txt\"\n",
      "  # This is added back by InteractiveShellApp.init_path()\n",
      "C:\\Users\\Dmitry\\Anaconda3\\lib\\site-packages\\ipykernel_launcher.py:10: UserWarning: loadtxt: Empty input file: \"yielded/ii_enh_RAD21cv-HEK293_HRV-treated_NA_1.20000.chrY_window60000_cutoff0.8.txt\"\n",
      "  # Remove the CWD from sys.path while we load stuff.\n",
      "C:\\Users\\Dmitry\\Anaconda3\\lib\\site-packages\\ipykernel_launcher.py:11: UserWarning: loadtxt: Empty input file: \"yielded/ii_enh_RAD21cv-HEK293_HRV-treated_NA_2.20000.chrY_window60000_cutoff0.8.txt\"\n",
      "  # This is added back by InteractiveShellApp.init_path()\n"
     ]
    },
    {
     "name": "stdout",
     "output_type": "stream",
     "text": [
      "\r",
      "ii_enh RAD21cv-HEK293_HRV-treated_NA_ Y      \r",
      "ii_enh RAD21cv-HEK293_HRV-treated_NA_ Y      "
     ]
    },
    {
     "name": "stderr",
     "output_type": "stream",
     "text": [
      "C:\\Users\\Dmitry\\Anaconda3\\lib\\site-packages\\ipykernel_launcher.py:10: UserWarning: loadtxt: Empty input file: \"yielded/ii_enh_RAD21cv-HEK293_HRV-treated_NA_1.20000.chrY_window80000_cutoff0.8.txt\"\n",
      "  # Remove the CWD from sys.path while we load stuff.\n",
      "C:\\Users\\Dmitry\\Anaconda3\\lib\\site-packages\\ipykernel_launcher.py:11: UserWarning: loadtxt: Empty input file: \"yielded/ii_enh_RAD21cv-HEK293_HRV-treated_NA_2.20000.chrY_window80000_cutoff0.8.txt\"\n",
      "  # This is added back by InteractiveShellApp.init_path()\n"
     ]
    },
    {
     "name": "stdout",
     "output_type": "stream",
     "text": [
      "\r",
      "ii_enh RAD21cv-HEK293_HRV-treated_NA_ Y      \r",
      "ii_enh RAD21cv-HEK293_HRV-treated_NA_ Y      "
     ]
    },
    {
     "name": "stderr",
     "output_type": "stream",
     "text": [
      "C:\\Users\\Dmitry\\Anaconda3\\lib\\site-packages\\ipykernel_launcher.py:10: UserWarning: loadtxt: Empty input file: \"yielded/ii_enh_RAD21cv-HEK293_HRV-treated_NA_1.20000.chrY_window40000_cutoff0.9.txt\"\n",
      "  # Remove the CWD from sys.path while we load stuff.\n",
      "C:\\Users\\Dmitry\\Anaconda3\\lib\\site-packages\\ipykernel_launcher.py:11: UserWarning: loadtxt: Empty input file: \"yielded/ii_enh_RAD21cv-HEK293_HRV-treated_NA_2.20000.chrY_window40000_cutoff0.9.txt\"\n",
      "  # This is added back by InteractiveShellApp.init_path()\n",
      "C:\\Users\\Dmitry\\Anaconda3\\lib\\site-packages\\ipykernel_launcher.py:10: UserWarning: loadtxt: Empty input file: \"yielded/ii_enh_RAD21cv-HEK293_HRV-treated_NA_1.20000.chrY_window60000_cutoff0.9.txt\"\n",
      "  # Remove the CWD from sys.path while we load stuff.\n",
      "C:\\Users\\Dmitry\\Anaconda3\\lib\\site-packages\\ipykernel_launcher.py:11: UserWarning: loadtxt: Empty input file: \"yielded/ii_enh_RAD21cv-HEK293_HRV-treated_NA_2.20000.chrY_window60000_cutoff0.9.txt\"\n",
      "  # This is added back by InteractiveShellApp.init_path()\n"
     ]
    },
    {
     "name": "stdout",
     "output_type": "stream",
     "text": [
      "\r",
      "ii_enh RAD21cv-HEK293_HRV-treated_NA_ Y      \r",
      "ii_enh RAD21cv-HEK293_HRV-treated_NA_ Y      "
     ]
    },
    {
     "name": "stderr",
     "output_type": "stream",
     "text": [
      "C:\\Users\\Dmitry\\Anaconda3\\lib\\site-packages\\ipykernel_launcher.py:10: UserWarning: loadtxt: Empty input file: \"yielded/ii_enh_RAD21cv-HEK293_HRV-treated_NA_1.20000.chrY_window80000_cutoff0.9.txt\"\n",
      "  # Remove the CWD from sys.path while we load stuff.\n",
      "C:\\Users\\Dmitry\\Anaconda3\\lib\\site-packages\\ipykernel_launcher.py:11: UserWarning: loadtxt: Empty input file: \"yielded/ii_enh_RAD21cv-HEK293_HRV-treated_NA_2.20000.chrY_window80000_cutoff0.9.txt\"\n",
      "  # This is added back by InteractiveShellApp.init_path()\n"
     ]
    },
    {
     "name": "stdout",
     "output_type": "stream",
     "text": [
      "\r",
      "ii_enh RAD21cv-HEK293_HRV-treated_NA_ Y      \r",
      "ii_enh RAD21cv-HEK293_HRV-treated_NA_ Y      \r",
      "ii_enh RAD21cv-HEK293_HRV-treated_NA_ Y      "
     ]
    },
    {
     "name": "stderr",
     "output_type": "stream",
     "text": [
      "C:\\Users\\Dmitry\\Anaconda3\\lib\\site-packages\\ipykernel_launcher.py:10: UserWarning: loadtxt: Empty input file: \"yielded/ii_enh_RAD21cv-HEK293_HRV-treated_NA_1.20000.chrY_window40000_cutoff1.0.txt\"\n",
      "  # Remove the CWD from sys.path while we load stuff.\n",
      "C:\\Users\\Dmitry\\Anaconda3\\lib\\site-packages\\ipykernel_launcher.py:11: UserWarning: loadtxt: Empty input file: \"yielded/ii_enh_RAD21cv-HEK293_HRV-treated_NA_2.20000.chrY_window40000_cutoff1.0.txt\"\n",
      "  # This is added back by InteractiveShellApp.init_path()\n",
      "C:\\Users\\Dmitry\\Anaconda3\\lib\\site-packages\\ipykernel_launcher.py:10: UserWarning: loadtxt: Empty input file: \"yielded/ii_enh_RAD21cv-HEK293_HRV-treated_NA_1.20000.chrY_window60000_cutoff1.0.txt\"\n",
      "  # Remove the CWD from sys.path while we load stuff.\n",
      "C:\\Users\\Dmitry\\Anaconda3\\lib\\site-packages\\ipykernel_launcher.py:11: UserWarning: loadtxt: Empty input file: \"yielded/ii_enh_RAD21cv-HEK293_HRV-treated_NA_2.20000.chrY_window60000_cutoff1.0.txt\"\n",
      "  # This is added back by InteractiveShellApp.init_path()\n",
      "C:\\Users\\Dmitry\\Anaconda3\\lib\\site-packages\\ipykernel_launcher.py:10: UserWarning: loadtxt: Empty input file: \"yielded/ii_enh_RAD21cv-HEK293_HRV-treated_NA_1.20000.chrY_window80000_cutoff1.0.txt\"\n",
      "  # Remove the CWD from sys.path while we load stuff.\n",
      "C:\\Users\\Dmitry\\Anaconda3\\lib\\site-packages\\ipykernel_launcher.py:11: UserWarning: loadtxt: Empty input file: \"yielded/ii_enh_RAD21cv-HEK293_HRV-treated_NA_2.20000.chrY_window80000_cutoff1.0.txt\"\n",
      "  # This is added back by InteractiveShellApp.init_path()\n"
     ]
    },
    {
     "name": "stdout",
     "output_type": "stream",
     "text": [
      "ii_enh RAD21cv-HEK293_TEV-treated_NA_ Y       "
     ]
    },
    {
     "name": "stderr",
     "output_type": "stream",
     "text": [
      "C:\\Users\\Dmitry\\Anaconda3\\lib\\site-packages\\ipykernel_launcher.py:11: UserWarning: loadtxt: Empty input file: \"yielded/ii_enh_RAD21cv-HEK293_TEV-treated_NA_2.20000.chrY_window60000_cutoff0.2.txt\"\n",
      "  # This is added back by InteractiveShellApp.init_path()\n",
      "C:\\Users\\Dmitry\\Anaconda3\\lib\\site-packages\\ipykernel_launcher.py:11: UserWarning: loadtxt: Empty input file: \"yielded/ii_enh_RAD21cv-HEK293_TEV-treated_NA_2.20000.chrY_window80000_cutoff0.2.txt\"\n",
      "  # This is added back by InteractiveShellApp.init_path()\n"
     ]
    },
    {
     "name": "stdout",
     "output_type": "stream",
     "text": [
      "\r",
      "ii_enh RAD21cv-HEK293_TEV-treated_NA_ Y      \r",
      "ii_enh RAD21cv-HEK293_TEV-treated_NA_ Y      \r",
      "ii_enh RAD21cv-HEK293_TEV-treated_NA_ Y      "
     ]
    },
    {
     "name": "stderr",
     "output_type": "stream",
     "text": [
      "C:\\Users\\Dmitry\\Anaconda3\\lib\\site-packages\\ipykernel_launcher.py:11: UserWarning: loadtxt: Empty input file: \"yielded/ii_enh_RAD21cv-HEK293_TEV-treated_NA_2.20000.chrY_window40000_cutoff0.3.txt\"\n",
      "  # This is added back by InteractiveShellApp.init_path()\n",
      "C:\\Users\\Dmitry\\Anaconda3\\lib\\site-packages\\ipykernel_launcher.py:11: UserWarning: loadtxt: Empty input file: \"yielded/ii_enh_RAD21cv-HEK293_TEV-treated_NA_2.20000.chrY_window60000_cutoff0.3.txt\"\n",
      "  # This is added back by InteractiveShellApp.init_path()\n",
      "C:\\Users\\Dmitry\\Anaconda3\\lib\\site-packages\\ipykernel_launcher.py:10: UserWarning: loadtxt: Empty input file: \"yielded/ii_enh_RAD21cv-HEK293_TEV-treated_NA_1.20000.chrY_window80000_cutoff0.3.txt\"\n",
      "  # Remove the CWD from sys.path while we load stuff.\n",
      "C:\\Users\\Dmitry\\Anaconda3\\lib\\site-packages\\ipykernel_launcher.py:11: UserWarning: loadtxt: Empty input file: \"yielded/ii_enh_RAD21cv-HEK293_TEV-treated_NA_2.20000.chrY_window80000_cutoff0.3.txt\"\n",
      "  # This is added back by InteractiveShellApp.init_path()\n"
     ]
    },
    {
     "name": "stdout",
     "output_type": "stream",
     "text": [
      "\r",
      "ii_enh RAD21cv-HEK293_TEV-treated_NA_ Y      \r",
      "ii_enh RAD21cv-HEK293_TEV-treated_NA_ Y      "
     ]
    },
    {
     "name": "stderr",
     "output_type": "stream",
     "text": [
      "C:\\Users\\Dmitry\\Anaconda3\\lib\\site-packages\\ipykernel_launcher.py:11: UserWarning: loadtxt: Empty input file: \"yielded/ii_enh_RAD21cv-HEK293_TEV-treated_NA_2.20000.chrY_window40000_cutoff0.4.txt\"\n",
      "  # This is added back by InteractiveShellApp.init_path()\n",
      "C:\\Users\\Dmitry\\Anaconda3\\lib\\site-packages\\ipykernel_launcher.py:10: UserWarning: loadtxt: Empty input file: \"yielded/ii_enh_RAD21cv-HEK293_TEV-treated_NA_1.20000.chrY_window60000_cutoff0.4.txt\"\n",
      "  # Remove the CWD from sys.path while we load stuff.\n",
      "C:\\Users\\Dmitry\\Anaconda3\\lib\\site-packages\\ipykernel_launcher.py:11: UserWarning: loadtxt: Empty input file: \"yielded/ii_enh_RAD21cv-HEK293_TEV-treated_NA_2.20000.chrY_window60000_cutoff0.4.txt\"\n",
      "  # This is added back by InteractiveShellApp.init_path()\n"
     ]
    },
    {
     "name": "stdout",
     "output_type": "stream",
     "text": [
      "\r",
      "ii_enh RAD21cv-HEK293_TEV-treated_NA_ Y      \r",
      "ii_enh RAD21cv-HEK293_TEV-treated_NA_ Y      \r",
      "ii_enh RAD21cv-HEK293_TEV-treated_NA_ Y      "
     ]
    },
    {
     "name": "stderr",
     "output_type": "stream",
     "text": [
      "C:\\Users\\Dmitry\\Anaconda3\\lib\\site-packages\\ipykernel_launcher.py:10: UserWarning: loadtxt: Empty input file: \"yielded/ii_enh_RAD21cv-HEK293_TEV-treated_NA_1.20000.chrY_window80000_cutoff0.4.txt\"\n",
      "  # Remove the CWD from sys.path while we load stuff.\n",
      "C:\\Users\\Dmitry\\Anaconda3\\lib\\site-packages\\ipykernel_launcher.py:11: UserWarning: loadtxt: Empty input file: \"yielded/ii_enh_RAD21cv-HEK293_TEV-treated_NA_2.20000.chrY_window80000_cutoff0.4.txt\"\n",
      "  # This is added back by InteractiveShellApp.init_path()\n"
     ]
    },
    {
     "name": "stdout",
     "output_type": "stream",
     "text": [
      "\r",
      "ii_enh RAD21cv-HEK293_TEV-treated_NA_ Y      \r",
      "ii_enh RAD21cv-HEK293_TEV-treated_NA_ Y      "
     ]
    },
    {
     "name": "stderr",
     "output_type": "stream",
     "text": [
      "C:\\Users\\Dmitry\\Anaconda3\\lib\\site-packages\\ipykernel_launcher.py:11: UserWarning: loadtxt: Empty input file: \"yielded/ii_enh_RAD21cv-HEK293_TEV-treated_NA_2.20000.chrY_window40000_cutoff0.5.txt\"\n",
      "  # This is added back by InteractiveShellApp.init_path()\n",
      "C:\\Users\\Dmitry\\Anaconda3\\lib\\site-packages\\ipykernel_launcher.py:10: UserWarning: loadtxt: Empty input file: \"yielded/ii_enh_RAD21cv-HEK293_TEV-treated_NA_1.20000.chrY_window60000_cutoff0.5.txt\"\n",
      "  # Remove the CWD from sys.path while we load stuff.\n",
      "C:\\Users\\Dmitry\\Anaconda3\\lib\\site-packages\\ipykernel_launcher.py:11: UserWarning: loadtxt: Empty input file: \"yielded/ii_enh_RAD21cv-HEK293_TEV-treated_NA_2.20000.chrY_window60000_cutoff0.5.txt\"\n",
      "  # This is added back by InteractiveShellApp.init_path()\n"
     ]
    },
    {
     "name": "stdout",
     "output_type": "stream",
     "text": [
      "\r",
      "ii_enh RAD21cv-HEK293_TEV-treated_NA_ Y      \r",
      "ii_enh RAD21cv-HEK293_TEV-treated_NA_ Y      \r",
      "ii_enh RAD21cv-HEK293_TEV-treated_NA_ Y      "
     ]
    },
    {
     "name": "stderr",
     "output_type": "stream",
     "text": [
      "C:\\Users\\Dmitry\\Anaconda3\\lib\\site-packages\\ipykernel_launcher.py:10: UserWarning: loadtxt: Empty input file: \"yielded/ii_enh_RAD21cv-HEK293_TEV-treated_NA_1.20000.chrY_window80000_cutoff0.5.txt\"\n",
      "  # Remove the CWD from sys.path while we load stuff.\n",
      "C:\\Users\\Dmitry\\Anaconda3\\lib\\site-packages\\ipykernel_launcher.py:11: UserWarning: loadtxt: Empty input file: \"yielded/ii_enh_RAD21cv-HEK293_TEV-treated_NA_2.20000.chrY_window80000_cutoff0.5.txt\"\n",
      "  # This is added back by InteractiveShellApp.init_path()\n",
      "C:\\Users\\Dmitry\\Anaconda3\\lib\\site-packages\\ipykernel_launcher.py:10: UserWarning: loadtxt: Empty input file: \"yielded/ii_enh_RAD21cv-HEK293_TEV-treated_NA_1.20000.chrY_window40000_cutoff0.6.txt\"\n",
      "  # Remove the CWD from sys.path while we load stuff.\n",
      "C:\\Users\\Dmitry\\Anaconda3\\lib\\site-packages\\ipykernel_launcher.py:11: UserWarning: loadtxt: Empty input file: \"yielded/ii_enh_RAD21cv-HEK293_TEV-treated_NA_2.20000.chrY_window40000_cutoff0.6.txt\"\n",
      "  # This is added back by InteractiveShellApp.init_path()\n"
     ]
    },
    {
     "name": "stdout",
     "output_type": "stream",
     "text": [
      "\r",
      "ii_enh RAD21cv-HEK293_TEV-treated_NA_ Y      \r",
      "ii_enh RAD21cv-HEK293_TEV-treated_NA_ Y      \r",
      "ii_enh RAD21cv-HEK293_TEV-treated_NA_ Y      "
     ]
    },
    {
     "name": "stderr",
     "output_type": "stream",
     "text": [
      "C:\\Users\\Dmitry\\Anaconda3\\lib\\site-packages\\ipykernel_launcher.py:10: UserWarning: loadtxt: Empty input file: \"yielded/ii_enh_RAD21cv-HEK293_TEV-treated_NA_1.20000.chrY_window60000_cutoff0.6.txt\"\n",
      "  # Remove the CWD from sys.path while we load stuff.\n",
      "C:\\Users\\Dmitry\\Anaconda3\\lib\\site-packages\\ipykernel_launcher.py:11: UserWarning: loadtxt: Empty input file: \"yielded/ii_enh_RAD21cv-HEK293_TEV-treated_NA_2.20000.chrY_window60000_cutoff0.6.txt\"\n",
      "  # This is added back by InteractiveShellApp.init_path()\n",
      "C:\\Users\\Dmitry\\Anaconda3\\lib\\site-packages\\ipykernel_launcher.py:10: UserWarning: loadtxt: Empty input file: \"yielded/ii_enh_RAD21cv-HEK293_TEV-treated_NA_1.20000.chrY_window80000_cutoff0.6.txt\"\n",
      "  # Remove the CWD from sys.path while we load stuff.\n",
      "C:\\Users\\Dmitry\\Anaconda3\\lib\\site-packages\\ipykernel_launcher.py:11: UserWarning: loadtxt: Empty input file: \"yielded/ii_enh_RAD21cv-HEK293_TEV-treated_NA_2.20000.chrY_window80000_cutoff0.6.txt\"\n",
      "  # This is added back by InteractiveShellApp.init_path()\n"
     ]
    },
    {
     "name": "stdout",
     "output_type": "stream",
     "text": [
      "\r",
      "ii_enh RAD21cv-HEK293_TEV-treated_NA_ Y      \r",
      "ii_enh RAD21cv-HEK293_TEV-treated_NA_ Y      \r",
      "ii_enh RAD21cv-HEK293_TEV-treated_NA_ Y      "
     ]
    },
    {
     "name": "stderr",
     "output_type": "stream",
     "text": [
      "C:\\Users\\Dmitry\\Anaconda3\\lib\\site-packages\\ipykernel_launcher.py:10: UserWarning: loadtxt: Empty input file: \"yielded/ii_enh_RAD21cv-HEK293_TEV-treated_NA_1.20000.chrY_window40000_cutoff0.7.txt\"\n",
      "  # Remove the CWD from sys.path while we load stuff.\n",
      "C:\\Users\\Dmitry\\Anaconda3\\lib\\site-packages\\ipykernel_launcher.py:11: UserWarning: loadtxt: Empty input file: \"yielded/ii_enh_RAD21cv-HEK293_TEV-treated_NA_2.20000.chrY_window40000_cutoff0.7.txt\"\n",
      "  # This is added back by InteractiveShellApp.init_path()\n",
      "C:\\Users\\Dmitry\\Anaconda3\\lib\\site-packages\\ipykernel_launcher.py:10: UserWarning: loadtxt: Empty input file: \"yielded/ii_enh_RAD21cv-HEK293_TEV-treated_NA_1.20000.chrY_window60000_cutoff0.7.txt\"\n",
      "  # Remove the CWD from sys.path while we load stuff.\n",
      "C:\\Users\\Dmitry\\Anaconda3\\lib\\site-packages\\ipykernel_launcher.py:11: UserWarning: loadtxt: Empty input file: \"yielded/ii_enh_RAD21cv-HEK293_TEV-treated_NA_2.20000.chrY_window60000_cutoff0.7.txt\"\n",
      "  # This is added back by InteractiveShellApp.init_path()\n",
      "C:\\Users\\Dmitry\\Anaconda3\\lib\\site-packages\\ipykernel_launcher.py:10: UserWarning: loadtxt: Empty input file: \"yielded/ii_enh_RAD21cv-HEK293_TEV-treated_NA_1.20000.chrY_window80000_cutoff0.7.txt\"\n",
      "  # Remove the CWD from sys.path while we load stuff.\n",
      "C:\\Users\\Dmitry\\Anaconda3\\lib\\site-packages\\ipykernel_launcher.py:11: UserWarning: loadtxt: Empty input file: \"yielded/ii_enh_RAD21cv-HEK293_TEV-treated_NA_2.20000.chrY_window80000_cutoff0.7.txt\"\n",
      "  # This is added back by InteractiveShellApp.init_path()\n"
     ]
    },
    {
     "name": "stdout",
     "output_type": "stream",
     "text": [
      "\r",
      "ii_enh RAD21cv-HEK293_TEV-treated_NA_ Y      \r",
      "ii_enh RAD21cv-HEK293_TEV-treated_NA_ Y      \r",
      "ii_enh RAD21cv-HEK293_TEV-treated_NA_ Y      "
     ]
    },
    {
     "name": "stderr",
     "output_type": "stream",
     "text": [
      "C:\\Users\\Dmitry\\Anaconda3\\lib\\site-packages\\ipykernel_launcher.py:10: UserWarning: loadtxt: Empty input file: \"yielded/ii_enh_RAD21cv-HEK293_TEV-treated_NA_1.20000.chrY_window40000_cutoff0.8.txt\"\n",
      "  # Remove the CWD from sys.path while we load stuff.\n",
      "C:\\Users\\Dmitry\\Anaconda3\\lib\\site-packages\\ipykernel_launcher.py:11: UserWarning: loadtxt: Empty input file: \"yielded/ii_enh_RAD21cv-HEK293_TEV-treated_NA_2.20000.chrY_window40000_cutoff0.8.txt\"\n",
      "  # This is added back by InteractiveShellApp.init_path()\n",
      "C:\\Users\\Dmitry\\Anaconda3\\lib\\site-packages\\ipykernel_launcher.py:10: UserWarning: loadtxt: Empty input file: \"yielded/ii_enh_RAD21cv-HEK293_TEV-treated_NA_1.20000.chrY_window60000_cutoff0.8.txt\"\n",
      "  # Remove the CWD from sys.path while we load stuff.\n",
      "C:\\Users\\Dmitry\\Anaconda3\\lib\\site-packages\\ipykernel_launcher.py:11: UserWarning: loadtxt: Empty input file: \"yielded/ii_enh_RAD21cv-HEK293_TEV-treated_NA_2.20000.chrY_window60000_cutoff0.8.txt\"\n",
      "  # This is added back by InteractiveShellApp.init_path()\n"
     ]
    },
    {
     "name": "stdout",
     "output_type": "stream",
     "text": [
      "\r",
      "ii_enh RAD21cv-HEK293_TEV-treated_NA_ Y      \r",
      "ii_enh RAD21cv-HEK293_TEV-treated_NA_ Y      "
     ]
    },
    {
     "name": "stderr",
     "output_type": "stream",
     "text": [
      "C:\\Users\\Dmitry\\Anaconda3\\lib\\site-packages\\ipykernel_launcher.py:10: UserWarning: loadtxt: Empty input file: \"yielded/ii_enh_RAD21cv-HEK293_TEV-treated_NA_1.20000.chrY_window80000_cutoff0.8.txt\"\n",
      "  # Remove the CWD from sys.path while we load stuff.\n",
      "C:\\Users\\Dmitry\\Anaconda3\\lib\\site-packages\\ipykernel_launcher.py:11: UserWarning: loadtxt: Empty input file: \"yielded/ii_enh_RAD21cv-HEK293_TEV-treated_NA_2.20000.chrY_window80000_cutoff0.8.txt\"\n",
      "  # This is added back by InteractiveShellApp.init_path()\n",
      "C:\\Users\\Dmitry\\Anaconda3\\lib\\site-packages\\ipykernel_launcher.py:10: UserWarning: loadtxt: Empty input file: \"yielded/ii_enh_RAD21cv-HEK293_TEV-treated_NA_1.20000.chrY_window40000_cutoff0.9.txt\"\n",
      "  # Remove the CWD from sys.path while we load stuff.\n",
      "C:\\Users\\Dmitry\\Anaconda3\\lib\\site-packages\\ipykernel_launcher.py:11: UserWarning: loadtxt: Empty input file: \"yielded/ii_enh_RAD21cv-HEK293_TEV-treated_NA_2.20000.chrY_window40000_cutoff0.9.txt\"\n",
      "  # This is added back by InteractiveShellApp.init_path()\n"
     ]
    },
    {
     "name": "stdout",
     "output_type": "stream",
     "text": [
      "\r",
      "ii_enh RAD21cv-HEK293_TEV-treated_NA_ Y      \r",
      "ii_enh RAD21cv-HEK293_TEV-treated_NA_ Y      "
     ]
    },
    {
     "name": "stderr",
     "output_type": "stream",
     "text": [
      "C:\\Users\\Dmitry\\Anaconda3\\lib\\site-packages\\ipykernel_launcher.py:10: UserWarning: loadtxt: Empty input file: \"yielded/ii_enh_RAD21cv-HEK293_TEV-treated_NA_1.20000.chrY_window60000_cutoff0.9.txt\"\n",
      "  # Remove the CWD from sys.path while we load stuff.\n",
      "C:\\Users\\Dmitry\\Anaconda3\\lib\\site-packages\\ipykernel_launcher.py:11: UserWarning: loadtxt: Empty input file: \"yielded/ii_enh_RAD21cv-HEK293_TEV-treated_NA_2.20000.chrY_window60000_cutoff0.9.txt\"\n",
      "  # This is added back by InteractiveShellApp.init_path()\n",
      "C:\\Users\\Dmitry\\Anaconda3\\lib\\site-packages\\ipykernel_launcher.py:10: UserWarning: loadtxt: Empty input file: \"yielded/ii_enh_RAD21cv-HEK293_TEV-treated_NA_1.20000.chrY_window80000_cutoff0.9.txt\"\n",
      "  # Remove the CWD from sys.path while we load stuff.\n",
      "C:\\Users\\Dmitry\\Anaconda3\\lib\\site-packages\\ipykernel_launcher.py:11: UserWarning: loadtxt: Empty input file: \"yielded/ii_enh_RAD21cv-HEK293_TEV-treated_NA_2.20000.chrY_window80000_cutoff0.9.txt\"\n",
      "  # This is added back by InteractiveShellApp.init_path()\n"
     ]
    },
    {
     "name": "stdout",
     "output_type": "stream",
     "text": [
      "\r",
      "ii_enh RAD21cv-HEK293_TEV-treated_NA_ Y      \r",
      "ii_enh RAD21cv-HEK293_TEV-treated_NA_ Y      \r",
      "ii_enh RAD21cv-HEK293_TEV-treated_NA_ Y      "
     ]
    },
    {
     "name": "stderr",
     "output_type": "stream",
     "text": [
      "C:\\Users\\Dmitry\\Anaconda3\\lib\\site-packages\\ipykernel_launcher.py:10: UserWarning: loadtxt: Empty input file: \"yielded/ii_enh_RAD21cv-HEK293_TEV-treated_NA_1.20000.chrY_window40000_cutoff1.0.txt\"\n",
      "  # Remove the CWD from sys.path while we load stuff.\n",
      "C:\\Users\\Dmitry\\Anaconda3\\lib\\site-packages\\ipykernel_launcher.py:11: UserWarning: loadtxt: Empty input file: \"yielded/ii_enh_RAD21cv-HEK293_TEV-treated_NA_2.20000.chrY_window40000_cutoff1.0.txt\"\n",
      "  # This is added back by InteractiveShellApp.init_path()\n",
      "C:\\Users\\Dmitry\\Anaconda3\\lib\\site-packages\\ipykernel_launcher.py:10: UserWarning: loadtxt: Empty input file: \"yielded/ii_enh_RAD21cv-HEK293_TEV-treated_NA_1.20000.chrY_window60000_cutoff1.0.txt\"\n",
      "  # Remove the CWD from sys.path while we load stuff.\n",
      "C:\\Users\\Dmitry\\Anaconda3\\lib\\site-packages\\ipykernel_launcher.py:11: UserWarning: loadtxt: Empty input file: \"yielded/ii_enh_RAD21cv-HEK293_TEV-treated_NA_2.20000.chrY_window60000_cutoff1.0.txt\"\n",
      "  # This is added back by InteractiveShellApp.init_path()\n",
      "C:\\Users\\Dmitry\\Anaconda3\\lib\\site-packages\\ipykernel_launcher.py:10: UserWarning: loadtxt: Empty input file: \"yielded/ii_enh_RAD21cv-HEK293_TEV-treated_NA_1.20000.chrY_window80000_cutoff1.0.txt\"\n",
      "  # Remove the CWD from sys.path while we load stuff.\n"
     ]
    },
    {
     "name": "stdout",
     "output_type": "stream",
     "text": [
      "\r",
      "ii_enh RAD21cv-HEK293_TEV-treated_NA_ Y      \r",
      "ii_enh RAD21cv-HEK293_TEV-treated_NA_ Y      "
     ]
    },
    {
     "name": "stderr",
     "output_type": "stream",
     "text": [
      "C:\\Users\\Dmitry\\Anaconda3\\lib\\site-packages\\ipykernel_launcher.py:11: UserWarning: loadtxt: Empty input file: \"yielded/ii_enh_RAD21cv-HEK293_TEV-treated_NA_2.20000.chrY_window80000_cutoff1.0.txt\"\n",
      "  # This is added back by InteractiveShellApp.init_path()\n"
     ]
    },
    {
     "data": {
      "image/png": "[encoded data removed]",
      "text/plain": [
       "<matplotlib.figure.Figure at 0x1d8ff1e24e0>"
      ]
     },
     "metadata": {},
     "output_type": "display_data"
    }
   ],
   "source": [
    "# Inspect initial results for ii\n",
    "ii_stats = pd.DataFrame(index=range(len(chroms) * len(ii_enh_cutoff_values) * len(ii_enh_window_values) * len(repls) * len(compare_stats)), columns=[\"repl\", \"chrom\", \"cutoff\", \"window\", \"value\", \"stat\", \"tad_size\", \"amount\"])\n",
    "index = 0\n",
    "for line in lines:\n",
    "    for chrom in chroms:\n",
    "        for cutoff in ii_enh_cutoff_values:\n",
    "            for window in ii_enh_window_values:\n",
    "                print(f\"\\rii_enh {line} {chrom}      \", end=\"\")\n",
    "                empty_1, empty_2 = False, False\n",
    "                repl_1 = np.loadtxt(f\"{out_location}ii_enh_{line}{1}.20000.chr{chrom}_window{window}_cutoff{cutoff}.txt\", ndmin=2)\n",
    "                repl_2 = np.loadtxt(f\"{out_location}ii_enh_{line}{2}.20000.chr{chrom}_window{window}_cutoff{cutoff}.txt\", ndmin=2)\n",
    "\n",
    "                if repl_1.shape[0] == 0:\n",
    "                    for stat in compare_stats:\n",
    "                        ii_stats.loc[index, :] = [1, chrom, cutoff, window, 0, stat, 0, 0]\n",
    "                        index += 1\n",
    "                    empty_1 = True\n",
    "\n",
    "                if repl_2.shape[0] == 0:\n",
    "                    for stat in compare_stats:\n",
    "                        ii_stats.loc[index, :] = [2, chrom, cutoff, window, 0, stat, 0, 0]\n",
    "                        index += 1\n",
    "                    empty_2 = True\n",
    "\n",
    "                if empty_1 * empty_2:\n",
    "                    continue\n",
    "\n",
    "                elif empty_1:\n",
    "                    size_2 = np.median(repl_2[:, 1] - repl_2[:, 0])\n",
    "                    for stat in compare_stats:\n",
    "                        ii_stats.loc[index, :] = [2, chrom, cutoff, window, 0, stat, size_2, repl_2.shape[0]]\n",
    "                        index += 1\n",
    "                    continue\n",
    "\n",
    "                elif empty_2:\n",
    "                    size_1 = np.median(repl_1[:, 1] - repl_1[:, 0])\n",
    "                    for stat in compare_stats:\n",
    "                        ii_stats.loc[index, :] = [1, chrom, cutoff, window, 0, stat, size_1, repl_1.shape[0]]\n",
    "                        index += 1\n",
    "                    continue\n",
    "\n",
    "                coordinates = (repl_1[:, 0], repl_1[:, 1], repl_2[:, 0], repl_2[:, 1])\n",
    "                size_amo = size_amount(repl_1, repl_2)\n",
    "                for repl in repls:\n",
    "                    for stat in compare_stats:\n",
    "                        ii_stats.loc[index, :] = [repl, chrom, cutoff, window, coefs[stat](*coordinates), stat, size_amo[repl][\"size\"], size_amo[repl][\"amount\"]]\n",
    "                        index += 1\n",
    "    ii_stats[\"cutoff\"] = np.array(ii_stats[\"cutoff\"], dtype=float)\n",
    "    ii_stats[\"window\"] = np.array(ii_stats[\"window\"], dtype=float)\n",
    "    ii_stats[\"tad_size\"] = np.array(ii_stats[\"tad_size\"], dtype=float)\n",
    "    ii_stats[\"amount\"] = np.array(ii_stats[\"amount\"], dtype=float)\n",
    "    ii_stats[\"value\"] = np.array(ii_stats[\"value\"], dtype=float)               \n",
    "    mpl.rcParams['figure.figsize'] = [30, 12]\n",
    "    plt.subplot(231)\n",
    "    sns.heatmap(data=ii_stats[ii_stats[\"stat\"] == \"JI TADs\"].pivot_table(index=[\"window\"], columns=[\"cutoff\"], values=\"value\"), center=0.5, linewidths=.5, vmin=0, vmax=1)\n",
    "    plt.title(\"Insulation score: JI of TADs between two replica\")\n",
    "    plt.subplot(232)\n",
    "    sns.heatmap(data=ii_stats[ii_stats[\"stat\"] == \"JI boundaries\"].pivot_table(index=[\"window\"], columns=[\"cutoff\"], values=\"value\"), center=0.5, linewidths=.5, vmin=0, vmax=1)\n",
    "    plt.title(\"Insulation score: JI of boundaries between two replica\")\n",
    "    plt.subplot(233)\n",
    "    sns.heatmap(data=ii_stats.pivot_table(index=[\"window\"], columns=[\"cutoff\"], values=\"tad_size\"), center=1000000, linewidths=.5, vmin=0)\n",
    "    plt.title(\"Insulation score: mean size of TADs\")\n",
    "    plt.subplot(234)\n",
    "    sns.heatmap(data=ii_stats[ii_stats[\"stat\"] == \"OC TADs\"].pivot_table(index=[\"window\"], columns=[\"cutoff\"], values=\"value\"), center=0.5, linewidths=.5, vmin=0, vmax=1)\n",
    "    plt.title(\"Insulation score: OC of TADs between two replica\")\n",
    "    plt.subplot(235)\n",
    "    sns.heatmap(data=ii_stats[ii_stats[\"stat\"] == \"OC boundaries\"].pivot_table(index=[\"window\"], columns=[\"cutoff\"], values=\"value\"), center=0.5, linewidths=.5, vmin=0, vmax=1)\n",
    "    plt.title(\"Insulation score: OC of boundaries between two replica\")\n",
    "    plt.subplot(236)\n",
    "    sns.heatmap(data=ii_stats.pivot_table(index=[\"window\"], columns=[\"cutoff\"], values=\"amount\"), center=500, linewidths=.5, vmin=0)\n",
    "    plt.title(\"Insulation score: mean amount of TADs\")\n",
    "    plt.savefig(f\"{images}ii_enh_{line}initial.png\", bbox_inches='tight')\n",
    "    plt.clf()\n",
    "    plt.cla()"
   ]
  },
  {
   "cell_type": "code",
   "execution_count": 154,
   "metadata": {},
   "outputs": [
    {
     "name": "stdout",
     "output_type": "stream",
     "text": [
      "di HEK293_siRNA-CTCF_NA_ Y       "
     ]
    },
    {
     "name": "stderr",
     "output_type": "stream",
     "text": [
      "C:\\Users\\Dmitry\\Anaconda3\\lib\\site-packages\\ipykernel_launcher.py:13: UserWarning: loadtxt: Empty input file: \"yielded/di_HEK293_siRNA-CTCF_NA_2.20000.chrY_window20000_cutoff5.txt\"\n",
      "  del sys.path[0]\n",
      "C:\\Users\\Dmitry\\Anaconda3\\lib\\site-packages\\ipykernel_launcher.py:13: UserWarning: loadtxt: Empty input file: \"yielded/di_HEK293_siRNA-CTCF_NA_2.20000.chrY_window40000_cutoff5.txt\"\n",
      "  del sys.path[0]\n",
      "C:\\Users\\Dmitry\\Anaconda3\\lib\\site-packages\\ipykernel_launcher.py:13: UserWarning: loadtxt: Empty input file: \"yielded/di_HEK293_siRNA-CTCF_NA_2.20000.chrY_window60000_cutoff5.txt\"\n",
      "  del sys.path[0]\n",
      "C:\\Users\\Dmitry\\Anaconda3\\lib\\site-packages\\ipykernel_launcher.py:13: UserWarning: loadtxt: Empty input file: \"yielded/di_HEK293_siRNA-CTCF_NA_2.20000.chrY_window80000_cutoff5.txt\"\n",
      "  del sys.path[0]\n",
      "C:\\Users\\Dmitry\\Anaconda3\\lib\\site-packages\\ipykernel_launcher.py:13: UserWarning: loadtxt: Empty input file: \"yielded/di_HEK293_siRNA-CTCF_NA_2.20000.chrY_window20000_cutoff6.txt\"\n",
      "  del sys.path[0]\n",
      "C:\\Users\\Dmitry\\Anaconda3\\lib\\site-packages\\ipykernel_launcher.py:13: UserWarning: loadtxt: Empty input file: \"yielded/di_HEK293_siRNA-CTCF_NA_2.20000.chrY_window40000_cutoff6.txt\"\n",
      "  del sys.path[0]\n",
      "C:\\Users\\Dmitry\\Anaconda3\\lib\\site-packages\\ipykernel_launcher.py:13: UserWarning: loadtxt: Empty input file: \"yielded/di_HEK293_siRNA-CTCF_NA_2.20000.chrY_window60000_cutoff6.txt\"\n",
      "  del sys.path[0]\n",
      "C:\\Users\\Dmitry\\Anaconda3\\lib\\site-packages\\ipykernel_launcher.py:13: UserWarning: loadtxt: Empty input file: \"yielded/di_HEK293_siRNA-CTCF_NA_2.20000.chrY_window80000_cutoff6.txt\"\n",
      "  del sys.path[0]\n",
      "C:\\Users\\Dmitry\\Anaconda3\\lib\\site-packages\\ipykernel_launcher.py:13: UserWarning: loadtxt: Empty input file: \"yielded/di_HEK293_siRNA-CTCF_NA_2.20000.chrY_window20000_cutoff7.txt\"\n",
      "  del sys.path[0]\n",
      "C:\\Users\\Dmitry\\Anaconda3\\lib\\site-packages\\ipykernel_launcher.py:13: UserWarning: loadtxt: Empty input file: \"yielded/di_HEK293_siRNA-CTCF_NA_2.20000.chrY_window40000_cutoff7.txt\"\n",
      "  del sys.path[0]\n",
      "C:\\Users\\Dmitry\\Anaconda3\\lib\\site-packages\\ipykernel_launcher.py:13: UserWarning: loadtxt: Empty input file: \"yielded/di_HEK293_siRNA-CTCF_NA_2.20000.chrY_window60000_cutoff7.txt\"\n",
      "  del sys.path[0]\n",
      "C:\\Users\\Dmitry\\Anaconda3\\lib\\site-packages\\ipykernel_launcher.py:13: UserWarning: loadtxt: Empty input file: \"yielded/di_HEK293_siRNA-CTCF_NA_2.20000.chrY_window80000_cutoff7.txt\"\n",
      "  del sys.path[0]\n",
      "C:\\Users\\Dmitry\\Anaconda3\\lib\\site-packages\\ipykernel_launcher.py:12: UserWarning: loadtxt: Empty input file: \"yielded/di_HEK293_siRNA-CTCF_NA_1.20000.chrY_window20000_cutoff8.txt\"\n",
      "  if sys.path[0] == '':\n",
      "C:\\Users\\Dmitry\\Anaconda3\\lib\\site-packages\\ipykernel_launcher.py:13: UserWarning: loadtxt: Empty input file: \"yielded/di_HEK293_siRNA-CTCF_NA_2.20000.chrY_window20000_cutoff8.txt\"\n",
      "  del sys.path[0]\n",
      "C:\\Users\\Dmitry\\Anaconda3\\lib\\site-packages\\ipykernel_launcher.py:12: UserWarning: loadtxt: Empty input file: \"yielded/di_HEK293_siRNA-CTCF_NA_1.20000.chrY_window40000_cutoff8.txt\"\n",
      "  if sys.path[0] == '':\n",
      "C:\\Users\\Dmitry\\Anaconda3\\lib\\site-packages\\ipykernel_launcher.py:13: UserWarning: loadtxt: Empty input file: \"yielded/di_HEK293_siRNA-CTCF_NA_2.20000.chrY_window40000_cutoff8.txt\"\n",
      "  del sys.path[0]\n",
      "C:\\Users\\Dmitry\\Anaconda3\\lib\\site-packages\\ipykernel_launcher.py:12: UserWarning: loadtxt: Empty input file: \"yielded/di_HEK293_siRNA-CTCF_NA_1.20000.chrY_window60000_cutoff8.txt\"\n",
      "  if sys.path[0] == '':\n",
      "C:\\Users\\Dmitry\\Anaconda3\\lib\\site-packages\\ipykernel_launcher.py:13: UserWarning: loadtxt: Empty input file: \"yielded/di_HEK293_siRNA-CTCF_NA_2.20000.chrY_window60000_cutoff8.txt\"\n",
      "  del sys.path[0]\n",
      "C:\\Users\\Dmitry\\Anaconda3\\lib\\site-packages\\ipykernel_launcher.py:12: UserWarning: loadtxt: Empty input file: \"yielded/di_HEK293_siRNA-CTCF_NA_1.20000.chrY_window80000_cutoff8.txt\"\n",
      "  if sys.path[0] == '':\n",
      "C:\\Users\\Dmitry\\Anaconda3\\lib\\site-packages\\ipykernel_launcher.py:13: UserWarning: loadtxt: Empty input file: \"yielded/di_HEK293_siRNA-CTCF_NA_2.20000.chrY_window80000_cutoff8.txt\"\n",
      "  del sys.path[0]\n",
      "C:\\Users\\Dmitry\\Anaconda3\\lib\\site-packages\\ipykernel_launcher.py:12: UserWarning: loadtxt: Empty input file: \"yielded/di_HEK293_siRNA-CTCF_NA_1.20000.chrY_window20000_cutoff9.txt\"\n",
      "  if sys.path[0] == '':\n",
      "C:\\Users\\Dmitry\\Anaconda3\\lib\\site-packages\\ipykernel_launcher.py:13: UserWarning: loadtxt: Empty input file: \"yielded/di_HEK293_siRNA-CTCF_NA_2.20000.chrY_window20000_cutoff9.txt\"\n",
      "  del sys.path[0]\n",
      "C:\\Users\\Dmitry\\Anaconda3\\lib\\site-packages\\ipykernel_launcher.py:12: UserWarning: loadtxt: Empty input file: \"yielded/di_HEK293_siRNA-CTCF_NA_1.20000.chrY_window40000_cutoff9.txt\"\n",
      "  if sys.path[0] == '':\n",
      "C:\\Users\\Dmitry\\Anaconda3\\lib\\site-packages\\ipykernel_launcher.py:13: UserWarning: loadtxt: Empty input file: \"yielded/di_HEK293_siRNA-CTCF_NA_2.20000.chrY_window40000_cutoff9.txt\"\n",
      "  del sys.path[0]\n",
      "C:\\Users\\Dmitry\\Anaconda3\\lib\\site-packages\\ipykernel_launcher.py:12: UserWarning: loadtxt: Empty input file: \"yielded/di_HEK293_siRNA-CTCF_NA_1.20000.chrY_window60000_cutoff9.txt\"\n",
      "  if sys.path[0] == '':\n",
      "C:\\Users\\Dmitry\\Anaconda3\\lib\\site-packages\\ipykernel_launcher.py:13: UserWarning: loadtxt: Empty input file: \"yielded/di_HEK293_siRNA-CTCF_NA_2.20000.chrY_window60000_cutoff9.txt\"\n",
      "  del sys.path[0]\n",
      "C:\\Users\\Dmitry\\Anaconda3\\lib\\site-packages\\ipykernel_launcher.py:12: UserWarning: loadtxt: Empty input file: \"yielded/di_HEK293_siRNA-CTCF_NA_1.20000.chrY_window80000_cutoff9.txt\"\n",
      "  if sys.path[0] == '':\n",
      "C:\\Users\\Dmitry\\Anaconda3\\lib\\site-packages\\ipykernel_launcher.py:13: UserWarning: loadtxt: Empty input file: \"yielded/di_HEK293_siRNA-CTCF_NA_2.20000.chrY_window80000_cutoff9.txt\"\n",
      "  del sys.path[0]\n",
      "C:\\Users\\Dmitry\\Anaconda3\\lib\\site-packages\\ipykernel_launcher.py:12: UserWarning: loadtxt: Empty input file: \"yielded/di_HEK293_siRNA-CTCF_NA_1.20000.chrY_window20000_cutoff10.txt\"\n",
      "  if sys.path[0] == '':\n",
      "C:\\Users\\Dmitry\\Anaconda3\\lib\\site-packages\\ipykernel_launcher.py:13: UserWarning: loadtxt: Empty input file: \"yielded/di_HEK293_siRNA-CTCF_NA_2.20000.chrY_window20000_cutoff10.txt\"\n",
      "  del sys.path[0]\n"
     ]
    },
    {
     "name": "stdout",
     "output_type": "stream",
     "text": [
      "\r",
      "di HEK293_siRNA-CTCF_NA_ Y      \r",
      "di HEK293_siRNA-CTCF_NA_ Y      \r",
      "di HEK293_siRNA-CTCF_NA_ Y      \r",
      "di HEK293_siRNA-CTCF_NA_ Y      \r",
      "di HEK293_siRNA-CTCF_NA_ Y      \r",
      "di HEK293_siRNA-CTCF_NA_ Y      \r",
      "di HEK293_siRNA-CTCF_NA_ Y      \r",
      "di HEK293_siRNA-CTCF_NA_ Y      \r",
      "di HEK293_siRNA-CTCF_NA_ Y      \r",
      "di HEK293_siRNA-CTCF_NA_ Y      \r",
      "di HEK293_siRNA-CTCF_NA_ Y      \r",
      "di HEK293_siRNA-CTCF_NA_ Y      \r",
      "di HEK293_siRNA-CTCF_NA_ Y      \r",
      "di HEK293_siRNA-CTCF_NA_ Y      \r",
      "di HEK293_siRNA-CTCF_NA_ Y      \r",
      "di HEK293_siRNA-CTCF_NA_ Y      \r",
      "di HEK293_siRNA-CTCF_NA_ Y      \r",
      "di HEK293_siRNA-CTCF_NA_ Y      \r",
      "di HEK293_siRNA-CTCF_NA_ Y      \r",
      "di HEK293_siRNA-CTCF_NA_ Y      \r",
      "di HEK293_siRNA-CTCF_NA_ Y      "
     ]
    },
    {
     "name": "stderr",
     "output_type": "stream",
     "text": [
      "C:\\Users\\Dmitry\\Anaconda3\\lib\\site-packages\\ipykernel_launcher.py:12: UserWarning: loadtxt: Empty input file: \"yielded/di_HEK293_siRNA-CTCF_NA_1.20000.chrY_window40000_cutoff10.txt\"\n",
      "  if sys.path[0] == '':\n",
      "C:\\Users\\Dmitry\\Anaconda3\\lib\\site-packages\\ipykernel_launcher.py:13: UserWarning: loadtxt: Empty input file: \"yielded/di_HEK293_siRNA-CTCF_NA_2.20000.chrY_window40000_cutoff10.txt\"\n",
      "  del sys.path[0]\n",
      "C:\\Users\\Dmitry\\Anaconda3\\lib\\site-packages\\ipykernel_launcher.py:12: UserWarning: loadtxt: Empty input file: \"yielded/di_HEK293_siRNA-CTCF_NA_1.20000.chrY_window60000_cutoff10.txt\"\n",
      "  if sys.path[0] == '':\n",
      "C:\\Users\\Dmitry\\Anaconda3\\lib\\site-packages\\ipykernel_launcher.py:13: UserWarning: loadtxt: Empty input file: \"yielded/di_HEK293_siRNA-CTCF_NA_2.20000.chrY_window60000_cutoff10.txt\"\n",
      "  del sys.path[0]\n",
      "C:\\Users\\Dmitry\\Anaconda3\\lib\\site-packages\\ipykernel_launcher.py:12: UserWarning: loadtxt: Empty input file: \"yielded/di_HEK293_siRNA-CTCF_NA_1.20000.chrY_window80000_cutoff10.txt\"\n",
      "  if sys.path[0] == '':\n",
      "C:\\Users\\Dmitry\\Anaconda3\\lib\\site-packages\\ipykernel_launcher.py:13: UserWarning: loadtxt: Empty input file: \"yielded/di_HEK293_siRNA-CTCF_NA_2.20000.chrY_window80000_cutoff10.txt\"\n",
      "  del sys.path[0]\n",
      "C:\\Users\\Dmitry\\Anaconda3\\lib\\site-packages\\ipykernel_launcher.py:12: UserWarning: loadtxt: Empty input file: \"yielded/di_HEK293_siRNA-CTCF_NA_1.20000.chrY_window20000_cutoff11.txt\"\n",
      "  if sys.path[0] == '':\n",
      "C:\\Users\\Dmitry\\Anaconda3\\lib\\site-packages\\ipykernel_launcher.py:13: UserWarning: loadtxt: Empty input file: \"yielded/di_HEK293_siRNA-CTCF_NA_2.20000.chrY_window20000_cutoff11.txt\"\n",
      "  del sys.path[0]\n",
      "C:\\Users\\Dmitry\\Anaconda3\\lib\\site-packages\\ipykernel_launcher.py:12: UserWarning: loadtxt: Empty input file: \"yielded/di_HEK293_siRNA-CTCF_NA_1.20000.chrY_window40000_cutoff11.txt\"\n",
      "  if sys.path[0] == '':\n",
      "C:\\Users\\Dmitry\\Anaconda3\\lib\\site-packages\\ipykernel_launcher.py:13: UserWarning: loadtxt: Empty input file: \"yielded/di_HEK293_siRNA-CTCF_NA_2.20000.chrY_window40000_cutoff11.txt\"\n",
      "  del sys.path[0]\n",
      "C:\\Users\\Dmitry\\Anaconda3\\lib\\site-packages\\ipykernel_launcher.py:12: UserWarning: loadtxt: Empty input file: \"yielded/di_HEK293_siRNA-CTCF_NA_1.20000.chrY_window60000_cutoff11.txt\"\n",
      "  if sys.path[0] == '':\n",
      "C:\\Users\\Dmitry\\Anaconda3\\lib\\site-packages\\ipykernel_launcher.py:13: UserWarning: loadtxt: Empty input file: \"yielded/di_HEK293_siRNA-CTCF_NA_2.20000.chrY_window60000_cutoff11.txt\"\n",
      "  del sys.path[0]\n",
      "C:\\Users\\Dmitry\\Anaconda3\\lib\\site-packages\\ipykernel_launcher.py:12: UserWarning: loadtxt: Empty input file: \"yielded/di_HEK293_siRNA-CTCF_NA_1.20000.chrY_window80000_cutoff11.txt\"\n",
      "  if sys.path[0] == '':\n",
      "C:\\Users\\Dmitry\\Anaconda3\\lib\\site-packages\\ipykernel_launcher.py:13: UserWarning: loadtxt: Empty input file: \"yielded/di_HEK293_siRNA-CTCF_NA_2.20000.chrY_window80000_cutoff11.txt\"\n",
      "  del sys.path[0]\n",
      "C:\\Users\\Dmitry\\Anaconda3\\lib\\site-packages\\ipykernel_launcher.py:12: UserWarning: loadtxt: Empty input file: \"yielded/di_HEK293_siRNA-CTCF_NA_1.20000.chrY_window20000_cutoff12.txt\"\n",
      "  if sys.path[0] == '':\n",
      "C:\\Users\\Dmitry\\Anaconda3\\lib\\site-packages\\ipykernel_launcher.py:13: UserWarning: loadtxt: Empty input file: \"yielded/di_HEK293_siRNA-CTCF_NA_2.20000.chrY_window20000_cutoff12.txt\"\n",
      "  del sys.path[0]\n",
      "C:\\Users\\Dmitry\\Anaconda3\\lib\\site-packages\\ipykernel_launcher.py:12: UserWarning: loadtxt: Empty input file: \"yielded/di_HEK293_siRNA-CTCF_NA_1.20000.chrY_window40000_cutoff12.txt\"\n",
      "  if sys.path[0] == '':\n",
      "C:\\Users\\Dmitry\\Anaconda3\\lib\\site-packages\\ipykernel_launcher.py:13: UserWarning: loadtxt: Empty input file: \"yielded/di_HEK293_siRNA-CTCF_NA_2.20000.chrY_window40000_cutoff12.txt\"\n",
      "  del sys.path[0]\n",
      "C:\\Users\\Dmitry\\Anaconda3\\lib\\site-packages\\ipykernel_launcher.py:12: UserWarning: loadtxt: Empty input file: \"yielded/di_HEK293_siRNA-CTCF_NA_1.20000.chrY_window60000_cutoff12.txt\"\n",
      "  if sys.path[0] == '':\n",
      "C:\\Users\\Dmitry\\Anaconda3\\lib\\site-packages\\ipykernel_launcher.py:13: UserWarning: loadtxt: Empty input file: \"yielded/di_HEK293_siRNA-CTCF_NA_2.20000.chrY_window60000_cutoff12.txt\"\n",
      "  del sys.path[0]\n",
      "C:\\Users\\Dmitry\\Anaconda3\\lib\\site-packages\\ipykernel_launcher.py:12: UserWarning: loadtxt: Empty input file: \"yielded/di_HEK293_siRNA-CTCF_NA_1.20000.chrY_window80000_cutoff12.txt\"\n",
      "  if sys.path[0] == '':\n",
      "C:\\Users\\Dmitry\\Anaconda3\\lib\\site-packages\\ipykernel_launcher.py:13: UserWarning: loadtxt: Empty input file: \"yielded/di_HEK293_siRNA-CTCF_NA_2.20000.chrY_window80000_cutoff12.txt\"\n",
      "  del sys.path[0]\n",
      "C:\\Users\\Dmitry\\Anaconda3\\lib\\site-packages\\ipykernel_launcher.py:12: UserWarning: loadtxt: Empty input file: \"yielded/di_HEK293_siRNA-CTCF_NA_1.20000.chrY_window20000_cutoff13.txt\"\n",
      "  if sys.path[0] == '':\n",
      "C:\\Users\\Dmitry\\Anaconda3\\lib\\site-packages\\ipykernel_launcher.py:13: UserWarning: loadtxt: Empty input file: \"yielded/di_HEK293_siRNA-CTCF_NA_2.20000.chrY_window20000_cutoff13.txt\"\n",
      "  del sys.path[0]\n",
      "C:\\Users\\Dmitry\\Anaconda3\\lib\\site-packages\\ipykernel_launcher.py:12: UserWarning: loadtxt: Empty input file: \"yielded/di_HEK293_siRNA-CTCF_NA_1.20000.chrY_window40000_cutoff13.txt\"\n",
      "  if sys.path[0] == '':\n",
      "C:\\Users\\Dmitry\\Anaconda3\\lib\\site-packages\\ipykernel_launcher.py:13: UserWarning: loadtxt: Empty input file: \"yielded/di_HEK293_siRNA-CTCF_NA_2.20000.chrY_window40000_cutoff13.txt\"\n",
      "  del sys.path[0]\n",
      "C:\\Users\\Dmitry\\Anaconda3\\lib\\site-packages\\ipykernel_launcher.py:12: UserWarning: loadtxt: Empty input file: \"yielded/di_HEK293_siRNA-CTCF_NA_1.20000.chrY_window60000_cutoff13.txt\"\n",
      "  if sys.path[0] == '':\n",
      "C:\\Users\\Dmitry\\Anaconda3\\lib\\site-packages\\ipykernel_launcher.py:13: UserWarning: loadtxt: Empty input file: \"yielded/di_HEK293_siRNA-CTCF_NA_2.20000.chrY_window60000_cutoff13.txt\"\n",
      "  del sys.path[0]\n",
      "C:\\Users\\Dmitry\\Anaconda3\\lib\\site-packages\\ipykernel_launcher.py:12: UserWarning: loadtxt: Empty input file: \"yielded/di_HEK293_siRNA-CTCF_NA_1.20000.chrY_window80000_cutoff13.txt\"\n",
      "  if sys.path[0] == '':\n",
      "C:\\Users\\Dmitry\\Anaconda3\\lib\\site-packages\\ipykernel_launcher.py:13: UserWarning: loadtxt: Empty input file: \"yielded/di_HEK293_siRNA-CTCF_NA_2.20000.chrY_window80000_cutoff13.txt\"\n",
      "  del sys.path[0]\n",
      "C:\\Users\\Dmitry\\Anaconda3\\lib\\site-packages\\ipykernel_launcher.py:12: UserWarning: loadtxt: Empty input file: \"yielded/di_HEK293_siRNA-CTCF_NA_1.20000.chrY_window20000_cutoff14.txt\"\n",
      "  if sys.path[0] == '':\n",
      "C:\\Users\\Dmitry\\Anaconda3\\lib\\site-packages\\ipykernel_launcher.py:13: UserWarning: loadtxt: Empty input file: \"yielded/di_HEK293_siRNA-CTCF_NA_2.20000.chrY_window20000_cutoff14.txt\"\n",
      "  del sys.path[0]\n",
      "C:\\Users\\Dmitry\\Anaconda3\\lib\\site-packages\\ipykernel_launcher.py:12: UserWarning: loadtxt: Empty input file: \"yielded/di_HEK293_siRNA-CTCF_NA_1.20000.chrY_window40000_cutoff14.txt\"\n",
      "  if sys.path[0] == '':\n",
      "C:\\Users\\Dmitry\\Anaconda3\\lib\\site-packages\\ipykernel_launcher.py:13: UserWarning: loadtxt: Empty input file: \"yielded/di_HEK293_siRNA-CTCF_NA_2.20000.chrY_window40000_cutoff14.txt\"\n",
      "  del sys.path[0]\n",
      "C:\\Users\\Dmitry\\Anaconda3\\lib\\site-packages\\ipykernel_launcher.py:12: UserWarning: loadtxt: Empty input file: \"yielded/di_HEK293_siRNA-CTCF_NA_1.20000.chrY_window60000_cutoff14.txt\"\n",
      "  if sys.path[0] == '':\n",
      "C:\\Users\\Dmitry\\Anaconda3\\lib\\site-packages\\ipykernel_launcher.py:13: UserWarning: loadtxt: Empty input file: \"yielded/di_HEK293_siRNA-CTCF_NA_2.20000.chrY_window60000_cutoff14.txt\"\n",
      "  del sys.path[0]\n",
      "C:\\Users\\Dmitry\\Anaconda3\\lib\\site-packages\\ipykernel_launcher.py:12: UserWarning: loadtxt: Empty input file: \"yielded/di_HEK293_siRNA-CTCF_NA_1.20000.chrY_window80000_cutoff14.txt\"\n",
      "  if sys.path[0] == '':\n",
      "C:\\Users\\Dmitry\\Anaconda3\\lib\\site-packages\\ipykernel_launcher.py:13: UserWarning: loadtxt: Empty input file: \"yielded/di_HEK293_siRNA-CTCF_NA_2.20000.chrY_window80000_cutoff14.txt\"\n",
      "  del sys.path[0]\n",
      "C:\\Users\\Dmitry\\Anaconda3\\lib\\site-packages\\ipykernel_launcher.py:12: UserWarning: loadtxt: Empty input file: \"yielded/di_HEK293_siRNA-CTCF_NA_1.20000.chrY_window20000_cutoff15.txt\"\n",
      "  if sys.path[0] == '':\n"
     ]
    },
    {
     "name": "stdout",
     "output_type": "stream",
     "text": [
      "\r",
      "di HEK293_siRNA-CTCF_NA_ Y      \r",
      "di HEK293_siRNA-CTCF_NA_ Y      \r",
      "di HEK293_siRNA-CTCF_NA_ Y      \r",
      "di HEK293_siRNA-CTCF_NA_ Y      \r",
      "di HEK293_siRNA-CTCF_NA_ Y      \r",
      "di HEK293_siRNA-CTCF_NA_ Y      \r",
      "di HEK293_siRNA-CTCF_NA_ Y      \r",
      "di HEK293_siRNA-CTCF_NA_ Y      \r",
      "di HEK293_siRNA-CTCF_NA_ Y      \r",
      "di HEK293_siRNA-CTCF_NA_ Y      \r",
      "di HEK293_siRNA-CTCF_NA_ Y      \r",
      "di HEK293_siRNA-CTCF_NA_ Y      \r",
      "di HEK293_siRNA-CTCF_NA_ Y      \r",
      "di HEK293_siRNA-CTCF_NA_ Y      \r",
      "di HEK293_siRNA-CTCF_NA_ Y      \r",
      "di HEK293_siRNA-CTCF_NA_ Y      \r",
      "di HEK293_siRNA-CTCF_NA_ Y      "
     ]
    },
    {
     "name": "stderr",
     "output_type": "stream",
     "text": [
      "C:\\Users\\Dmitry\\Anaconda3\\lib\\site-packages\\ipykernel_launcher.py:13: UserWarning: loadtxt: Empty input file: \"yielded/di_HEK293_siRNA-CTCF_NA_2.20000.chrY_window20000_cutoff15.txt\"\n",
      "  del sys.path[0]\n",
      "C:\\Users\\Dmitry\\Anaconda3\\lib\\site-packages\\ipykernel_launcher.py:12: UserWarning: loadtxt: Empty input file: \"yielded/di_HEK293_siRNA-CTCF_NA_1.20000.chrY_window40000_cutoff15.txt\"\n",
      "  if sys.path[0] == '':\n",
      "C:\\Users\\Dmitry\\Anaconda3\\lib\\site-packages\\ipykernel_launcher.py:13: UserWarning: loadtxt: Empty input file: \"yielded/di_HEK293_siRNA-CTCF_NA_2.20000.chrY_window40000_cutoff15.txt\"\n",
      "  del sys.path[0]\n",
      "C:\\Users\\Dmitry\\Anaconda3\\lib\\site-packages\\ipykernel_launcher.py:12: UserWarning: loadtxt: Empty input file: \"yielded/di_HEK293_siRNA-CTCF_NA_1.20000.chrY_window60000_cutoff15.txt\"\n",
      "  if sys.path[0] == '':\n",
      "C:\\Users\\Dmitry\\Anaconda3\\lib\\site-packages\\ipykernel_launcher.py:13: UserWarning: loadtxt: Empty input file: \"yielded/di_HEK293_siRNA-CTCF_NA_2.20000.chrY_window60000_cutoff15.txt\"\n",
      "  del sys.path[0]\n",
      "C:\\Users\\Dmitry\\Anaconda3\\lib\\site-packages\\ipykernel_launcher.py:12: UserWarning: loadtxt: Empty input file: \"yielded/di_HEK293_siRNA-CTCF_NA_1.20000.chrY_window80000_cutoff15.txt\"\n",
      "  if sys.path[0] == '':\n",
      "C:\\Users\\Dmitry\\Anaconda3\\lib\\site-packages\\ipykernel_launcher.py:13: UserWarning: loadtxt: Empty input file: \"yielded/di_HEK293_siRNA-CTCF_NA_2.20000.chrY_window80000_cutoff15.txt\"\n",
      "  del sys.path[0]\n"
     ]
    },
    {
     "name": "stdout",
     "output_type": "stream",
     "text": [
      "di HEK293_siRNA-Control_NA_ Y       "
     ]
    },
    {
     "name": "stderr",
     "output_type": "stream",
     "text": [
      "C:\\Users\\Dmitry\\Anaconda3\\lib\\site-packages\\ipykernel_launcher.py:12: UserWarning: loadtxt: Empty input file: \"yielded/di_HEK293_siRNA-Control_NA_1.20000.chrY_window20000_cutoff5.txt\"\n",
      "  if sys.path[0] == '':\n",
      "C:\\Users\\Dmitry\\Anaconda3\\lib\\site-packages\\ipykernel_launcher.py:12: UserWarning: loadtxt: Empty input file: \"yielded/di_HEK293_siRNA-Control_NA_1.20000.chrY_window40000_cutoff5.txt\"\n",
      "  if sys.path[0] == '':\n",
      "C:\\Users\\Dmitry\\Anaconda3\\lib\\site-packages\\ipykernel_launcher.py:12: UserWarning: loadtxt: Empty input file: \"yielded/di_HEK293_siRNA-Control_NA_1.20000.chrY_window60000_cutoff5.txt\"\n",
      "  if sys.path[0] == '':\n",
      "C:\\Users\\Dmitry\\Anaconda3\\lib\\site-packages\\ipykernel_launcher.py:12: UserWarning: loadtxt: Empty input file: \"yielded/di_HEK293_siRNA-Control_NA_1.20000.chrY_window80000_cutoff5.txt\"\n",
      "  if sys.path[0] == '':\n",
      "C:\\Users\\Dmitry\\Anaconda3\\lib\\site-packages\\ipykernel_launcher.py:12: UserWarning: loadtxt: Empty input file: \"yielded/di_HEK293_siRNA-Control_NA_1.20000.chrY_window20000_cutoff6.txt\"\n",
      "  if sys.path[0] == '':\n"
     ]
    },
    {
     "name": "stdout",
     "output_type": "stream",
     "text": [
      "\r",
      "di HEK293_siRNA-Control_NA_ Y      \r",
      "di HEK293_siRNA-Control_NA_ Y      \r",
      "di HEK293_siRNA-Control_NA_ Y      \r",
      "di HEK293_siRNA-Control_NA_ Y      \r",
      "di HEK293_siRNA-Control_NA_ Y      "
     ]
    },
    {
     "name": "stderr",
     "output_type": "stream",
     "text": [
      "C:\\Users\\Dmitry\\Anaconda3\\lib\\site-packages\\ipykernel_launcher.py:12: UserWarning: loadtxt: Empty input file: \"yielded/di_HEK293_siRNA-Control_NA_1.20000.chrY_window40000_cutoff6.txt\"\n",
      "  if sys.path[0] == '':\n",
      "C:\\Users\\Dmitry\\Anaconda3\\lib\\site-packages\\ipykernel_launcher.py:12: UserWarning: loadtxt: Empty input file: \"yielded/di_HEK293_siRNA-Control_NA_1.20000.chrY_window60000_cutoff6.txt\"\n",
      "  if sys.path[0] == '':\n",
      "C:\\Users\\Dmitry\\Anaconda3\\lib\\site-packages\\ipykernel_launcher.py:12: UserWarning: loadtxt: Empty input file: \"yielded/di_HEK293_siRNA-Control_NA_1.20000.chrY_window80000_cutoff6.txt\"\n",
      "  if sys.path[0] == '':\n",
      "C:\\Users\\Dmitry\\Anaconda3\\lib\\site-packages\\ipykernel_launcher.py:12: UserWarning: loadtxt: Empty input file: \"yielded/di_HEK293_siRNA-Control_NA_1.20000.chrY_window20000_cutoff7.txt\"\n",
      "  if sys.path[0] == '':\n"
     ]
    },
    {
     "name": "stdout",
     "output_type": "stream",
     "text": [
      "\r",
      "di HEK293_siRNA-Control_NA_ Y      \r",
      "di HEK293_siRNA-Control_NA_ Y      \r",
      "di HEK293_siRNA-Control_NA_ Y      \r",
      "di HEK293_siRNA-Control_NA_ Y      \r",
      "di HEK293_siRNA-Control_NA_ Y      "
     ]
    },
    {
     "name": "stderr",
     "output_type": "stream",
     "text": [
      "C:\\Users\\Dmitry\\Anaconda3\\lib\\site-packages\\ipykernel_launcher.py:12: UserWarning: loadtxt: Empty input file: \"yielded/di_HEK293_siRNA-Control_NA_1.20000.chrY_window40000_cutoff7.txt\"\n",
      "  if sys.path[0] == '':\n",
      "C:\\Users\\Dmitry\\Anaconda3\\lib\\site-packages\\ipykernel_launcher.py:12: UserWarning: loadtxt: Empty input file: \"yielded/di_HEK293_siRNA-Control_NA_1.20000.chrY_window60000_cutoff7.txt\"\n",
      "  if sys.path[0] == '':\n",
      "C:\\Users\\Dmitry\\Anaconda3\\lib\\site-packages\\ipykernel_launcher.py:12: UserWarning: loadtxt: Empty input file: \"yielded/di_HEK293_siRNA-Control_NA_1.20000.chrY_window80000_cutoff7.txt\"\n",
      "  if sys.path[0] == '':\n",
      "C:\\Users\\Dmitry\\Anaconda3\\lib\\site-packages\\ipykernel_launcher.py:12: UserWarning: loadtxt: Empty input file: \"yielded/di_HEK293_siRNA-Control_NA_1.20000.chrY_window20000_cutoff8.txt\"\n",
      "  if sys.path[0] == '':\n"
     ]
    },
    {
     "name": "stdout",
     "output_type": "stream",
     "text": [
      "\r",
      "di HEK293_siRNA-Control_NA_ Y      \r",
      "di HEK293_siRNA-Control_NA_ Y      \r",
      "di HEK293_siRNA-Control_NA_ Y      \r",
      "di HEK293_siRNA-Control_NA_ Y      "
     ]
    },
    {
     "name": "stderr",
     "output_type": "stream",
     "text": [
      "C:\\Users\\Dmitry\\Anaconda3\\lib\\site-packages\\ipykernel_launcher.py:12: UserWarning: loadtxt: Empty input file: \"yielded/di_HEK293_siRNA-Control_NA_1.20000.chrY_window40000_cutoff8.txt\"\n",
      "  if sys.path[0] == '':\n",
      "C:\\Users\\Dmitry\\Anaconda3\\lib\\site-packages\\ipykernel_launcher.py:12: UserWarning: loadtxt: Empty input file: \"yielded/di_HEK293_siRNA-Control_NA_1.20000.chrY_window60000_cutoff8.txt\"\n",
      "  if sys.path[0] == '':\n",
      "C:\\Users\\Dmitry\\Anaconda3\\lib\\site-packages\\ipykernel_launcher.py:12: UserWarning: loadtxt: Empty input file: \"yielded/di_HEK293_siRNA-Control_NA_1.20000.chrY_window80000_cutoff8.txt\"\n",
      "  if sys.path[0] == '':\n",
      "C:\\Users\\Dmitry\\Anaconda3\\lib\\site-packages\\ipykernel_launcher.py:12: UserWarning: loadtxt: Empty input file: \"yielded/di_HEK293_siRNA-Control_NA_1.20000.chrY_window20000_cutoff9.txt\"\n",
      "  if sys.path[0] == '':\n"
     ]
    },
    {
     "name": "stdout",
     "output_type": "stream",
     "text": [
      "\r",
      "di HEK293_siRNA-Control_NA_ Y      \r",
      "di HEK293_siRNA-Control_NA_ Y      \r",
      "di HEK293_siRNA-Control_NA_ Y      \r",
      "di HEK293_siRNA-Control_NA_ Y      "
     ]
    },
    {
     "name": "stderr",
     "output_type": "stream",
     "text": [
      "C:\\Users\\Dmitry\\Anaconda3\\lib\\site-packages\\ipykernel_launcher.py:12: UserWarning: loadtxt: Empty input file: \"yielded/di_HEK293_siRNA-Control_NA_1.20000.chrY_window40000_cutoff9.txt\"\n",
      "  if sys.path[0] == '':\n",
      "C:\\Users\\Dmitry\\Anaconda3\\lib\\site-packages\\ipykernel_launcher.py:12: UserWarning: loadtxt: Empty input file: \"yielded/di_HEK293_siRNA-Control_NA_1.20000.chrY_window60000_cutoff9.txt\"\n",
      "  if sys.path[0] == '':\n",
      "C:\\Users\\Dmitry\\Anaconda3\\lib\\site-packages\\ipykernel_launcher.py:12: UserWarning: loadtxt: Empty input file: \"yielded/di_HEK293_siRNA-Control_NA_1.20000.chrY_window80000_cutoff9.txt\"\n",
      "  if sys.path[0] == '':\n",
      "C:\\Users\\Dmitry\\Anaconda3\\lib\\site-packages\\ipykernel_launcher.py:12: UserWarning: loadtxt: Empty input file: \"yielded/di_HEK293_siRNA-Control_NA_1.20000.chrY_window20000_cutoff10.txt\"\n",
      "  if sys.path[0] == '':\n",
      "C:\\Users\\Dmitry\\Anaconda3\\lib\\site-packages\\ipykernel_launcher.py:13: UserWarning: loadtxt: Empty input file: \"yielded/di_HEK293_siRNA-Control_NA_2.20000.chrY_window20000_cutoff10.txt\"\n",
      "  del sys.path[0]\n"
     ]
    },
    {
     "name": "stdout",
     "output_type": "stream",
     "text": [
      "\r",
      "di HEK293_siRNA-Control_NA_ Y      \r",
      "di HEK293_siRNA-Control_NA_ Y      \r",
      "di HEK293_siRNA-Control_NA_ Y      \r",
      "di HEK293_siRNA-Control_NA_ Y      \r",
      "di HEK293_siRNA-Control_NA_ Y      "
     ]
    },
    {
     "name": "stderr",
     "output_type": "stream",
     "text": [
      "C:\\Users\\Dmitry\\Anaconda3\\lib\\site-packages\\ipykernel_launcher.py:12: UserWarning: loadtxt: Empty input file: \"yielded/di_HEK293_siRNA-Control_NA_1.20000.chrY_window40000_cutoff10.txt\"\n",
      "  if sys.path[0] == '':\n",
      "C:\\Users\\Dmitry\\Anaconda3\\lib\\site-packages\\ipykernel_launcher.py:13: UserWarning: loadtxt: Empty input file: \"yielded/di_HEK293_siRNA-Control_NA_2.20000.chrY_window40000_cutoff10.txt\"\n",
      "  del sys.path[0]\n",
      "C:\\Users\\Dmitry\\Anaconda3\\lib\\site-packages\\ipykernel_launcher.py:12: UserWarning: loadtxt: Empty input file: \"yielded/di_HEK293_siRNA-Control_NA_1.20000.chrY_window60000_cutoff10.txt\"\n",
      "  if sys.path[0] == '':\n",
      "C:\\Users\\Dmitry\\Anaconda3\\lib\\site-packages\\ipykernel_launcher.py:13: UserWarning: loadtxt: Empty input file: \"yielded/di_HEK293_siRNA-Control_NA_2.20000.chrY_window60000_cutoff10.txt\"\n",
      "  del sys.path[0]\n",
      "C:\\Users\\Dmitry\\Anaconda3\\lib\\site-packages\\ipykernel_launcher.py:12: UserWarning: loadtxt: Empty input file: \"yielded/di_HEK293_siRNA-Control_NA_1.20000.chrY_window80000_cutoff10.txt\"\n",
      "  if sys.path[0] == '':\n",
      "C:\\Users\\Dmitry\\Anaconda3\\lib\\site-packages\\ipykernel_launcher.py:13: UserWarning: loadtxt: Empty input file: \"yielded/di_HEK293_siRNA-Control_NA_2.20000.chrY_window80000_cutoff10.txt\"\n",
      "  del sys.path[0]\n",
      "C:\\Users\\Dmitry\\Anaconda3\\lib\\site-packages\\ipykernel_launcher.py:12: UserWarning: loadtxt: Empty input file: \"yielded/di_HEK293_siRNA-Control_NA_1.20000.chrY_window20000_cutoff11.txt\"\n",
      "  if sys.path[0] == '':\n",
      "C:\\Users\\Dmitry\\Anaconda3\\lib\\site-packages\\ipykernel_launcher.py:13: UserWarning: loadtxt: Empty input file: \"yielded/di_HEK293_siRNA-Control_NA_2.20000.chrY_window20000_cutoff11.txt\"\n",
      "  del sys.path[0]\n",
      "C:\\Users\\Dmitry\\Anaconda3\\lib\\site-packages\\ipykernel_launcher.py:12: UserWarning: loadtxt: Empty input file: \"yielded/di_HEK293_siRNA-Control_NA_1.20000.chrY_window40000_cutoff11.txt\"\n",
      "  if sys.path[0] == '':\n",
      "C:\\Users\\Dmitry\\Anaconda3\\lib\\site-packages\\ipykernel_launcher.py:13: UserWarning: loadtxt: Empty input file: \"yielded/di_HEK293_siRNA-Control_NA_2.20000.chrY_window40000_cutoff11.txt\"\n",
      "  del sys.path[0]\n"
     ]
    },
    {
     "name": "stdout",
     "output_type": "stream",
     "text": [
      "\r",
      "di HEK293_siRNA-Control_NA_ Y      \r",
      "di HEK293_siRNA-Control_NA_ Y      \r",
      "di HEK293_siRNA-Control_NA_ Y      \r",
      "di HEK293_siRNA-Control_NA_ Y      \r",
      "di HEK293_siRNA-Control_NA_ Y      "
     ]
    },
    {
     "name": "stderr",
     "output_type": "stream",
     "text": [
      "C:\\Users\\Dmitry\\Anaconda3\\lib\\site-packages\\ipykernel_launcher.py:12: UserWarning: loadtxt: Empty input file: \"yielded/di_HEK293_siRNA-Control_NA_1.20000.chrY_window60000_cutoff11.txt\"\n",
      "  if sys.path[0] == '':\n",
      "C:\\Users\\Dmitry\\Anaconda3\\lib\\site-packages\\ipykernel_launcher.py:13: UserWarning: loadtxt: Empty input file: \"yielded/di_HEK293_siRNA-Control_NA_2.20000.chrY_window60000_cutoff11.txt\"\n",
      "  del sys.path[0]\n",
      "C:\\Users\\Dmitry\\Anaconda3\\lib\\site-packages\\ipykernel_launcher.py:12: UserWarning: loadtxt: Empty input file: \"yielded/di_HEK293_siRNA-Control_NA_1.20000.chrY_window80000_cutoff11.txt\"\n",
      "  if sys.path[0] == '':\n",
      "C:\\Users\\Dmitry\\Anaconda3\\lib\\site-packages\\ipykernel_launcher.py:13: UserWarning: loadtxt: Empty input file: \"yielded/di_HEK293_siRNA-Control_NA_2.20000.chrY_window80000_cutoff11.txt\"\n",
      "  del sys.path[0]\n",
      "C:\\Users\\Dmitry\\Anaconda3\\lib\\site-packages\\ipykernel_launcher.py:12: UserWarning: loadtxt: Empty input file: \"yielded/di_HEK293_siRNA-Control_NA_1.20000.chrY_window20000_cutoff12.txt\"\n",
      "  if sys.path[0] == '':\n",
      "C:\\Users\\Dmitry\\Anaconda3\\lib\\site-packages\\ipykernel_launcher.py:13: UserWarning: loadtxt: Empty input file: \"yielded/di_HEK293_siRNA-Control_NA_2.20000.chrY_window20000_cutoff12.txt\"\n",
      "  del sys.path[0]\n",
      "C:\\Users\\Dmitry\\Anaconda3\\lib\\site-packages\\ipykernel_launcher.py:12: UserWarning: loadtxt: Empty input file: \"yielded/di_HEK293_siRNA-Control_NA_1.20000.chrY_window40000_cutoff12.txt\"\n",
      "  if sys.path[0] == '':\n",
      "C:\\Users\\Dmitry\\Anaconda3\\lib\\site-packages\\ipykernel_launcher.py:13: UserWarning: loadtxt: Empty input file: \"yielded/di_HEK293_siRNA-Control_NA_2.20000.chrY_window40000_cutoff12.txt\"\n",
      "  del sys.path[0]\n",
      "C:\\Users\\Dmitry\\Anaconda3\\lib\\site-packages\\ipykernel_launcher.py:12: UserWarning: loadtxt: Empty input file: \"yielded/di_HEK293_siRNA-Control_NA_1.20000.chrY_window60000_cutoff12.txt\"\n",
      "  if sys.path[0] == '':\n",
      "C:\\Users\\Dmitry\\Anaconda3\\lib\\site-packages\\ipykernel_launcher.py:13: UserWarning: loadtxt: Empty input file: \"yielded/di_HEK293_siRNA-Control_NA_2.20000.chrY_window60000_cutoff12.txt\"\n",
      "  del sys.path[0]\n"
     ]
    },
    {
     "name": "stdout",
     "output_type": "stream",
     "text": [
      "\r",
      "di HEK293_siRNA-Control_NA_ Y      \r",
      "di HEK293_siRNA-Control_NA_ Y      \r",
      "di HEK293_siRNA-Control_NA_ Y      \r",
      "di HEK293_siRNA-Control_NA_ Y      \r",
      "di HEK293_siRNA-Control_NA_ Y      "
     ]
    },
    {
     "name": "stderr",
     "output_type": "stream",
     "text": [
      "C:\\Users\\Dmitry\\Anaconda3\\lib\\site-packages\\ipykernel_launcher.py:12: UserWarning: loadtxt: Empty input file: \"yielded/di_HEK293_siRNA-Control_NA_1.20000.chrY_window80000_cutoff12.txt\"\n",
      "  if sys.path[0] == '':\n",
      "C:\\Users\\Dmitry\\Anaconda3\\lib\\site-packages\\ipykernel_launcher.py:13: UserWarning: loadtxt: Empty input file: \"yielded/di_HEK293_siRNA-Control_NA_2.20000.chrY_window80000_cutoff12.txt\"\n",
      "  del sys.path[0]\n",
      "C:\\Users\\Dmitry\\Anaconda3\\lib\\site-packages\\ipykernel_launcher.py:12: UserWarning: loadtxt: Empty input file: \"yielded/di_HEK293_siRNA-Control_NA_1.20000.chrY_window20000_cutoff13.txt\"\n",
      "  if sys.path[0] == '':\n",
      "C:\\Users\\Dmitry\\Anaconda3\\lib\\site-packages\\ipykernel_launcher.py:13: UserWarning: loadtxt: Empty input file: \"yielded/di_HEK293_siRNA-Control_NA_2.20000.chrY_window20000_cutoff13.txt\"\n",
      "  del sys.path[0]\n",
      "C:\\Users\\Dmitry\\Anaconda3\\lib\\site-packages\\ipykernel_launcher.py:12: UserWarning: loadtxt: Empty input file: \"yielded/di_HEK293_siRNA-Control_NA_1.20000.chrY_window40000_cutoff13.txt\"\n",
      "  if sys.path[0] == '':\n",
      "C:\\Users\\Dmitry\\Anaconda3\\lib\\site-packages\\ipykernel_launcher.py:13: UserWarning: loadtxt: Empty input file: \"yielded/di_HEK293_siRNA-Control_NA_2.20000.chrY_window40000_cutoff13.txt\"\n",
      "  del sys.path[0]\n",
      "C:\\Users\\Dmitry\\Anaconda3\\lib\\site-packages\\ipykernel_launcher.py:12: UserWarning: loadtxt: Empty input file: \"yielded/di_HEK293_siRNA-Control_NA_1.20000.chrY_window60000_cutoff13.txt\"\n",
      "  if sys.path[0] == '':\n",
      "C:\\Users\\Dmitry\\Anaconda3\\lib\\site-packages\\ipykernel_launcher.py:13: UserWarning: loadtxt: Empty input file: \"yielded/di_HEK293_siRNA-Control_NA_2.20000.chrY_window60000_cutoff13.txt\"\n",
      "  del sys.path[0]\n",
      "C:\\Users\\Dmitry\\Anaconda3\\lib\\site-packages\\ipykernel_launcher.py:12: UserWarning: loadtxt: Empty input file: \"yielded/di_HEK293_siRNA-Control_NA_1.20000.chrY_window80000_cutoff13.txt\"\n",
      "  if sys.path[0] == '':\n",
      "C:\\Users\\Dmitry\\Anaconda3\\lib\\site-packages\\ipykernel_launcher.py:13: UserWarning: loadtxt: Empty input file: \"yielded/di_HEK293_siRNA-Control_NA_2.20000.chrY_window80000_cutoff13.txt\"\n",
      "  del sys.path[0]\n"
     ]
    },
    {
     "name": "stdout",
     "output_type": "stream",
     "text": [
      "\r",
      "di HEK293_siRNA-Control_NA_ Y      \r",
      "di HEK293_siRNA-Control_NA_ Y      \r",
      "di HEK293_siRNA-Control_NA_ Y      \r",
      "di HEK293_siRNA-Control_NA_ Y      \r",
      "di HEK293_siRNA-Control_NA_ Y      "
     ]
    },
    {
     "name": "stderr",
     "output_type": "stream",
     "text": [
      "C:\\Users\\Dmitry\\Anaconda3\\lib\\site-packages\\ipykernel_launcher.py:12: UserWarning: loadtxt: Empty input file: \"yielded/di_HEK293_siRNA-Control_NA_1.20000.chrY_window20000_cutoff14.txt\"\n",
      "  if sys.path[0] == '':\n",
      "C:\\Users\\Dmitry\\Anaconda3\\lib\\site-packages\\ipykernel_launcher.py:13: UserWarning: loadtxt: Empty input file: \"yielded/di_HEK293_siRNA-Control_NA_2.20000.chrY_window20000_cutoff14.txt\"\n",
      "  del sys.path[0]\n",
      "C:\\Users\\Dmitry\\Anaconda3\\lib\\site-packages\\ipykernel_launcher.py:12: UserWarning: loadtxt: Empty input file: \"yielded/di_HEK293_siRNA-Control_NA_1.20000.chrY_window40000_cutoff14.txt\"\n",
      "  if sys.path[0] == '':\n",
      "C:\\Users\\Dmitry\\Anaconda3\\lib\\site-packages\\ipykernel_launcher.py:13: UserWarning: loadtxt: Empty input file: \"yielded/di_HEK293_siRNA-Control_NA_2.20000.chrY_window40000_cutoff14.txt\"\n",
      "  del sys.path[0]\n",
      "C:\\Users\\Dmitry\\Anaconda3\\lib\\site-packages\\ipykernel_launcher.py:12: UserWarning: loadtxt: Empty input file: \"yielded/di_HEK293_siRNA-Control_NA_1.20000.chrY_window60000_cutoff14.txt\"\n",
      "  if sys.path[0] == '':\n",
      "C:\\Users\\Dmitry\\Anaconda3\\lib\\site-packages\\ipykernel_launcher.py:13: UserWarning: loadtxt: Empty input file: \"yielded/di_HEK293_siRNA-Control_NA_2.20000.chrY_window60000_cutoff14.txt\"\n",
      "  del sys.path[0]\n",
      "C:\\Users\\Dmitry\\Anaconda3\\lib\\site-packages\\ipykernel_launcher.py:12: UserWarning: loadtxt: Empty input file: \"yielded/di_HEK293_siRNA-Control_NA_1.20000.chrY_window80000_cutoff14.txt\"\n",
      "  if sys.path[0] == '':\n",
      "C:\\Users\\Dmitry\\Anaconda3\\lib\\site-packages\\ipykernel_launcher.py:13: UserWarning: loadtxt: Empty input file: \"yielded/di_HEK293_siRNA-Control_NA_2.20000.chrY_window80000_cutoff14.txt\"\n",
      "  del sys.path[0]\n",
      "C:\\Users\\Dmitry\\Anaconda3\\lib\\site-packages\\ipykernel_launcher.py:12: UserWarning: loadtxt: Empty input file: \"yielded/di_HEK293_siRNA-Control_NA_1.20000.chrY_window20000_cutoff15.txt\"\n",
      "  if sys.path[0] == '':\n",
      "C:\\Users\\Dmitry\\Anaconda3\\lib\\site-packages\\ipykernel_launcher.py:13: UserWarning: loadtxt: Empty input file: \"yielded/di_HEK293_siRNA-Control_NA_2.20000.chrY_window20000_cutoff15.txt\"\n",
      "  del sys.path[0]\n",
      "C:\\Users\\Dmitry\\Anaconda3\\lib\\site-packages\\ipykernel_launcher.py:12: UserWarning: loadtxt: Empty input file: \"yielded/di_HEK293_siRNA-Control_NA_1.20000.chrY_window40000_cutoff15.txt\"\n",
      "  if sys.path[0] == '':\n",
      "C:\\Users\\Dmitry\\Anaconda3\\lib\\site-packages\\ipykernel_launcher.py:13: UserWarning: loadtxt: Empty input file: \"yielded/di_HEK293_siRNA-Control_NA_2.20000.chrY_window40000_cutoff15.txt\"\n",
      "  del sys.path[0]\n",
      "C:\\Users\\Dmitry\\Anaconda3\\lib\\site-packages\\ipykernel_launcher.py:12: UserWarning: loadtxt: Empty input file: \"yielded/di_HEK293_siRNA-Control_NA_1.20000.chrY_window60000_cutoff15.txt\"\n",
      "  if sys.path[0] == '':\n",
      "C:\\Users\\Dmitry\\Anaconda3\\lib\\site-packages\\ipykernel_launcher.py:13: UserWarning: loadtxt: Empty input file: \"yielded/di_HEK293_siRNA-Control_NA_2.20000.chrY_window60000_cutoff15.txt\"\n",
      "  del sys.path[0]\n",
      "C:\\Users\\Dmitry\\Anaconda3\\lib\\site-packages\\ipykernel_launcher.py:12: UserWarning: loadtxt: Empty input file: \"yielded/di_HEK293_siRNA-Control_NA_1.20000.chrY_window80000_cutoff15.txt\"\n",
      "  if sys.path[0] == '':\n",
      "C:\\Users\\Dmitry\\Anaconda3\\lib\\site-packages\\ipykernel_launcher.py:13: UserWarning: loadtxt: Empty input file: \"yielded/di_HEK293_siRNA-Control_NA_2.20000.chrY_window80000_cutoff15.txt\"\n",
      "  del sys.path[0]\n"
     ]
    },
    {
     "name": "stdout",
     "output_type": "stream",
     "text": [
      "di RAD21cv-HEK293_HRV-treated_NA_ Y       "
     ]
    },
    {
     "name": "stderr",
     "output_type": "stream",
     "text": [
      "C:\\Users\\Dmitry\\Anaconda3\\lib\\site-packages\\ipykernel_launcher.py:13: UserWarning: loadtxt: Empty input file: \"yielded/di_RAD21cv-HEK293_HRV-treated_NA_2.20000.chrY_window20000_cutoff6.txt\"\n",
      "  del sys.path[0]\n",
      "C:\\Users\\Dmitry\\Anaconda3\\lib\\site-packages\\ipykernel_launcher.py:13: UserWarning: loadtxt: Empty input file: \"yielded/di_RAD21cv-HEK293_HRV-treated_NA_2.20000.chrY_window40000_cutoff6.txt\"\n",
      "  del sys.path[0]\n",
      "C:\\Users\\Dmitry\\Anaconda3\\lib\\site-packages\\ipykernel_launcher.py:13: UserWarning: loadtxt: Empty input file: \"yielded/di_RAD21cv-HEK293_HRV-treated_NA_2.20000.chrY_window60000_cutoff6.txt\"\n",
      "  del sys.path[0]\n",
      "C:\\Users\\Dmitry\\Anaconda3\\lib\\site-packages\\ipykernel_launcher.py:13: UserWarning: loadtxt: Empty input file: \"yielded/di_RAD21cv-HEK293_HRV-treated_NA_2.20000.chrY_window80000_cutoff6.txt\"\n",
      "  del sys.path[0]\n"
     ]
    },
    {
     "name": "stdout",
     "output_type": "stream",
     "text": [
      "\r",
      "di RAD21cv-HEK293_HRV-treated_NA_ Y      \r",
      "di RAD21cv-HEK293_HRV-treated_NA_ Y      \r",
      "di RAD21cv-HEK293_HRV-treated_NA_ Y      \r",
      "di RAD21cv-HEK293_HRV-treated_NA_ Y      "
     ]
    },
    {
     "name": "stderr",
     "output_type": "stream",
     "text": [
      "C:\\Users\\Dmitry\\Anaconda3\\lib\\site-packages\\ipykernel_launcher.py:13: UserWarning: loadtxt: Empty input file: \"yielded/di_RAD21cv-HEK293_HRV-treated_NA_2.20000.chrY_window20000_cutoff7.txt\"\n",
      "  del sys.path[0]\n",
      "C:\\Users\\Dmitry\\Anaconda3\\lib\\site-packages\\ipykernel_launcher.py:13: UserWarning: loadtxt: Empty input file: \"yielded/di_RAD21cv-HEK293_HRV-treated_NA_2.20000.chrY_window40000_cutoff7.txt\"\n",
      "  del sys.path[0]\n",
      "C:\\Users\\Dmitry\\Anaconda3\\lib\\site-packages\\ipykernel_launcher.py:13: UserWarning: loadtxt: Empty input file: \"yielded/di_RAD21cv-HEK293_HRV-treated_NA_2.20000.chrY_window60000_cutoff7.txt\"\n",
      "  del sys.path[0]\n",
      "C:\\Users\\Dmitry\\Anaconda3\\lib\\site-packages\\ipykernel_launcher.py:13: UserWarning: loadtxt: Empty input file: \"yielded/di_RAD21cv-HEK293_HRV-treated_NA_2.20000.chrY_window80000_cutoff7.txt\"\n",
      "  del sys.path[0]\n"
     ]
    },
    {
     "name": "stdout",
     "output_type": "stream",
     "text": [
      "\r",
      "di RAD21cv-HEK293_HRV-treated_NA_ Y      \r",
      "di RAD21cv-HEK293_HRV-treated_NA_ Y      \r",
      "di RAD21cv-HEK293_HRV-treated_NA_ Y      \r",
      "di RAD21cv-HEK293_HRV-treated_NA_ Y      "
     ]
    },
    {
     "name": "stderr",
     "output_type": "stream",
     "text": [
      "C:\\Users\\Dmitry\\Anaconda3\\lib\\site-packages\\ipykernel_launcher.py:12: UserWarning: loadtxt: Empty input file: \"yielded/di_RAD21cv-HEK293_HRV-treated_NA_1.20000.chrY_window20000_cutoff8.txt\"\n",
      "  if sys.path[0] == '':\n",
      "C:\\Users\\Dmitry\\Anaconda3\\lib\\site-packages\\ipykernel_launcher.py:13: UserWarning: loadtxt: Empty input file: \"yielded/di_RAD21cv-HEK293_HRV-treated_NA_2.20000.chrY_window20000_cutoff8.txt\"\n",
      "  del sys.path[0]\n",
      "C:\\Users\\Dmitry\\Anaconda3\\lib\\site-packages\\ipykernel_launcher.py:12: UserWarning: loadtxt: Empty input file: \"yielded/di_RAD21cv-HEK293_HRV-treated_NA_1.20000.chrY_window40000_cutoff8.txt\"\n",
      "  if sys.path[0] == '':\n",
      "C:\\Users\\Dmitry\\Anaconda3\\lib\\site-packages\\ipykernel_launcher.py:13: UserWarning: loadtxt: Empty input file: \"yielded/di_RAD21cv-HEK293_HRV-treated_NA_2.20000.chrY_window40000_cutoff8.txt\"\n",
      "  del sys.path[0]\n",
      "C:\\Users\\Dmitry\\Anaconda3\\lib\\site-packages\\ipykernel_launcher.py:12: UserWarning: loadtxt: Empty input file: \"yielded/di_RAD21cv-HEK293_HRV-treated_NA_1.20000.chrY_window60000_cutoff8.txt\"\n",
      "  if sys.path[0] == '':\n",
      "C:\\Users\\Dmitry\\Anaconda3\\lib\\site-packages\\ipykernel_launcher.py:13: UserWarning: loadtxt: Empty input file: \"yielded/di_RAD21cv-HEK293_HRV-treated_NA_2.20000.chrY_window60000_cutoff8.txt\"\n",
      "  del sys.path[0]\n",
      "C:\\Users\\Dmitry\\Anaconda3\\lib\\site-packages\\ipykernel_launcher.py:12: UserWarning: loadtxt: Empty input file: \"yielded/di_RAD21cv-HEK293_HRV-treated_NA_1.20000.chrY_window80000_cutoff8.txt\"\n",
      "  if sys.path[0] == '':\n",
      "C:\\Users\\Dmitry\\Anaconda3\\lib\\site-packages\\ipykernel_launcher.py:13: UserWarning: loadtxt: Empty input file: \"yielded/di_RAD21cv-HEK293_HRV-treated_NA_2.20000.chrY_window80000_cutoff8.txt\"\n",
      "  del sys.path[0]\n"
     ]
    },
    {
     "name": "stdout",
     "output_type": "stream",
     "text": [
      "\r",
      "di RAD21cv-HEK293_HRV-treated_NA_ Y      \r",
      "di RAD21cv-HEK293_HRV-treated_NA_ Y      \r",
      "di RAD21cv-HEK293_HRV-treated_NA_ Y      "
     ]
    },
    {
     "name": "stderr",
     "output_type": "stream",
     "text": [
      "C:\\Users\\Dmitry\\Anaconda3\\lib\\site-packages\\ipykernel_launcher.py:12: UserWarning: loadtxt: Empty input file: \"yielded/di_RAD21cv-HEK293_HRV-treated_NA_1.20000.chrY_window20000_cutoff9.txt\"\n",
      "  if sys.path[0] == '':\n",
      "C:\\Users\\Dmitry\\Anaconda3\\lib\\site-packages\\ipykernel_launcher.py:13: UserWarning: loadtxt: Empty input file: \"yielded/di_RAD21cv-HEK293_HRV-treated_NA_2.20000.chrY_window20000_cutoff9.txt\"\n",
      "  del sys.path[0]\n",
      "C:\\Users\\Dmitry\\Anaconda3\\lib\\site-packages\\ipykernel_launcher.py:12: UserWarning: loadtxt: Empty input file: \"yielded/di_RAD21cv-HEK293_HRV-treated_NA_1.20000.chrY_window40000_cutoff9.txt\"\n",
      "  if sys.path[0] == '':\n",
      "C:\\Users\\Dmitry\\Anaconda3\\lib\\site-packages\\ipykernel_launcher.py:13: UserWarning: loadtxt: Empty input file: \"yielded/di_RAD21cv-HEK293_HRV-treated_NA_2.20000.chrY_window40000_cutoff9.txt\"\n",
      "  del sys.path[0]\n",
      "C:\\Users\\Dmitry\\Anaconda3\\lib\\site-packages\\ipykernel_launcher.py:12: UserWarning: loadtxt: Empty input file: \"yielded/di_RAD21cv-HEK293_HRV-treated_NA_1.20000.chrY_window60000_cutoff9.txt\"\n",
      "  if sys.path[0] == '':\n",
      "C:\\Users\\Dmitry\\Anaconda3\\lib\\site-packages\\ipykernel_launcher.py:13: UserWarning: loadtxt: Empty input file: \"yielded/di_RAD21cv-HEK293_HRV-treated_NA_2.20000.chrY_window60000_cutoff9.txt\"\n",
      "  del sys.path[0]\n"
     ]
    },
    {
     "name": "stdout",
     "output_type": "stream",
     "text": [
      "\r",
      "di RAD21cv-HEK293_HRV-treated_NA_ Y      \r",
      "di RAD21cv-HEK293_HRV-treated_NA_ Y      \r",
      "di RAD21cv-HEK293_HRV-treated_NA_ Y      "
     ]
    },
    {
     "name": "stderr",
     "output_type": "stream",
     "text": [
      "C:\\Users\\Dmitry\\Anaconda3\\lib\\site-packages\\ipykernel_launcher.py:12: UserWarning: loadtxt: Empty input file: \"yielded/di_RAD21cv-HEK293_HRV-treated_NA_1.20000.chrY_window80000_cutoff9.txt\"\n",
      "  if sys.path[0] == '':\n",
      "C:\\Users\\Dmitry\\Anaconda3\\lib\\site-packages\\ipykernel_launcher.py:13: UserWarning: loadtxt: Empty input file: \"yielded/di_RAD21cv-HEK293_HRV-treated_NA_2.20000.chrY_window80000_cutoff9.txt\"\n",
      "  del sys.path[0]\n",
      "C:\\Users\\Dmitry\\Anaconda3\\lib\\site-packages\\ipykernel_launcher.py:12: UserWarning: loadtxt: Empty input file: \"yielded/di_RAD21cv-HEK293_HRV-treated_NA_1.20000.chrY_window20000_cutoff10.txt\"\n",
      "  if sys.path[0] == '':\n",
      "C:\\Users\\Dmitry\\Anaconda3\\lib\\site-packages\\ipykernel_launcher.py:13: UserWarning: loadtxt: Empty input file: \"yielded/di_RAD21cv-HEK293_HRV-treated_NA_2.20000.chrY_window20000_cutoff10.txt\"\n",
      "  del sys.path[0]\n",
      "C:\\Users\\Dmitry\\Anaconda3\\lib\\site-packages\\ipykernel_launcher.py:12: UserWarning: loadtxt: Empty input file: \"yielded/di_RAD21cv-HEK293_HRV-treated_NA_1.20000.chrY_window40000_cutoff10.txt\"\n",
      "  if sys.path[0] == '':\n",
      "C:\\Users\\Dmitry\\Anaconda3\\lib\\site-packages\\ipykernel_launcher.py:13: UserWarning: loadtxt: Empty input file: \"yielded/di_RAD21cv-HEK293_HRV-treated_NA_2.20000.chrY_window40000_cutoff10.txt\"\n",
      "  del sys.path[0]\n"
     ]
    },
    {
     "name": "stdout",
     "output_type": "stream",
     "text": [
      "\r",
      "di RAD21cv-HEK293_HRV-treated_NA_ Y      \r",
      "di RAD21cv-HEK293_HRV-treated_NA_ Y      \r",
      "di RAD21cv-HEK293_HRV-treated_NA_ Y      "
     ]
    },
    {
     "name": "stderr",
     "output_type": "stream",
     "text": [
      "C:\\Users\\Dmitry\\Anaconda3\\lib\\site-packages\\ipykernel_launcher.py:12: UserWarning: loadtxt: Empty input file: \"yielded/di_RAD21cv-HEK293_HRV-treated_NA_1.20000.chrY_window60000_cutoff10.txt\"\n",
      "  if sys.path[0] == '':\n",
      "C:\\Users\\Dmitry\\Anaconda3\\lib\\site-packages\\ipykernel_launcher.py:13: UserWarning: loadtxt: Empty input file: \"yielded/di_RAD21cv-HEK293_HRV-treated_NA_2.20000.chrY_window60000_cutoff10.txt\"\n",
      "  del sys.path[0]\n",
      "C:\\Users\\Dmitry\\Anaconda3\\lib\\site-packages\\ipykernel_launcher.py:12: UserWarning: loadtxt: Empty input file: \"yielded/di_RAD21cv-HEK293_HRV-treated_NA_1.20000.chrY_window80000_cutoff10.txt\"\n",
      "  if sys.path[0] == '':\n",
      "C:\\Users\\Dmitry\\Anaconda3\\lib\\site-packages\\ipykernel_launcher.py:13: UserWarning: loadtxt: Empty input file: \"yielded/di_RAD21cv-HEK293_HRV-treated_NA_2.20000.chrY_window80000_cutoff10.txt\"\n",
      "  del sys.path[0]\n",
      "C:\\Users\\Dmitry\\Anaconda3\\lib\\site-packages\\ipykernel_launcher.py:12: UserWarning: loadtxt: Empty input file: \"yielded/di_RAD21cv-HEK293_HRV-treated_NA_1.20000.chrY_window20000_cutoff11.txt\"\n",
      "  if sys.path[0] == '':\n",
      "C:\\Users\\Dmitry\\Anaconda3\\lib\\site-packages\\ipykernel_launcher.py:13: UserWarning: loadtxt: Empty input file: \"yielded/di_RAD21cv-HEK293_HRV-treated_NA_2.20000.chrY_window20000_cutoff11.txt\"\n",
      "  del sys.path[0]\n"
     ]
    },
    {
     "name": "stdout",
     "output_type": "stream",
     "text": [
      "\r",
      "di RAD21cv-HEK293_HRV-treated_NA_ Y      \r",
      "di RAD21cv-HEK293_HRV-treated_NA_ Y      \r",
      "di RAD21cv-HEK293_HRV-treated_NA_ Y      "
     ]
    },
    {
     "name": "stderr",
     "output_type": "stream",
     "text": [
      "C:\\Users\\Dmitry\\Anaconda3\\lib\\site-packages\\ipykernel_launcher.py:12: UserWarning: loadtxt: Empty input file: \"yielded/di_RAD21cv-HEK293_HRV-treated_NA_1.20000.chrY_window40000_cutoff11.txt\"\n",
      "  if sys.path[0] == '':\n",
      "C:\\Users\\Dmitry\\Anaconda3\\lib\\site-packages\\ipykernel_launcher.py:13: UserWarning: loadtxt: Empty input file: \"yielded/di_RAD21cv-HEK293_HRV-treated_NA_2.20000.chrY_window40000_cutoff11.txt\"\n",
      "  del sys.path[0]\n",
      "C:\\Users\\Dmitry\\Anaconda3\\lib\\site-packages\\ipykernel_launcher.py:12: UserWarning: loadtxt: Empty input file: \"yielded/di_RAD21cv-HEK293_HRV-treated_NA_1.20000.chrY_window60000_cutoff11.txt\"\n",
      "  if sys.path[0] == '':\n",
      "C:\\Users\\Dmitry\\Anaconda3\\lib\\site-packages\\ipykernel_launcher.py:13: UserWarning: loadtxt: Empty input file: \"yielded/di_RAD21cv-HEK293_HRV-treated_NA_2.20000.chrY_window60000_cutoff11.txt\"\n",
      "  del sys.path[0]\n",
      "C:\\Users\\Dmitry\\Anaconda3\\lib\\site-packages\\ipykernel_launcher.py:12: UserWarning: loadtxt: Empty input file: \"yielded/di_RAD21cv-HEK293_HRV-treated_NA_1.20000.chrY_window80000_cutoff11.txt\"\n",
      "  if sys.path[0] == '':\n",
      "C:\\Users\\Dmitry\\Anaconda3\\lib\\site-packages\\ipykernel_launcher.py:13: UserWarning: loadtxt: Empty input file: \"yielded/di_RAD21cv-HEK293_HRV-treated_NA_2.20000.chrY_window80000_cutoff11.txt\"\n",
      "  del sys.path[0]\n",
      "C:\\Users\\Dmitry\\Anaconda3\\lib\\site-packages\\ipykernel_launcher.py:12: UserWarning: loadtxt: Empty input file: \"yielded/di_RAD21cv-HEK293_HRV-treated_NA_1.20000.chrY_window20000_cutoff12.txt\"\n",
      "  if sys.path[0] == '':\n",
      "C:\\Users\\Dmitry\\Anaconda3\\lib\\site-packages\\ipykernel_launcher.py:13: UserWarning: loadtxt: Empty input file: \"yielded/di_RAD21cv-HEK293_HRV-treated_NA_2.20000.chrY_window20000_cutoff12.txt\"\n",
      "  del sys.path[0]\n"
     ]
    },
    {
     "name": "stdout",
     "output_type": "stream",
     "text": [
      "\r",
      "di RAD21cv-HEK293_HRV-treated_NA_ Y      \r",
      "di RAD21cv-HEK293_HRV-treated_NA_ Y      \r",
      "di RAD21cv-HEK293_HRV-treated_NA_ Y      \r",
      "di RAD21cv-HEK293_HRV-treated_NA_ Y      "
     ]
    },
    {
     "name": "stderr",
     "output_type": "stream",
     "text": [
      "C:\\Users\\Dmitry\\Anaconda3\\lib\\site-packages\\ipykernel_launcher.py:12: UserWarning: loadtxt: Empty input file: \"yielded/di_RAD21cv-HEK293_HRV-treated_NA_1.20000.chrY_window40000_cutoff12.txt\"\n",
      "  if sys.path[0] == '':\n",
      "C:\\Users\\Dmitry\\Anaconda3\\lib\\site-packages\\ipykernel_launcher.py:13: UserWarning: loadtxt: Empty input file: \"yielded/di_RAD21cv-HEK293_HRV-treated_NA_2.20000.chrY_window40000_cutoff12.txt\"\n",
      "  del sys.path[0]\n",
      "C:\\Users\\Dmitry\\Anaconda3\\lib\\site-packages\\ipykernel_launcher.py:12: UserWarning: loadtxt: Empty input file: \"yielded/di_RAD21cv-HEK293_HRV-treated_NA_1.20000.chrY_window60000_cutoff12.txt\"\n",
      "  if sys.path[0] == '':\n",
      "C:\\Users\\Dmitry\\Anaconda3\\lib\\site-packages\\ipykernel_launcher.py:13: UserWarning: loadtxt: Empty input file: \"yielded/di_RAD21cv-HEK293_HRV-treated_NA_2.20000.chrY_window60000_cutoff12.txt\"\n",
      "  del sys.path[0]\n",
      "C:\\Users\\Dmitry\\Anaconda3\\lib\\site-packages\\ipykernel_launcher.py:12: UserWarning: loadtxt: Empty input file: \"yielded/di_RAD21cv-HEK293_HRV-treated_NA_1.20000.chrY_window80000_cutoff12.txt\"\n",
      "  if sys.path[0] == '':\n",
      "C:\\Users\\Dmitry\\Anaconda3\\lib\\site-packages\\ipykernel_launcher.py:13: UserWarning: loadtxt: Empty input file: \"yielded/di_RAD21cv-HEK293_HRV-treated_NA_2.20000.chrY_window80000_cutoff12.txt\"\n",
      "  del sys.path[0]\n",
      "C:\\Users\\Dmitry\\Anaconda3\\lib\\site-packages\\ipykernel_launcher.py:12: UserWarning: loadtxt: Empty input file: \"yielded/di_RAD21cv-HEK293_HRV-treated_NA_1.20000.chrY_window20000_cutoff13.txt\"\n",
      "  if sys.path[0] == '':\n",
      "C:\\Users\\Dmitry\\Anaconda3\\lib\\site-packages\\ipykernel_launcher.py:13: UserWarning: loadtxt: Empty input file: \"yielded/di_RAD21cv-HEK293_HRV-treated_NA_2.20000.chrY_window20000_cutoff13.txt\"\n",
      "  del sys.path[0]\n"
     ]
    },
    {
     "name": "stdout",
     "output_type": "stream",
     "text": [
      "\r",
      "di RAD21cv-HEK293_HRV-treated_NA_ Y      \r",
      "di RAD21cv-HEK293_HRV-treated_NA_ Y      \r",
      "di RAD21cv-HEK293_HRV-treated_NA_ Y      \r",
      "di RAD21cv-HEK293_HRV-treated_NA_ Y      "
     ]
    },
    {
     "name": "stderr",
     "output_type": "stream",
     "text": [
      "C:\\Users\\Dmitry\\Anaconda3\\lib\\site-packages\\ipykernel_launcher.py:12: UserWarning: loadtxt: Empty input file: \"yielded/di_RAD21cv-HEK293_HRV-treated_NA_1.20000.chrY_window40000_cutoff13.txt\"\n",
      "  if sys.path[0] == '':\n",
      "C:\\Users\\Dmitry\\Anaconda3\\lib\\site-packages\\ipykernel_launcher.py:13: UserWarning: loadtxt: Empty input file: \"yielded/di_RAD21cv-HEK293_HRV-treated_NA_2.20000.chrY_window40000_cutoff13.txt\"\n",
      "  del sys.path[0]\n",
      "C:\\Users\\Dmitry\\Anaconda3\\lib\\site-packages\\ipykernel_launcher.py:12: UserWarning: loadtxt: Empty input file: \"yielded/di_RAD21cv-HEK293_HRV-treated_NA_1.20000.chrY_window60000_cutoff13.txt\"\n",
      "  if sys.path[0] == '':\n",
      "C:\\Users\\Dmitry\\Anaconda3\\lib\\site-packages\\ipykernel_launcher.py:13: UserWarning: loadtxt: Empty input file: \"yielded/di_RAD21cv-HEK293_HRV-treated_NA_2.20000.chrY_window60000_cutoff13.txt\"\n",
      "  del sys.path[0]\n",
      "C:\\Users\\Dmitry\\Anaconda3\\lib\\site-packages\\ipykernel_launcher.py:12: UserWarning: loadtxt: Empty input file: \"yielded/di_RAD21cv-HEK293_HRV-treated_NA_1.20000.chrY_window80000_cutoff13.txt\"\n",
      "  if sys.path[0] == '':\n",
      "C:\\Users\\Dmitry\\Anaconda3\\lib\\site-packages\\ipykernel_launcher.py:13: UserWarning: loadtxt: Empty input file: \"yielded/di_RAD21cv-HEK293_HRV-treated_NA_2.20000.chrY_window80000_cutoff13.txt\"\n",
      "  del sys.path[0]\n",
      "C:\\Users\\Dmitry\\Anaconda3\\lib\\site-packages\\ipykernel_launcher.py:12: UserWarning: loadtxt: Empty input file: \"yielded/di_RAD21cv-HEK293_HRV-treated_NA_1.20000.chrY_window20000_cutoff14.txt\"\n",
      "  if sys.path[0] == '':\n",
      "C:\\Users\\Dmitry\\Anaconda3\\lib\\site-packages\\ipykernel_launcher.py:13: UserWarning: loadtxt: Empty input file: \"yielded/di_RAD21cv-HEK293_HRV-treated_NA_2.20000.chrY_window20000_cutoff14.txt\"\n",
      "  del sys.path[0]\n"
     ]
    },
    {
     "name": "stdout",
     "output_type": "stream",
     "text": [
      "\r",
      "di RAD21cv-HEK293_HRV-treated_NA_ Y      \r",
      "di RAD21cv-HEK293_HRV-treated_NA_ Y      \r",
      "di RAD21cv-HEK293_HRV-treated_NA_ Y      \r",
      "di RAD21cv-HEK293_HRV-treated_NA_ Y      "
     ]
    },
    {
     "name": "stderr",
     "output_type": "stream",
     "text": [
      "C:\\Users\\Dmitry\\Anaconda3\\lib\\site-packages\\ipykernel_launcher.py:12: UserWarning: loadtxt: Empty input file: \"yielded/di_RAD21cv-HEK293_HRV-treated_NA_1.20000.chrY_window40000_cutoff14.txt\"\n",
      "  if sys.path[0] == '':\n",
      "C:\\Users\\Dmitry\\Anaconda3\\lib\\site-packages\\ipykernel_launcher.py:13: UserWarning: loadtxt: Empty input file: \"yielded/di_RAD21cv-HEK293_HRV-treated_NA_2.20000.chrY_window40000_cutoff14.txt\"\n",
      "  del sys.path[0]\n",
      "C:\\Users\\Dmitry\\Anaconda3\\lib\\site-packages\\ipykernel_launcher.py:12: UserWarning: loadtxt: Empty input file: \"yielded/di_RAD21cv-HEK293_HRV-treated_NA_1.20000.chrY_window60000_cutoff14.txt\"\n",
      "  if sys.path[0] == '':\n",
      "C:\\Users\\Dmitry\\Anaconda3\\lib\\site-packages\\ipykernel_launcher.py:13: UserWarning: loadtxt: Empty input file: \"yielded/di_RAD21cv-HEK293_HRV-treated_NA_2.20000.chrY_window60000_cutoff14.txt\"\n",
      "  del sys.path[0]\n",
      "C:\\Users\\Dmitry\\Anaconda3\\lib\\site-packages\\ipykernel_launcher.py:12: UserWarning: loadtxt: Empty input file: \"yielded/di_RAD21cv-HEK293_HRV-treated_NA_1.20000.chrY_window80000_cutoff14.txt\"\n",
      "  if sys.path[0] == '':\n",
      "C:\\Users\\Dmitry\\Anaconda3\\lib\\site-packages\\ipykernel_launcher.py:13: UserWarning: loadtxt: Empty input file: \"yielded/di_RAD21cv-HEK293_HRV-treated_NA_2.20000.chrY_window80000_cutoff14.txt\"\n",
      "  del sys.path[0]\n",
      "C:\\Users\\Dmitry\\Anaconda3\\lib\\site-packages\\ipykernel_launcher.py:12: UserWarning: loadtxt: Empty input file: \"yielded/di_RAD21cv-HEK293_HRV-treated_NA_1.20000.chrY_window20000_cutoff15.txt\"\n",
      "  if sys.path[0] == '':\n",
      "C:\\Users\\Dmitry\\Anaconda3\\lib\\site-packages\\ipykernel_launcher.py:13: UserWarning: loadtxt: Empty input file: \"yielded/di_RAD21cv-HEK293_HRV-treated_NA_2.20000.chrY_window20000_cutoff15.txt\"\n",
      "  del sys.path[0]\n"
     ]
    },
    {
     "name": "stdout",
     "output_type": "stream",
     "text": [
      "\r",
      "di RAD21cv-HEK293_HRV-treated_NA_ Y      \r",
      "di RAD21cv-HEK293_HRV-treated_NA_ Y      \r",
      "di RAD21cv-HEK293_HRV-treated_NA_ Y      \r",
      "di RAD21cv-HEK293_HRV-treated_NA_ Y      "
     ]
    },
    {
     "name": "stderr",
     "output_type": "stream",
     "text": [
      "C:\\Users\\Dmitry\\Anaconda3\\lib\\site-packages\\ipykernel_launcher.py:12: UserWarning: loadtxt: Empty input file: \"yielded/di_RAD21cv-HEK293_HRV-treated_NA_1.20000.chrY_window40000_cutoff15.txt\"\n",
      "  if sys.path[0] == '':\n",
      "C:\\Users\\Dmitry\\Anaconda3\\lib\\site-packages\\ipykernel_launcher.py:13: UserWarning: loadtxt: Empty input file: \"yielded/di_RAD21cv-HEK293_HRV-treated_NA_2.20000.chrY_window40000_cutoff15.txt\"\n",
      "  del sys.path[0]\n",
      "C:\\Users\\Dmitry\\Anaconda3\\lib\\site-packages\\ipykernel_launcher.py:12: UserWarning: loadtxt: Empty input file: \"yielded/di_RAD21cv-HEK293_HRV-treated_NA_1.20000.chrY_window60000_cutoff15.txt\"\n",
      "  if sys.path[0] == '':\n",
      "C:\\Users\\Dmitry\\Anaconda3\\lib\\site-packages\\ipykernel_launcher.py:13: UserWarning: loadtxt: Empty input file: \"yielded/di_RAD21cv-HEK293_HRV-treated_NA_2.20000.chrY_window60000_cutoff15.txt\"\n",
      "  del sys.path[0]\n",
      "C:\\Users\\Dmitry\\Anaconda3\\lib\\site-packages\\ipykernel_launcher.py:12: UserWarning: loadtxt: Empty input file: \"yielded/di_RAD21cv-HEK293_HRV-treated_NA_1.20000.chrY_window80000_cutoff15.txt\"\n",
      "  if sys.path[0] == '':\n",
      "C:\\Users\\Dmitry\\Anaconda3\\lib\\site-packages\\ipykernel_launcher.py:13: UserWarning: loadtxt: Empty input file: \"yielded/di_RAD21cv-HEK293_HRV-treated_NA_2.20000.chrY_window80000_cutoff15.txt\"\n",
      "  del sys.path[0]\n"
     ]
    },
    {
     "name": "stdout",
     "output_type": "stream",
     "text": [
      "di RAD21cv-HEK293_TEV-treated_NA_ Y       "
     ]
    },
    {
     "name": "stderr",
     "output_type": "stream",
     "text": [
      "C:\\Users\\Dmitry\\Anaconda3\\lib\\site-packages\\ipykernel_launcher.py:13: UserWarning: loadtxt: Empty input file: \"yielded/di_RAD21cv-HEK293_TEV-treated_NA_2.20000.chrY_window20000_cutoff5.txt\"\n",
      "  del sys.path[0]\n",
      "C:\\Users\\Dmitry\\Anaconda3\\lib\\site-packages\\ipykernel_launcher.py:13: UserWarning: loadtxt: Empty input file: \"yielded/di_RAD21cv-HEK293_TEV-treated_NA_2.20000.chrY_window40000_cutoff5.txt\"\n",
      "  del sys.path[0]\n",
      "C:\\Users\\Dmitry\\Anaconda3\\lib\\site-packages\\ipykernel_launcher.py:13: UserWarning: loadtxt: Empty input file: \"yielded/di_RAD21cv-HEK293_TEV-treated_NA_2.20000.chrY_window60000_cutoff5.txt\"\n",
      "  del sys.path[0]\n",
      "C:\\Users\\Dmitry\\Anaconda3\\lib\\site-packages\\ipykernel_launcher.py:13: UserWarning: loadtxt: Empty input file: \"yielded/di_RAD21cv-HEK293_TEV-treated_NA_2.20000.chrY_window80000_cutoff5.txt\"\n",
      "  del sys.path[0]\n"
     ]
    },
    {
     "name": "stdout",
     "output_type": "stream",
     "text": [
      "\r",
      "di RAD21cv-HEK293_TEV-treated_NA_ Y      \r",
      "di RAD21cv-HEK293_TEV-treated_NA_ Y      \r",
      "di RAD21cv-HEK293_TEV-treated_NA_ Y      "
     ]
    },
    {
     "name": "stderr",
     "output_type": "stream",
     "text": [
      "C:\\Users\\Dmitry\\Anaconda3\\lib\\site-packages\\ipykernel_launcher.py:13: UserWarning: loadtxt: Empty input file: \"yielded/di_RAD21cv-HEK293_TEV-treated_NA_2.20000.chrY_window20000_cutoff6.txt\"\n",
      "  del sys.path[0]\n",
      "C:\\Users\\Dmitry\\Anaconda3\\lib\\site-packages\\ipykernel_launcher.py:13: UserWarning: loadtxt: Empty input file: \"yielded/di_RAD21cv-HEK293_TEV-treated_NA_2.20000.chrY_window40000_cutoff6.txt\"\n",
      "  del sys.path[0]\n",
      "C:\\Users\\Dmitry\\Anaconda3\\lib\\site-packages\\ipykernel_launcher.py:13: UserWarning: loadtxt: Empty input file: \"yielded/di_RAD21cv-HEK293_TEV-treated_NA_2.20000.chrY_window60000_cutoff6.txt\"\n",
      "  del sys.path[0]\n"
     ]
    },
    {
     "name": "stdout",
     "output_type": "stream",
     "text": [
      "\r",
      "di RAD21cv-HEK293_TEV-treated_NA_ Y      \r",
      "di RAD21cv-HEK293_TEV-treated_NA_ Y      \r",
      "di RAD21cv-HEK293_TEV-treated_NA_ Y      "
     ]
    },
    {
     "name": "stderr",
     "output_type": "stream",
     "text": [
      "C:\\Users\\Dmitry\\Anaconda3\\lib\\site-packages\\ipykernel_launcher.py:13: UserWarning: loadtxt: Empty input file: \"yielded/di_RAD21cv-HEK293_TEV-treated_NA_2.20000.chrY_window80000_cutoff6.txt\"\n",
      "  del sys.path[0]\n",
      "C:\\Users\\Dmitry\\Anaconda3\\lib\\site-packages\\ipykernel_launcher.py:12: UserWarning: loadtxt: Empty input file: \"yielded/di_RAD21cv-HEK293_TEV-treated_NA_1.20000.chrY_window20000_cutoff7.txt\"\n",
      "  if sys.path[0] == '':\n",
      "C:\\Users\\Dmitry\\Anaconda3\\lib\\site-packages\\ipykernel_launcher.py:13: UserWarning: loadtxt: Empty input file: \"yielded/di_RAD21cv-HEK293_TEV-treated_NA_2.20000.chrY_window20000_cutoff7.txt\"\n",
      "  del sys.path[0]\n",
      "C:\\Users\\Dmitry\\Anaconda3\\lib\\site-packages\\ipykernel_launcher.py:12: UserWarning: loadtxt: Empty input file: \"yielded/di_RAD21cv-HEK293_TEV-treated_NA_1.20000.chrY_window40000_cutoff7.txt\"\n",
      "  if sys.path[0] == '':\n",
      "C:\\Users\\Dmitry\\Anaconda3\\lib\\site-packages\\ipykernel_launcher.py:13: UserWarning: loadtxt: Empty input file: \"yielded/di_RAD21cv-HEK293_TEV-treated_NA_2.20000.chrY_window40000_cutoff7.txt\"\n",
      "  del sys.path[0]\n",
      "C:\\Users\\Dmitry\\Anaconda3\\lib\\site-packages\\ipykernel_launcher.py:12: UserWarning: loadtxt: Empty input file: \"yielded/di_RAD21cv-HEK293_TEV-treated_NA_1.20000.chrY_window60000_cutoff7.txt\"\n",
      "  if sys.path[0] == '':\n",
      "C:\\Users\\Dmitry\\Anaconda3\\lib\\site-packages\\ipykernel_launcher.py:13: UserWarning: loadtxt: Empty input file: \"yielded/di_RAD21cv-HEK293_TEV-treated_NA_2.20000.chrY_window60000_cutoff7.txt\"\n",
      "  del sys.path[0]\n"
     ]
    },
    {
     "name": "stdout",
     "output_type": "stream",
     "text": [
      "\r",
      "di RAD21cv-HEK293_TEV-treated_NA_ Y      \r",
      "di RAD21cv-HEK293_TEV-treated_NA_ Y      \r",
      "di RAD21cv-HEK293_TEV-treated_NA_ Y      \r",
      "di RAD21cv-HEK293_TEV-treated_NA_ Y      "
     ]
    },
    {
     "name": "stderr",
     "output_type": "stream",
     "text": [
      "C:\\Users\\Dmitry\\Anaconda3\\lib\\site-packages\\ipykernel_launcher.py:12: UserWarning: loadtxt: Empty input file: \"yielded/di_RAD21cv-HEK293_TEV-treated_NA_1.20000.chrY_window80000_cutoff7.txt\"\n",
      "  if sys.path[0] == '':\n",
      "C:\\Users\\Dmitry\\Anaconda3\\lib\\site-packages\\ipykernel_launcher.py:13: UserWarning: loadtxt: Empty input file: \"yielded/di_RAD21cv-HEK293_TEV-treated_NA_2.20000.chrY_window80000_cutoff7.txt\"\n",
      "  del sys.path[0]\n",
      "C:\\Users\\Dmitry\\Anaconda3\\lib\\site-packages\\ipykernel_launcher.py:12: UserWarning: loadtxt: Empty input file: \"yielded/di_RAD21cv-HEK293_TEV-treated_NA_1.20000.chrY_window20000_cutoff8.txt\"\n",
      "  if sys.path[0] == '':\n",
      "C:\\Users\\Dmitry\\Anaconda3\\lib\\site-packages\\ipykernel_launcher.py:13: UserWarning: loadtxt: Empty input file: \"yielded/di_RAD21cv-HEK293_TEV-treated_NA_2.20000.chrY_window20000_cutoff8.txt\"\n",
      "  del sys.path[0]\n",
      "C:\\Users\\Dmitry\\Anaconda3\\lib\\site-packages\\ipykernel_launcher.py:12: UserWarning: loadtxt: Empty input file: \"yielded/di_RAD21cv-HEK293_TEV-treated_NA_1.20000.chrY_window40000_cutoff8.txt\"\n",
      "  if sys.path[0] == '':\n",
      "C:\\Users\\Dmitry\\Anaconda3\\lib\\site-packages\\ipykernel_launcher.py:13: UserWarning: loadtxt: Empty input file: \"yielded/di_RAD21cv-HEK293_TEV-treated_NA_2.20000.chrY_window40000_cutoff8.txt\"\n",
      "  del sys.path[0]\n",
      "C:\\Users\\Dmitry\\Anaconda3\\lib\\site-packages\\ipykernel_launcher.py:12: UserWarning: loadtxt: Empty input file: \"yielded/di_RAD21cv-HEK293_TEV-treated_NA_1.20000.chrY_window60000_cutoff8.txt\"\n",
      "  if sys.path[0] == '':\n",
      "C:\\Users\\Dmitry\\Anaconda3\\lib\\site-packages\\ipykernel_launcher.py:13: UserWarning: loadtxt: Empty input file: \"yielded/di_RAD21cv-HEK293_TEV-treated_NA_2.20000.chrY_window60000_cutoff8.txt\"\n",
      "  del sys.path[0]\n"
     ]
    },
    {
     "name": "stdout",
     "output_type": "stream",
     "text": [
      "\r",
      "di RAD21cv-HEK293_TEV-treated_NA_ Y      \r",
      "di RAD21cv-HEK293_TEV-treated_NA_ Y      \r",
      "di RAD21cv-HEK293_TEV-treated_NA_ Y      \r",
      "di RAD21cv-HEK293_TEV-treated_NA_ Y      "
     ]
    },
    {
     "name": "stderr",
     "output_type": "stream",
     "text": [
      "C:\\Users\\Dmitry\\Anaconda3\\lib\\site-packages\\ipykernel_launcher.py:12: UserWarning: loadtxt: Empty input file: \"yielded/di_RAD21cv-HEK293_TEV-treated_NA_1.20000.chrY_window80000_cutoff8.txt\"\n",
      "  if sys.path[0] == '':\n",
      "C:\\Users\\Dmitry\\Anaconda3\\lib\\site-packages\\ipykernel_launcher.py:13: UserWarning: loadtxt: Empty input file: \"yielded/di_RAD21cv-HEK293_TEV-treated_NA_2.20000.chrY_window80000_cutoff8.txt\"\n",
      "  del sys.path[0]\n",
      "C:\\Users\\Dmitry\\Anaconda3\\lib\\site-packages\\ipykernel_launcher.py:12: UserWarning: loadtxt: Empty input file: \"yielded/di_RAD21cv-HEK293_TEV-treated_NA_1.20000.chrY_window20000_cutoff9.txt\"\n",
      "  if sys.path[0] == '':\n",
      "C:\\Users\\Dmitry\\Anaconda3\\lib\\site-packages\\ipykernel_launcher.py:13: UserWarning: loadtxt: Empty input file: \"yielded/di_RAD21cv-HEK293_TEV-treated_NA_2.20000.chrY_window20000_cutoff9.txt\"\n",
      "  del sys.path[0]\n",
      "C:\\Users\\Dmitry\\Anaconda3\\lib\\site-packages\\ipykernel_launcher.py:12: UserWarning: loadtxt: Empty input file: \"yielded/di_RAD21cv-HEK293_TEV-treated_NA_1.20000.chrY_window40000_cutoff9.txt\"\n",
      "  if sys.path[0] == '':\n",
      "C:\\Users\\Dmitry\\Anaconda3\\lib\\site-packages\\ipykernel_launcher.py:13: UserWarning: loadtxt: Empty input file: \"yielded/di_RAD21cv-HEK293_TEV-treated_NA_2.20000.chrY_window40000_cutoff9.txt\"\n",
      "  del sys.path[0]\n",
      "C:\\Users\\Dmitry\\Anaconda3\\lib\\site-packages\\ipykernel_launcher.py:12: UserWarning: loadtxt: Empty input file: \"yielded/di_RAD21cv-HEK293_TEV-treated_NA_1.20000.chrY_window60000_cutoff9.txt\"\n",
      "  if sys.path[0] == '':\n",
      "C:\\Users\\Dmitry\\Anaconda3\\lib\\site-packages\\ipykernel_launcher.py:13: UserWarning: loadtxt: Empty input file: \"yielded/di_RAD21cv-HEK293_TEV-treated_NA_2.20000.chrY_window60000_cutoff9.txt\"\n",
      "  del sys.path[0]\n"
     ]
    },
    {
     "name": "stdout",
     "output_type": "stream",
     "text": [
      "\r",
      "di RAD21cv-HEK293_TEV-treated_NA_ Y      \r",
      "di RAD21cv-HEK293_TEV-treated_NA_ Y      \r",
      "di RAD21cv-HEK293_TEV-treated_NA_ Y      \r",
      "di RAD21cv-HEK293_TEV-treated_NA_ Y      "
     ]
    },
    {
     "name": "stderr",
     "output_type": "stream",
     "text": [
      "C:\\Users\\Dmitry\\Anaconda3\\lib\\site-packages\\ipykernel_launcher.py:12: UserWarning: loadtxt: Empty input file: \"yielded/di_RAD21cv-HEK293_TEV-treated_NA_1.20000.chrY_window80000_cutoff9.txt\"\n",
      "  if sys.path[0] == '':\n",
      "C:\\Users\\Dmitry\\Anaconda3\\lib\\site-packages\\ipykernel_launcher.py:13: UserWarning: loadtxt: Empty input file: \"yielded/di_RAD21cv-HEK293_TEV-treated_NA_2.20000.chrY_window80000_cutoff9.txt\"\n",
      "  del sys.path[0]\n",
      "C:\\Users\\Dmitry\\Anaconda3\\lib\\site-packages\\ipykernel_launcher.py:12: UserWarning: loadtxt: Empty input file: \"yielded/di_RAD21cv-HEK293_TEV-treated_NA_1.20000.chrY_window20000_cutoff10.txt\"\n",
      "  if sys.path[0] == '':\n",
      "C:\\Users\\Dmitry\\Anaconda3\\lib\\site-packages\\ipykernel_launcher.py:13: UserWarning: loadtxt: Empty input file: \"yielded/di_RAD21cv-HEK293_TEV-treated_NA_2.20000.chrY_window20000_cutoff10.txt\"\n",
      "  del sys.path[0]\n",
      "C:\\Users\\Dmitry\\Anaconda3\\lib\\site-packages\\ipykernel_launcher.py:12: UserWarning: loadtxt: Empty input file: \"yielded/di_RAD21cv-HEK293_TEV-treated_NA_1.20000.chrY_window40000_cutoff10.txt\"\n",
      "  if sys.path[0] == '':\n",
      "C:\\Users\\Dmitry\\Anaconda3\\lib\\site-packages\\ipykernel_launcher.py:13: UserWarning: loadtxt: Empty input file: \"yielded/di_RAD21cv-HEK293_TEV-treated_NA_2.20000.chrY_window40000_cutoff10.txt\"\n",
      "  del sys.path[0]\n",
      "C:\\Users\\Dmitry\\Anaconda3\\lib\\site-packages\\ipykernel_launcher.py:12: UserWarning: loadtxt: Empty input file: \"yielded/di_RAD21cv-HEK293_TEV-treated_NA_1.20000.chrY_window60000_cutoff10.txt\"\n",
      "  if sys.path[0] == '':\n",
      "C:\\Users\\Dmitry\\Anaconda3\\lib\\site-packages\\ipykernel_launcher.py:13: UserWarning: loadtxt: Empty input file: \"yielded/di_RAD21cv-HEK293_TEV-treated_NA_2.20000.chrY_window60000_cutoff10.txt\"\n",
      "  del sys.path[0]\n"
     ]
    },
    {
     "name": "stdout",
     "output_type": "stream",
     "text": [
      "\r",
      "di RAD21cv-HEK293_TEV-treated_NA_ Y      \r",
      "di RAD21cv-HEK293_TEV-treated_NA_ Y      \r",
      "di RAD21cv-HEK293_TEV-treated_NA_ Y      "
     ]
    },
    {
     "name": "stderr",
     "output_type": "stream",
     "text": [
      "C:\\Users\\Dmitry\\Anaconda3\\lib\\site-packages\\ipykernel_launcher.py:12: UserWarning: loadtxt: Empty input file: \"yielded/di_RAD21cv-HEK293_TEV-treated_NA_1.20000.chrY_window80000_cutoff10.txt\"\n",
      "  if sys.path[0] == '':\n",
      "C:\\Users\\Dmitry\\Anaconda3\\lib\\site-packages\\ipykernel_launcher.py:13: UserWarning: loadtxt: Empty input file: \"yielded/di_RAD21cv-HEK293_TEV-treated_NA_2.20000.chrY_window80000_cutoff10.txt\"\n",
      "  del sys.path[0]\n",
      "C:\\Users\\Dmitry\\Anaconda3\\lib\\site-packages\\ipykernel_launcher.py:12: UserWarning: loadtxt: Empty input file: \"yielded/di_RAD21cv-HEK293_TEV-treated_NA_1.20000.chrY_window20000_cutoff11.txt\"\n",
      "  if sys.path[0] == '':\n",
      "C:\\Users\\Dmitry\\Anaconda3\\lib\\site-packages\\ipykernel_launcher.py:13: UserWarning: loadtxt: Empty input file: \"yielded/di_RAD21cv-HEK293_TEV-treated_NA_2.20000.chrY_window20000_cutoff11.txt\"\n",
      "  del sys.path[0]\n",
      "C:\\Users\\Dmitry\\Anaconda3\\lib\\site-packages\\ipykernel_launcher.py:12: UserWarning: loadtxt: Empty input file: \"yielded/di_RAD21cv-HEK293_TEV-treated_NA_1.20000.chrY_window40000_cutoff11.txt\"\n",
      "  if sys.path[0] == '':\n",
      "C:\\Users\\Dmitry\\Anaconda3\\lib\\site-packages\\ipykernel_launcher.py:13: UserWarning: loadtxt: Empty input file: \"yielded/di_RAD21cv-HEK293_TEV-treated_NA_2.20000.chrY_window40000_cutoff11.txt\"\n",
      "  del sys.path[0]\n",
      "C:\\Users\\Dmitry\\Anaconda3\\lib\\site-packages\\ipykernel_launcher.py:12: UserWarning: loadtxt: Empty input file: \"yielded/di_RAD21cv-HEK293_TEV-treated_NA_1.20000.chrY_window60000_cutoff11.txt\"\n",
      "  if sys.path[0] == '':\n",
      "C:\\Users\\Dmitry\\Anaconda3\\lib\\site-packages\\ipykernel_launcher.py:13: UserWarning: loadtxt: Empty input file: \"yielded/di_RAD21cv-HEK293_TEV-treated_NA_2.20000.chrY_window60000_cutoff11.txt\"\n",
      "  del sys.path[0]\n"
     ]
    },
    {
     "name": "stdout",
     "output_type": "stream",
     "text": [
      "\r",
      "di RAD21cv-HEK293_TEV-treated_NA_ Y      \r",
      "di RAD21cv-HEK293_TEV-treated_NA_ Y      \r",
      "di RAD21cv-HEK293_TEV-treated_NA_ Y      \r",
      "di RAD21cv-HEK293_TEV-treated_NA_ Y      "
     ]
    },
    {
     "name": "stderr",
     "output_type": "stream",
     "text": [
      "C:\\Users\\Dmitry\\Anaconda3\\lib\\site-packages\\ipykernel_launcher.py:12: UserWarning: loadtxt: Empty input file: \"yielded/di_RAD21cv-HEK293_TEV-treated_NA_1.20000.chrY_window80000_cutoff11.txt\"\n",
      "  if sys.path[0] == '':\n",
      "C:\\Users\\Dmitry\\Anaconda3\\lib\\site-packages\\ipykernel_launcher.py:13: UserWarning: loadtxt: Empty input file: \"yielded/di_RAD21cv-HEK293_TEV-treated_NA_2.20000.chrY_window80000_cutoff11.txt\"\n",
      "  del sys.path[0]\n",
      "C:\\Users\\Dmitry\\Anaconda3\\lib\\site-packages\\ipykernel_launcher.py:12: UserWarning: loadtxt: Empty input file: \"yielded/di_RAD21cv-HEK293_TEV-treated_NA_1.20000.chrY_window20000_cutoff12.txt\"\n",
      "  if sys.path[0] == '':\n",
      "C:\\Users\\Dmitry\\Anaconda3\\lib\\site-packages\\ipykernel_launcher.py:13: UserWarning: loadtxt: Empty input file: \"yielded/di_RAD21cv-HEK293_TEV-treated_NA_2.20000.chrY_window20000_cutoff12.txt\"\n",
      "  del sys.path[0]\n",
      "C:\\Users\\Dmitry\\Anaconda3\\lib\\site-packages\\ipykernel_launcher.py:12: UserWarning: loadtxt: Empty input file: \"yielded/di_RAD21cv-HEK293_TEV-treated_NA_1.20000.chrY_window40000_cutoff12.txt\"\n",
      "  if sys.path[0] == '':\n",
      "C:\\Users\\Dmitry\\Anaconda3\\lib\\site-packages\\ipykernel_launcher.py:13: UserWarning: loadtxt: Empty input file: \"yielded/di_RAD21cv-HEK293_TEV-treated_NA_2.20000.chrY_window40000_cutoff12.txt\"\n",
      "  del sys.path[0]\n",
      "C:\\Users\\Dmitry\\Anaconda3\\lib\\site-packages\\ipykernel_launcher.py:12: UserWarning: loadtxt: Empty input file: \"yielded/di_RAD21cv-HEK293_TEV-treated_NA_1.20000.chrY_window60000_cutoff12.txt\"\n",
      "  if sys.path[0] == '':\n",
      "C:\\Users\\Dmitry\\Anaconda3\\lib\\site-packages\\ipykernel_launcher.py:13: UserWarning: loadtxt: Empty input file: \"yielded/di_RAD21cv-HEK293_TEV-treated_NA_2.20000.chrY_window60000_cutoff12.txt\"\n",
      "  del sys.path[0]\n"
     ]
    },
    {
     "name": "stdout",
     "output_type": "stream",
     "text": [
      "\r",
      "di RAD21cv-HEK293_TEV-treated_NA_ Y      \r",
      "di RAD21cv-HEK293_TEV-treated_NA_ Y      \r",
      "di RAD21cv-HEK293_TEV-treated_NA_ Y      \r",
      "di RAD21cv-HEK293_TEV-treated_NA_ Y      "
     ]
    },
    {
     "name": "stderr",
     "output_type": "stream",
     "text": [
      "C:\\Users\\Dmitry\\Anaconda3\\lib\\site-packages\\ipykernel_launcher.py:12: UserWarning: loadtxt: Empty input file: \"yielded/di_RAD21cv-HEK293_TEV-treated_NA_1.20000.chrY_window80000_cutoff12.txt\"\n",
      "  if sys.path[0] == '':\n",
      "C:\\Users\\Dmitry\\Anaconda3\\lib\\site-packages\\ipykernel_launcher.py:13: UserWarning: loadtxt: Empty input file: \"yielded/di_RAD21cv-HEK293_TEV-treated_NA_2.20000.chrY_window80000_cutoff12.txt\"\n",
      "  del sys.path[0]\n",
      "C:\\Users\\Dmitry\\Anaconda3\\lib\\site-packages\\ipykernel_launcher.py:12: UserWarning: loadtxt: Empty input file: \"yielded/di_RAD21cv-HEK293_TEV-treated_NA_1.20000.chrY_window20000_cutoff13.txt\"\n",
      "  if sys.path[0] == '':\n",
      "C:\\Users\\Dmitry\\Anaconda3\\lib\\site-packages\\ipykernel_launcher.py:13: UserWarning: loadtxt: Empty input file: \"yielded/di_RAD21cv-HEK293_TEV-treated_NA_2.20000.chrY_window20000_cutoff13.txt\"\n",
      "  del sys.path[0]\n",
      "C:\\Users\\Dmitry\\Anaconda3\\lib\\site-packages\\ipykernel_launcher.py:12: UserWarning: loadtxt: Empty input file: \"yielded/di_RAD21cv-HEK293_TEV-treated_NA_1.20000.chrY_window40000_cutoff13.txt\"\n",
      "  if sys.path[0] == '':\n",
      "C:\\Users\\Dmitry\\Anaconda3\\lib\\site-packages\\ipykernel_launcher.py:13: UserWarning: loadtxt: Empty input file: \"yielded/di_RAD21cv-HEK293_TEV-treated_NA_2.20000.chrY_window40000_cutoff13.txt\"\n",
      "  del sys.path[0]\n",
      "C:\\Users\\Dmitry\\Anaconda3\\lib\\site-packages\\ipykernel_launcher.py:12: UserWarning: loadtxt: Empty input file: \"yielded/di_RAD21cv-HEK293_TEV-treated_NA_1.20000.chrY_window60000_cutoff13.txt\"\n",
      "  if sys.path[0] == '':\n",
      "C:\\Users\\Dmitry\\Anaconda3\\lib\\site-packages\\ipykernel_launcher.py:13: UserWarning: loadtxt: Empty input file: \"yielded/di_RAD21cv-HEK293_TEV-treated_NA_2.20000.chrY_window60000_cutoff13.txt\"\n",
      "  del sys.path[0]\n"
     ]
    },
    {
     "name": "stdout",
     "output_type": "stream",
     "text": [
      "\r",
      "di RAD21cv-HEK293_TEV-treated_NA_ Y      \r",
      "di RAD21cv-HEK293_TEV-treated_NA_ Y      \r",
      "di RAD21cv-HEK293_TEV-treated_NA_ Y      \r",
      "di RAD21cv-HEK293_TEV-treated_NA_ Y      "
     ]
    },
    {
     "name": "stderr",
     "output_type": "stream",
     "text": [
      "C:\\Users\\Dmitry\\Anaconda3\\lib\\site-packages\\ipykernel_launcher.py:12: UserWarning: loadtxt: Empty input file: \"yielded/di_RAD21cv-HEK293_TEV-treated_NA_1.20000.chrY_window80000_cutoff13.txt\"\n",
      "  if sys.path[0] == '':\n",
      "C:\\Users\\Dmitry\\Anaconda3\\lib\\site-packages\\ipykernel_launcher.py:13: UserWarning: loadtxt: Empty input file: \"yielded/di_RAD21cv-HEK293_TEV-treated_NA_2.20000.chrY_window80000_cutoff13.txt\"\n",
      "  del sys.path[0]\n",
      "C:\\Users\\Dmitry\\Anaconda3\\lib\\site-packages\\ipykernel_launcher.py:12: UserWarning: loadtxt: Empty input file: \"yielded/di_RAD21cv-HEK293_TEV-treated_NA_1.20000.chrY_window20000_cutoff14.txt\"\n",
      "  if sys.path[0] == '':\n",
      "C:\\Users\\Dmitry\\Anaconda3\\lib\\site-packages\\ipykernel_launcher.py:13: UserWarning: loadtxt: Empty input file: \"yielded/di_RAD21cv-HEK293_TEV-treated_NA_2.20000.chrY_window20000_cutoff14.txt\"\n",
      "  del sys.path[0]\n",
      "C:\\Users\\Dmitry\\Anaconda3\\lib\\site-packages\\ipykernel_launcher.py:12: UserWarning: loadtxt: Empty input file: \"yielded/di_RAD21cv-HEK293_TEV-treated_NA_1.20000.chrY_window40000_cutoff14.txt\"\n",
      "  if sys.path[0] == '':\n",
      "C:\\Users\\Dmitry\\Anaconda3\\lib\\site-packages\\ipykernel_launcher.py:13: UserWarning: loadtxt: Empty input file: \"yielded/di_RAD21cv-HEK293_TEV-treated_NA_2.20000.chrY_window40000_cutoff14.txt\"\n",
      "  del sys.path[0]\n",
      "C:\\Users\\Dmitry\\Anaconda3\\lib\\site-packages\\ipykernel_launcher.py:12: UserWarning: loadtxt: Empty input file: \"yielded/di_RAD21cv-HEK293_TEV-treated_NA_1.20000.chrY_window60000_cutoff14.txt\"\n",
      "  if sys.path[0] == '':\n",
      "C:\\Users\\Dmitry\\Anaconda3\\lib\\site-packages\\ipykernel_launcher.py:13: UserWarning: loadtxt: Empty input file: \"yielded/di_RAD21cv-HEK293_TEV-treated_NA_2.20000.chrY_window60000_cutoff14.txt\"\n",
      "  del sys.path[0]\n"
     ]
    },
    {
     "name": "stdout",
     "output_type": "stream",
     "text": [
      "di RAD21cv-HEK293_TEV-treated_NA_ Y      "
     ]
    },
    {
     "name": "stderr",
     "output_type": "stream",
     "text": [
      "C:\\Users\\Dmitry\\Anaconda3\\lib\\site-packages\\ipykernel_launcher.py:12: UserWarning: loadtxt: Empty input file: \"yielded/di_RAD21cv-HEK293_TEV-treated_NA_1.20000.chrY_window80000_cutoff14.txt\"\n",
      "  if sys.path[0] == '':\n",
      "C:\\Users\\Dmitry\\Anaconda3\\lib\\site-packages\\ipykernel_launcher.py:13: UserWarning: loadtxt: Empty input file: \"yielded/di_RAD21cv-HEK293_TEV-treated_NA_2.20000.chrY_window80000_cutoff14.txt\"\n",
      "  del sys.path[0]\n",
      "C:\\Users\\Dmitry\\Anaconda3\\lib\\site-packages\\ipykernel_launcher.py:12: UserWarning: loadtxt: Empty input file: \"yielded/di_RAD21cv-HEK293_TEV-treated_NA_1.20000.chrY_window20000_cutoff15.txt\"\n",
      "  if sys.path[0] == '':\n",
      "C:\\Users\\Dmitry\\Anaconda3\\lib\\site-packages\\ipykernel_launcher.py:13: UserWarning: loadtxt: Empty input file: \"yielded/di_RAD21cv-HEK293_TEV-treated_NA_2.20000.chrY_window20000_cutoff15.txt\"\n",
      "  del sys.path[0]\n",
      "C:\\Users\\Dmitry\\Anaconda3\\lib\\site-packages\\ipykernel_launcher.py:12: UserWarning: loadtxt: Empty input file: \"yielded/di_RAD21cv-HEK293_TEV-treated_NA_1.20000.chrY_window40000_cutoff15.txt\"\n",
      "  if sys.path[0] == '':\n",
      "C:\\Users\\Dmitry\\Anaconda3\\lib\\site-packages\\ipykernel_launcher.py:13: UserWarning: loadtxt: Empty input file: \"yielded/di_RAD21cv-HEK293_TEV-treated_NA_2.20000.chrY_window40000_cutoff15.txt\"\n",
      "  del sys.path[0]\n",
      "C:\\Users\\Dmitry\\Anaconda3\\lib\\site-packages\\ipykernel_launcher.py:12: UserWarning: loadtxt: Empty input file: \"yielded/di_RAD21cv-HEK293_TEV-treated_NA_1.20000.chrY_window60000_cutoff15.txt\"\n",
      "  if sys.path[0] == '':\n",
      "C:\\Users\\Dmitry\\Anaconda3\\lib\\site-packages\\ipykernel_launcher.py:13: UserWarning: loadtxt: Empty input file: \"yielded/di_RAD21cv-HEK293_TEV-treated_NA_2.20000.chrY_window60000_cutoff15.txt\"\n",
      "  del sys.path[0]\n"
     ]
    },
    {
     "name": "stdout",
     "output_type": "stream",
     "text": [
      "\r",
      "di RAD21cv-HEK293_TEV-treated_NA_ Y      "
     ]
    },
    {
     "name": "stderr",
     "output_type": "stream",
     "text": [
      "C:\\Users\\Dmitry\\Anaconda3\\lib\\site-packages\\ipykernel_launcher.py:12: UserWarning: loadtxt: Empty input file: \"yielded/di_RAD21cv-HEK293_TEV-treated_NA_1.20000.chrY_window80000_cutoff15.txt\"\n",
      "  if sys.path[0] == '':\n",
      "C:\\Users\\Dmitry\\Anaconda3\\lib\\site-packages\\ipykernel_launcher.py:13: UserWarning: loadtxt: Empty input file: \"yielded/di_RAD21cv-HEK293_TEV-treated_NA_2.20000.chrY_window80000_cutoff15.txt\"\n",
      "  del sys.path[0]\n"
     ]
    },
    {
     "data": {
      "image/png": "[encoded data removed]",
      "text/plain": [
       "<matplotlib.figure.Figure at 0x1d894be4198>"
      ]
     },
     "metadata": {},
     "output_type": "display_data"
    }
   ],
   "source": [
    "# Inspect initial results for di\n",
    "di_stats = pd.DataFrame(index=range(len(chroms) * len(di_cutoff_values) * len(di_window_values) * len(repls) * len(compare_stats)), columns=[\"repl\", \"chrom\", \"cutoff\", \"window\", \"value\", \"stat\", \"tad_size\", \"amount\"])\n",
    "index = 0\n",
    "for line in lines:\n",
    "    for chrom in chroms:\n",
    "        for cutoff in di_cutoff_values:\n",
    "            for window in di_window_values:\n",
    "                if line == \"A549_NA_NA_\":\n",
    "                    continue\n",
    "                print(f\"\\rdi {line} {chrom}      \", end=\"\")\n",
    "                empty_1, empty_2 = False, False\n",
    "                repl_1 = np.loadtxt(f\"{out_location}di_{line}{1}.20000.chr{chrom}_window{window}_cutoff{cutoff}.txt\", ndmin=2)\n",
    "                repl_2 = np.loadtxt(f\"{out_location}di_{line}{2}.20000.chr{chrom}_window{window}_cutoff{cutoff}.txt\", ndmin=2)\n",
    "\n",
    "                if repl_1.shape[0] == 0:\n",
    "                    for stat in compare_stats:\n",
    "                        di_stats.loc[index, :] = [1, chrom, cutoff, window, 0, stat, 0, 0]\n",
    "                        index += 1\n",
    "                    empty_1 = True\n",
    "\n",
    "                if repl_2.shape[0] == 0:\n",
    "                    for stat in compare_stats:\n",
    "                        di_stats.loc[index, :] = [2, chrom, cutoff, window, 0, stat, 0, 0]\n",
    "                        index += 1\n",
    "                    empty_2 = True\n",
    "\n",
    "                if empty_1 * empty_2:\n",
    "                    continue\n",
    "\n",
    "                elif empty_1:\n",
    "                    size_2 = np.median(repl_2[:, 1] - repl_2[:, 0])\n",
    "                    for stat in compare_stats:\n",
    "                        di_stats.loc[index, :] = [2, chrom, cutoff, window, 0, stat, size_2, repl_2.shape[0]]\n",
    "                        index += 1\n",
    "                    continue\n",
    "\n",
    "                elif empty_2:\n",
    "                    size_1 = np.median(repl_1[:, 1] - repl_1[:, 0])\n",
    "                    for stat in compare_stats:\n",
    "                        di_stats.loc[index, :] = [1, chrom, cutoff, window, 0, stat, size_1, repl_1.shape[0]]\n",
    "                        index += 1\n",
    "                    continue\n",
    "\n",
    "                coordinates = (repl_1[:, 0], repl_1[:, 1], repl_2[:, 0], repl_2[:, 1])\n",
    "                size_amo = size_amount(repl_1, repl_2)\n",
    "                for repl in repls:\n",
    "                    for stat in compare_stats:\n",
    "                        di_stats.loc[index, :] = [repl, chrom, cutoff, window, coefs[stat](*coordinates), stat, size_amo[repl][\"size\"], size_amo[repl][\"amount\"]]\n",
    "                        index += 1\n",
    "    if line == \"A549_NA_NA_\":\n",
    "        continue\n",
    "    di_stats[\"cutoff\"] = np.array(di_stats[\"cutoff\"], dtype=float)\n",
    "    di_stats[\"window\"] = np.array(di_stats[\"window\"], dtype=float)\n",
    "    di_stats[\"tad_size\"] = np.array(di_stats[\"tad_size\"], dtype=float)\n",
    "    di_stats[\"amount\"] = np.array(di_stats[\"amount\"], dtype=float)\n",
    "    di_stats[\"value\"] = np.array(di_stats[\"value\"], dtype=float)               \n",
    "    mpl.rcParams['figure.figsize'] = [30, 12]\n",
    "    plt.subplot(231)\n",
    "    sns.heatmap(data=di_stats[di_stats[\"stat\"] == \"JI TADs\"].pivot_table(index=[\"window\"], columns=[\"cutoff\"], values=\"value\"), center=0.5, linewidths=.5, vmin=0, vmax=1)\n",
    "    plt.title(\"Directionality index: JI of TADs between two replica\")\n",
    "    plt.subplot(232)\n",
    "    sns.heatmap(data=di_stats[di_stats[\"stat\"] == \"JI boundaries\"].pivot_table(index=[\"window\"], columns=[\"cutoff\"], values=\"value\"), center=0.5, linewidths=.5, vmin=0, vmax=1)\n",
    "    plt.title(\"Directionality index: JI of boundaries between two replica\")\n",
    "    plt.subplot(233)\n",
    "    sns.heatmap(data=di_stats.pivot_table(index=[\"window\"], columns=[\"cutoff\"], values=\"tad_size\"), center=1700000, linewidths=.5, vmin=0)\n",
    "    plt.title(\"Directionality index: mean size of TADs\")\n",
    "    plt.subplot(234)\n",
    "    sns.heatmap(data=di_stats[di_stats[\"stat\"] == \"OC TADs\"].pivot_table(index=[\"window\"], columns=[\"cutoff\"], values=\"value\"), center=0.5, linewidths=.5, vmin=0, vmax=1)\n",
    "    plt.title(\"Directionality index: OC of TADs between two replica\")\n",
    "    plt.subplot(235)\n",
    "    sns.heatmap(data=di_stats[di_stats[\"stat\"] == \"OC boundaries\"].pivot_table(index=[\"window\"], columns=[\"cutoff\"], values=\"value\"), center=0.5, linewidths=.5, vmin=0, vmax=1)\n",
    "    plt.title(\"Directionality index: OC of boundaries between two replica\")\n",
    "    plt.subplot(236)\n",
    "    sns.heatmap(data=di_stats.pivot_table(index=[\"window\"], columns=[\"cutoff\"], values=\"amount\"), center=500, linewidths=.5, vmin=0)\n",
    "    plt.title(\"Directionality index: mean amount of TADs\")\n",
    "    plt.savefig(f\"{images}di_1{line}initial.png\", bbox_inches='tight')\n",
    "    plt.clf()\n",
    "    plt.cla()"
   ]
  },
  {
   "cell_type": "code",
   "execution_count": 137,
   "metadata": {
    "scrolled": true
   },
   "outputs": [
    {
     "name": "stdout",
     "output_type": "stream",
     "text": [
      "\r",
      "hicseg A549_NA_NA_ 15      \r",
      "hicseg A549_NA_NA_ 16      \r",
      "hicseg A549_NA_NA_ 17      \r",
      "hicseg A549_NA_NA_ 18      \r",
      "hicseg A549_NA_NA_ 19      \r",
      "hicseg A549_NA_NA_ 20      \r",
      "hicseg A549_NA_NA_ 21      \r",
      "hicseg A549_NA_NA_ 22      \r",
      "hicseg A549_NA_NA_ Y      "
     ]
    },
    {
     "name": "stderr",
     "output_type": "stream",
     "text": [
      "C:\\Users\\Dmitry\\Anaconda3\\lib\\site-packages\\ipykernel_launcher.py:7: UserWarning: loadtxt: Empty input file: \"yielded/hicseg_A549_NA_NA_1.20000.chr22.txt\"\n",
      "  import sys\n",
      "C:\\Users\\Dmitry\\Anaconda3\\lib\\site-packages\\ipykernel_launcher.py:8: UserWarning: loadtxt: Empty input file: \"yielded/hicseg_A549_NA_NA_2.20000.chr22.txt\"\n",
      "  \n"
     ]
    },
    {
     "name": "stdout",
     "output_type": "stream",
     "text": [
      "hicseg HEK293_siRNA-CTCF_NA_ Y       "
     ]
    },
    {
     "name": "stderr",
     "output_type": "stream",
     "text": [
      "C:\\Users\\Dmitry\\Anaconda3\\lib\\site-packages\\ipykernel_launcher.py:7: UserWarning: loadtxt: Empty input file: \"yielded/hicseg_HEK293_siRNA-CTCF_NA_1.20000.chr22.txt\"\n",
      "  import sys\n",
      "C:\\Users\\Dmitry\\Anaconda3\\lib\\site-packages\\ipykernel_launcher.py:8: UserWarning: loadtxt: Empty input file: \"yielded/hicseg_HEK293_siRNA-CTCF_NA_2.20000.chr22.txt\"\n",
      "  \n"
     ]
    },
    {
     "name": "stdout",
     "output_type": "stream",
     "text": [
      "hicseg HEK293_siRNA-Control_NA_ Y       "
     ]
    },
    {
     "name": "stderr",
     "output_type": "stream",
     "text": [
      "C:\\Users\\Dmitry\\Anaconda3\\lib\\site-packages\\ipykernel_launcher.py:7: UserWarning: loadtxt: Empty input file: \"yielded/hicseg_HEK293_siRNA-Control_NA_1.20000.chr22.txt\"\n",
      "  import sys\n",
      "C:\\Users\\Dmitry\\Anaconda3\\lib\\site-packages\\ipykernel_launcher.py:8: UserWarning: loadtxt: Empty input file: \"yielded/hicseg_HEK293_siRNA-Control_NA_2.20000.chr22.txt\"\n",
      "  \n"
     ]
    },
    {
     "name": "stdout",
     "output_type": "stream",
     "text": [
      "hicseg HepG2_NA_NA_ Y       "
     ]
    },
    {
     "name": "stderr",
     "output_type": "stream",
     "text": [
      "C:\\Users\\Dmitry\\Anaconda3\\lib\\site-packages\\ipykernel_launcher.py:7: UserWarning: loadtxt: Empty input file: \"yielded/hicseg_HepG2_NA_NA_1.20000.chr22.txt\"\n",
      "  import sys\n",
      "C:\\Users\\Dmitry\\Anaconda3\\lib\\site-packages\\ipykernel_launcher.py:8: UserWarning: loadtxt: Empty input file: \"yielded/hicseg_HepG2_NA_NA_2.20000.chr22.txt\"\n",
      "  \n"
     ]
    },
    {
     "name": "stdout",
     "output_type": "stream",
     "text": [
      "hicseg RAD21cv-HEK293_HRV-treated_NA_ Y       "
     ]
    },
    {
     "name": "stderr",
     "output_type": "stream",
     "text": [
      "C:\\Users\\Dmitry\\Anaconda3\\lib\\site-packages\\ipykernel_launcher.py:7: UserWarning: loadtxt: Empty input file: \"yielded/hicseg_RAD21cv-HEK293_HRV-treated_NA_1.20000.chr22.txt\"\n",
      "  import sys\n",
      "C:\\Users\\Dmitry\\Anaconda3\\lib\\site-packages\\ipykernel_launcher.py:8: UserWarning: loadtxt: Empty input file: \"yielded/hicseg_RAD21cv-HEK293_HRV-treated_NA_2.20000.chr22.txt\"\n",
      "  \n"
     ]
    },
    {
     "name": "stdout",
     "output_type": "stream",
     "text": [
      "hicseg RAD21cv-HEK293_TEV-treated_NA_ Y       "
     ]
    },
    {
     "name": "stderr",
     "output_type": "stream",
     "text": [
      "C:\\Users\\Dmitry\\Anaconda3\\lib\\site-packages\\ipykernel_launcher.py:7: UserWarning: loadtxt: Empty input file: \"yielded/hicseg_RAD21cv-HEK293_TEV-treated_NA_1.20000.chr22.txt\"\n",
      "  import sys\n",
      "C:\\Users\\Dmitry\\Anaconda3\\lib\\site-packages\\ipykernel_launcher.py:8: UserWarning: loadtxt: Empty input file: \"yielded/hicseg_RAD21cv-HEK293_TEV-treated_NA_2.20000.chr22.txt\"\n",
      "  \n"
     ]
    },
    {
     "data": {
      "image/png": "[encoded data removed]",
      "text/plain": [
       "<matplotlib.figure.Figure at 0x1d880411e80>"
      ]
     },
     "metadata": {},
     "output_type": "display_data"
    }
   ],
   "source": [
    "hicseg_stats = pd.DataFrame(index=range(len(chroms) * len(repls) * len(compare_stats)), columns=[\"repl\", \"chrom\", \"value\", \"stat\", \"tad_size\", \"amount\"])\n",
    "index = 0\n",
    "for line in lines:\n",
    "    for chrom in chroms:\n",
    "        print(f\"\\rhicseg {line} {chrom}      \", end=\"\")\n",
    "        empty_1, empty_2 = False, False\n",
    "        repl_1 = np.loadtxt(f\"{out_location}hicseg_{line}{1}.20000.chr{chrom}.txt\", ndmin=2)\n",
    "        repl_2 = np.loadtxt(f\"{out_location}hicseg_{line}{2}.20000.chr{chrom}.txt\", ndmin=2)\n",
    "\n",
    "        if repl_1.shape[0] == 0:\n",
    "            for stat in compare_stats:\n",
    "                hicseg_stats.loc[index, :] = [1, chrom, 0, stat, 0, 0]\n",
    "                index += 1\n",
    "            empty_1 = True\n",
    "\n",
    "        if repl_2.shape[0] == 0:\n",
    "            for stat in compare_stats:\n",
    "                hicseg_stats.loc[index, :] = [2, chrom, 0, stat, 0, 0]\n",
    "                index += 1\n",
    "            empty_2 = True\n",
    "\n",
    "        if empty_1 * empty_2:\n",
    "            continue\n",
    "\n",
    "        elif empty_1:\n",
    "            size_2 = np.median(repl_2[:, 1] - repl_2[:, 0])\n",
    "            for stat in compare_stats:\n",
    "                hicseg_stats.loc[index, :] = [2, chrom, 0, stat, size_2, repl_2.shape[0]]\n",
    "                index += 1\n",
    "            continue\n",
    "\n",
    "        elif empty_2:\n",
    "            size_1 = np.median(repl_1[:, 1] - repl_1[:, 0])\n",
    "            for stat in compare_stats:\n",
    "                hicseg_stats.loc[index, :] = [1, chrom, 0, stat, size_1, repl_1.shape[0]]\n",
    "                index += 1\n",
    "            continue\n",
    "\n",
    "        coordinates = (repl_1[:, 0], repl_1[:, 1], repl_2[:, 0], repl_2[:, 1])\n",
    "        size_amo = size_amount(repl_1, repl_2)\n",
    "        for repl in repls:\n",
    "            for stat in compare_stats:\n",
    "                hicseg_stats.loc[index, :] = [repl, window, coefs[stat](*coordinates), stat, size_amo[repl][\"size\"], size_amo[repl][\"amount\"]]\n",
    "                index += 1\n",
    "    mpl.rcParams['figure.figsize'] = [30, 12]\n",
    "    plt.subplot(231)\n",
    "    sns.kdeplot(di_stats[\"value\"][di_stats[\"stat\"] == \"JI TADs\"], shade=True, color=\"blue\")\n",
    "    plt.title(\"HiCseg: JI of TADs between two replica\")\n",
    "    plt.subplot(232)\n",
    "    sns.kdeplot(di_stats[\"value\"][di_stats[\"stat\"] == \"JI boundaries\"], shade=True, color=\"green\")\n",
    "    plt.title(\"HiCseg: JI of boundaries between two replica\")\n",
    "    plt.subplot(233)\n",
    "    sns.kdeplot(di_stats[\"tad_size\"][di_stats[\"repl\"] == 1], di_stats[\"tad_size\"][di_stats[\"repl\"] == 2], shade=True)\n",
    "    plt.title(\"HiCseg: mean size of TADs\")\n",
    "    plt.xlim(0, 1000000)\n",
    "    plt.ylim(0, 1000000)\n",
    "    plt.subplot(234)\n",
    "    sns.kdeplot(di_stats[\"value\"][di_stats[\"stat\"] == \"OC TADs\"], shade=True, color=\"red\")\n",
    "    plt.title(\"HiCseg: OC of TADs between two replica\")\n",
    "    plt.subplot(235)\n",
    "    sns.kdeplot(di_stats[\"value\"][di_stats[\"stat\"] == \"OC boundaries\"], shade=True, color=\"purple\")\n",
    "    plt.title(\"HiCseg: OC of boundaries between two replica\")\n",
    "    plt.subplot(236)\n",
    "    sns.kdeplot(di_stats[\"amount\"][di_stats[\"repl\"] == 1], di_stats[\"amount\"][di_stats[\"repl\"] == 2], shade=True)\n",
    "    plt.title(\"HiCseg: amount of TADs\")\n",
    "    plt.xlim(0, 200)\n",
    "    plt.ylim(0, 200)\n",
    "    plt.savefig(f\"{images}hicseg_{line}initial.png\", bbox_inches='tight')\n",
    "    plt.clf()\n",
    "    plt.cla()"
   ]
  },
  {
   "cell_type": "code",
   "execution_count": 187,
   "metadata": {},
   "outputs": [],
   "source": [
    "ideals = [lava_armatus_stats[(lava_armatus_stats[\"gamma\"] <= 0) & (-1.5 <= lava_armatus_stats[\"gamma\"])].loc[:, [\"value\", \"stat\", \"tad_size\", \"amount\"]],\n",
    "          armatus_stats[(armatus_stats[\"gamma\"] <= 0.5) & (-0.5 <= armatus_stats[\"gamma\"])].loc[:, [\"value\", \"stat\", \"tad_size\", \"amount\"]],\n",
    "          modularity_stats[modularity_stats[\"gamma\"] == 1].loc[:, [\"value\", \"stat\", \"tad_size\", \"amount\"]],\n",
    "          corner_stats[corner_stats[\"gamma\"] == 2].loc[:, [\"value\", \"stat\", \"tad_size\", \"amount\"]],\n",
    "          hicseg_stats.loc[:, [\"value\", \"stat\", \"tad_size\", \"amount\"]],\n",
    "          ii_stats[(ii_stats[\"cutoff\"] == 1) & (ii_stats[\"window\"] == 40000)].loc[:, [\"value\", \"stat\", \"tad_size\", \"amount\"]],\n",
    "          di_stats[(di_stats[\"cutoff\"] == 8) & (di_stats[\"window\"] == 60000)].loc[:, [\"value\", \"stat\", \"tad_size\", \"amount\"]]\n",
    "         ]"
   ]
  },
  {
   "cell_type": "code",
   "execution_count": 196,
   "metadata": {},
   "outputs": [],
   "source": [
    "size = sum([i.shape[0] for i in ideals])\n",
    "ideal_stats = pd.DataFrame(index=range(size), columns=[\"method\", \"value\", \"stat\", \"tad_size\", \"amount\"])\n",
    "methods = [\"Armatus\\nlavaburst\", \"Armatus\\nstandalone\", \"Modularity\", \"Corner\", \"HiCseg\", \"Insulation\\nScore\", \"Directionality\\nindex\"]\n",
    "start = 0\n",
    "i = 0\n",
    "for method in ideals:\n",
    "    end = start + method.shape[0] - 1\n",
    "    ideal_stats.loc[start:end, \"value\":] = np.array(method, dtype=object)\n",
    "    ideal_stats.loc[start:end, \"method\"] = methods[i]\n",
    "    start += method.shape[0]\n",
    "    i += 1\n",
    "ideal_stats[\"amount\"] = np.array(ideal_stats[\"amount\"], dtype=float)\n",
    "ideal_stats[\"value\"] = np.array(ideal_stats[\"value\"], dtype=float)"
   ]
  },
  {
   "cell_type": "code",
   "execution_count": 237,
   "metadata": {},
   "outputs": [
    {
     "data": {
      "image/png": "[encoded data removed]",
      "text/plain": [
       "<matplotlib.figure.Figure at 0x1d89c9e4898>"
      ]
     },
     "metadata": {},
     "output_type": "display_data"
    }
   ],
   "source": [
    "ideal_stats[\"tad_size\"] = np.array(ideal_stats[\"tad_size\"], dtype=float)\n",
    "mpl.rcParams['figure.figsize'] = [10, 6]\n",
    "sns.set_palette(sns.color_palette(\"hls\", 7))\n",
    "sns.boxplot(data=ideal_stats, x=\"method\", y=\"tad_size\")\n",
    "plt.title(\"Distribution of mean sizes of TADs for methods with best parameters\")\n",
    "plt.ylim(0, 2000000)\n",
    "plt.savefig(f\"{images}sizes_best_all.png\")"
   ]
  },
  {
   "cell_type": "code",
   "execution_count": 230,
   "metadata": {},
   "outputs": [
    {
     "data": {
      "image/png": "[encoded data removed]",
      "text/plain": [
       "<matplotlib.figure.Figure at 0x1d89a778358>"
      ]
     },
     "metadata": {},
     "output_type": "display_data"
    }
   ],
   "source": [
    "mpl.rcParams['figure.figsize'] = [10, 6]\n",
    "sns.set_palette(sns.color_palette(\"hls\", 7))\n",
    "sns.boxplot(data=ideal_stats, x=\"method\", y=\"amount\")\n",
    "plt.title(\"Distribution of amount of TADs for methods with best parameters\")\n",
    "plt.ylim(0, 2000)\n",
    "plt.savefig(f\"{images}amounts_best_all.png\")"
   ]
  },
  {
   "cell_type": "code",
   "execution_count": 227,
   "metadata": {},
   "outputs": [
    {
     "data": {
      "image/png": "[encoded data removed]",
      "text/plain": [
       "<matplotlib.figure.Figure at 0x1d89a644cc0>"
      ]
     },
     "metadata": {},
     "output_type": "display_data"
    }
   ],
   "source": [
    "mpl.rcParams['figure.figsize'] = [20, 12]\n",
    "sns.set_palette(sns.color_palette(\"hls\", 7))\n",
    "plt.subplot(221)\n",
    "sns.boxplot(data=ideal_stats[ideal_stats[\"stat\"] == \"JI TADs\"], x=\"method\", y=\"value\")\n",
    "plt.title(\"JI of TADs across methods with best parameters\")\n",
    "plt.subplot(222)\n",
    "sns.boxplot(data=ideal_stats[ideal_stats[\"stat\"] == \"JI boundaries\"], x=\"method\", y=\"value\")\n",
    "plt.title(\"JI of boundaries across methods with best parameters\")\n",
    "plt.subplot(223)\n",
    "sns.boxplot(data=ideal_stats[ideal_stats[\"stat\"] == \"OC TADs\"], x=\"method\", y=\"value\")\n",
    "plt.title(\"OC of TADs across methods with best parameters\")\n",
    "plt.subplot(224)\n",
    "sns.boxplot(data=ideal_stats[ideal_stats[\"stat\"] == \"OC boundaries\"], x=\"method\", y=\"value\")\n",
    "plt.title(\"OC of boundaries across methods with best parameters\")\n",
    "plt.savefig(f\"{images}stats_best_all.png\")"
   ]
  }
 ],
 "metadata": {
  "kernelspec": {
   "display_name": "Python 3",
   "language": "python",
   "name": "python3"
  },
  "language_info": {
   "codemirror_mode": {
    "name": "ipython",
    "version": 3
   },
   "file_extension": ".py",
   "mimetype": "text/x-python",
   "name": "python",
   "nbconvert_exporter": "python",
   "pygments_lexer": "ipython3",
   "version": "3.6.4"
  }
 },
 "nbformat": 4,
 "nbformat_minor": 2
}
